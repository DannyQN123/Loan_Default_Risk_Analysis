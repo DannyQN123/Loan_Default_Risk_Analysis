{
  "nbformat": 4,
  "nbformat_minor": 0,
  "metadata": {
    "colab": {
      "provenance": [],
      "gpuType": "T4",
      "toc_visible": true
    },
    "kernelspec": {
      "name": "python3",
      "display_name": "Python 3"
    },
    "language_info": {
      "name": "python"
    },
    "accelerator": "GPU"
  },
  "cells": [
    {
      "cell_type": "code",
      "execution_count": null,
      "metadata": {
        "colab": {
          "base_uri": "https://localhost:8080/"
        },
        "id": "XDusZoUe9xmj",
        "outputId": "b1c1e5f4-f327-40b0-d07c-02c55e2dd768"
      },
      "outputs": [
        {
          "output_type": "stream",
          "name": "stdout",
          "text": [
            "Mounted at /content/drive\n"
          ]
        }
      ],
      "source": [
        "from google.colab import drive\n",
        "drive.mount('/content/drive')"
      ]
    },
    {
      "cell_type": "markdown",
      "source": [
        "# Import Libraries"
      ],
      "metadata": {
        "id": "qWDmCoWzBL5o"
      }
    },
    {
      "cell_type": "code",
      "source": [
        "import pandas as pd\n",
        "import numpy as np\n",
        "\n",
        "# sklearn preprocessing for dealing with categorical variables\n",
        "from sklearn.preprocessing import LabelEncoder\n",
        "\n",
        "# sklearn impute for dealing with na values\n",
        "from sklearn.impute import SimpleImputer\n",
        "\n",
        "# matplotlib and seaborn for plotting\n",
        "import matplotlib.pyplot as plt\n",
        "import seaborn as sns\n",
        "sns.set()"
      ],
      "metadata": {
        "id": "4LPVEvkdBK-r"
      },
      "execution_count": null,
      "outputs": []
    },
    {
      "cell_type": "markdown",
      "source": [
        "# Import Datasets"
      ],
      "metadata": {
        "id": "xOxT9lr8_1XC"
      }
    },
    {
      "cell_type": "code",
      "source": [
        "application_test_raw = pd.read_csv('/content/drive/MyDrive/HC_default_risk/application_test.csv')\n",
        "application_test_raw.head(3)"
      ],
      "metadata": {
        "colab": {
          "base_uri": "https://localhost:8080/",
          "height": 237
        },
        "id": "aBFqMbeM93Gx",
        "outputId": "8e2bb02f-3c88-4dc9-fdc1-5230fa2f1b59"
      },
      "execution_count": null,
      "outputs": [
        {
          "output_type": "execute_result",
          "data": {
            "text/plain": [
              "   SK_ID_CURR NAME_CONTRACT_TYPE CODE_GENDER FLAG_OWN_CAR FLAG_OWN_REALTY  \\\n",
              "0      100001         Cash loans           F            N               Y   \n",
              "1      100005         Cash loans           M            N               Y   \n",
              "2      100013         Cash loans           M            Y               Y   \n",
              "\n",
              "   CNT_CHILDREN  AMT_INCOME_TOTAL  AMT_CREDIT  AMT_ANNUITY  AMT_GOODS_PRICE  \\\n",
              "0             0          135000.0    568800.0      20560.5         450000.0   \n",
              "1             0           99000.0    222768.0      17370.0         180000.0   \n",
              "2             0          202500.0    663264.0      69777.0         630000.0   \n",
              "\n",
              "   ... FLAG_DOCUMENT_18 FLAG_DOCUMENT_19 FLAG_DOCUMENT_20 FLAG_DOCUMENT_21  \\\n",
              "0  ...                0                0                0                0   \n",
              "1  ...                0                0                0                0   \n",
              "2  ...                0                0                0                0   \n",
              "\n",
              "  AMT_REQ_CREDIT_BUREAU_HOUR  AMT_REQ_CREDIT_BUREAU_DAY  \\\n",
              "0                        0.0                        0.0   \n",
              "1                        0.0                        0.0   \n",
              "2                        0.0                        0.0   \n",
              "\n",
              "   AMT_REQ_CREDIT_BUREAU_WEEK  AMT_REQ_CREDIT_BUREAU_MON  \\\n",
              "0                         0.0                        0.0   \n",
              "1                         0.0                        0.0   \n",
              "2                         0.0                        0.0   \n",
              "\n",
              "   AMT_REQ_CREDIT_BUREAU_QRT  AMT_REQ_CREDIT_BUREAU_YEAR  \n",
              "0                        0.0                         0.0  \n",
              "1                        0.0                         3.0  \n",
              "2                        1.0                         4.0  \n",
              "\n",
              "[3 rows x 121 columns]"
            ],
            "text/html": [
              "\n",
              "  <div id=\"df-1e1784c9-5f88-4a34-96a7-cd091405a318\">\n",
              "    <div class=\"colab-df-container\">\n",
              "      <div>\n",
              "<style scoped>\n",
              "    .dataframe tbody tr th:only-of-type {\n",
              "        vertical-align: middle;\n",
              "    }\n",
              "\n",
              "    .dataframe tbody tr th {\n",
              "        vertical-align: top;\n",
              "    }\n",
              "\n",
              "    .dataframe thead th {\n",
              "        text-align: right;\n",
              "    }\n",
              "</style>\n",
              "<table border=\"1\" class=\"dataframe\">\n",
              "  <thead>\n",
              "    <tr style=\"text-align: right;\">\n",
              "      <th></th>\n",
              "      <th>SK_ID_CURR</th>\n",
              "      <th>NAME_CONTRACT_TYPE</th>\n",
              "      <th>CODE_GENDER</th>\n",
              "      <th>FLAG_OWN_CAR</th>\n",
              "      <th>FLAG_OWN_REALTY</th>\n",
              "      <th>CNT_CHILDREN</th>\n",
              "      <th>AMT_INCOME_TOTAL</th>\n",
              "      <th>AMT_CREDIT</th>\n",
              "      <th>AMT_ANNUITY</th>\n",
              "      <th>AMT_GOODS_PRICE</th>\n",
              "      <th>...</th>\n",
              "      <th>FLAG_DOCUMENT_18</th>\n",
              "      <th>FLAG_DOCUMENT_19</th>\n",
              "      <th>FLAG_DOCUMENT_20</th>\n",
              "      <th>FLAG_DOCUMENT_21</th>\n",
              "      <th>AMT_REQ_CREDIT_BUREAU_HOUR</th>\n",
              "      <th>AMT_REQ_CREDIT_BUREAU_DAY</th>\n",
              "      <th>AMT_REQ_CREDIT_BUREAU_WEEK</th>\n",
              "      <th>AMT_REQ_CREDIT_BUREAU_MON</th>\n",
              "      <th>AMT_REQ_CREDIT_BUREAU_QRT</th>\n",
              "      <th>AMT_REQ_CREDIT_BUREAU_YEAR</th>\n",
              "    </tr>\n",
              "  </thead>\n",
              "  <tbody>\n",
              "    <tr>\n",
              "      <th>0</th>\n",
              "      <td>100001</td>\n",
              "      <td>Cash loans</td>\n",
              "      <td>F</td>\n",
              "      <td>N</td>\n",
              "      <td>Y</td>\n",
              "      <td>0</td>\n",
              "      <td>135000.0</td>\n",
              "      <td>568800.0</td>\n",
              "      <td>20560.5</td>\n",
              "      <td>450000.0</td>\n",
              "      <td>...</td>\n",
              "      <td>0</td>\n",
              "      <td>0</td>\n",
              "      <td>0</td>\n",
              "      <td>0</td>\n",
              "      <td>0.0</td>\n",
              "      <td>0.0</td>\n",
              "      <td>0.0</td>\n",
              "      <td>0.0</td>\n",
              "      <td>0.0</td>\n",
              "      <td>0.0</td>\n",
              "    </tr>\n",
              "    <tr>\n",
              "      <th>1</th>\n",
              "      <td>100005</td>\n",
              "      <td>Cash loans</td>\n",
              "      <td>M</td>\n",
              "      <td>N</td>\n",
              "      <td>Y</td>\n",
              "      <td>0</td>\n",
              "      <td>99000.0</td>\n",
              "      <td>222768.0</td>\n",
              "      <td>17370.0</td>\n",
              "      <td>180000.0</td>\n",
              "      <td>...</td>\n",
              "      <td>0</td>\n",
              "      <td>0</td>\n",
              "      <td>0</td>\n",
              "      <td>0</td>\n",
              "      <td>0.0</td>\n",
              "      <td>0.0</td>\n",
              "      <td>0.0</td>\n",
              "      <td>0.0</td>\n",
              "      <td>0.0</td>\n",
              "      <td>3.0</td>\n",
              "    </tr>\n",
              "    <tr>\n",
              "      <th>2</th>\n",
              "      <td>100013</td>\n",
              "      <td>Cash loans</td>\n",
              "      <td>M</td>\n",
              "      <td>Y</td>\n",
              "      <td>Y</td>\n",
              "      <td>0</td>\n",
              "      <td>202500.0</td>\n",
              "      <td>663264.0</td>\n",
              "      <td>69777.0</td>\n",
              "      <td>630000.0</td>\n",
              "      <td>...</td>\n",
              "      <td>0</td>\n",
              "      <td>0</td>\n",
              "      <td>0</td>\n",
              "      <td>0</td>\n",
              "      <td>0.0</td>\n",
              "      <td>0.0</td>\n",
              "      <td>0.0</td>\n",
              "      <td>0.0</td>\n",
              "      <td>1.0</td>\n",
              "      <td>4.0</td>\n",
              "    </tr>\n",
              "  </tbody>\n",
              "</table>\n",
              "<p>3 rows × 121 columns</p>\n",
              "</div>\n",
              "      <button class=\"colab-df-convert\" onclick=\"convertToInteractive('df-1e1784c9-5f88-4a34-96a7-cd091405a318')\"\n",
              "              title=\"Convert this dataframe to an interactive table.\"\n",
              "              style=\"display:none;\">\n",
              "        \n",
              "  <svg xmlns=\"http://www.w3.org/2000/svg\" height=\"24px\"viewBox=\"0 0 24 24\"\n",
              "       width=\"24px\">\n",
              "    <path d=\"M0 0h24v24H0V0z\" fill=\"none\"/>\n",
              "    <path d=\"M18.56 5.44l.94 2.06.94-2.06 2.06-.94-2.06-.94-.94-2.06-.94 2.06-2.06.94zm-11 1L8.5 8.5l.94-2.06 2.06-.94-2.06-.94L8.5 2.5l-.94 2.06-2.06.94zm10 10l.94 2.06.94-2.06 2.06-.94-2.06-.94-.94-2.06-.94 2.06-2.06.94z\"/><path d=\"M17.41 7.96l-1.37-1.37c-.4-.4-.92-.59-1.43-.59-.52 0-1.04.2-1.43.59L10.3 9.45l-7.72 7.72c-.78.78-.78 2.05 0 2.83L4 21.41c.39.39.9.59 1.41.59.51 0 1.02-.2 1.41-.59l7.78-7.78 2.81-2.81c.8-.78.8-2.07 0-2.86zM5.41 20L4 18.59l7.72-7.72 1.47 1.35L5.41 20z\"/>\n",
              "  </svg>\n",
              "      </button>\n",
              "      \n",
              "  <style>\n",
              "    .colab-df-container {\n",
              "      display:flex;\n",
              "      flex-wrap:wrap;\n",
              "      gap: 12px;\n",
              "    }\n",
              "\n",
              "    .colab-df-convert {\n",
              "      background-color: #E8F0FE;\n",
              "      border: none;\n",
              "      border-radius: 50%;\n",
              "      cursor: pointer;\n",
              "      display: none;\n",
              "      fill: #1967D2;\n",
              "      height: 32px;\n",
              "      padding: 0 0 0 0;\n",
              "      width: 32px;\n",
              "    }\n",
              "\n",
              "    .colab-df-convert:hover {\n",
              "      background-color: #E2EBFA;\n",
              "      box-shadow: 0px 1px 2px rgba(60, 64, 67, 0.3), 0px 1px 3px 1px rgba(60, 64, 67, 0.15);\n",
              "      fill: #174EA6;\n",
              "    }\n",
              "\n",
              "    [theme=dark] .colab-df-convert {\n",
              "      background-color: #3B4455;\n",
              "      fill: #D2E3FC;\n",
              "    }\n",
              "\n",
              "    [theme=dark] .colab-df-convert:hover {\n",
              "      background-color: #434B5C;\n",
              "      box-shadow: 0px 1px 3px 1px rgba(0, 0, 0, 0.15);\n",
              "      filter: drop-shadow(0px 1px 2px rgba(0, 0, 0, 0.3));\n",
              "      fill: #FFFFFF;\n",
              "    }\n",
              "  </style>\n",
              "\n",
              "      <script>\n",
              "        const buttonEl =\n",
              "          document.querySelector('#df-1e1784c9-5f88-4a34-96a7-cd091405a318 button.colab-df-convert');\n",
              "        buttonEl.style.display =\n",
              "          google.colab.kernel.accessAllowed ? 'block' : 'none';\n",
              "\n",
              "        async function convertToInteractive(key) {\n",
              "          const element = document.querySelector('#df-1e1784c9-5f88-4a34-96a7-cd091405a318');\n",
              "          const dataTable =\n",
              "            await google.colab.kernel.invokeFunction('convertToInteractive',\n",
              "                                                     [key], {});\n",
              "          if (!dataTable) return;\n",
              "\n",
              "          const docLinkHtml = 'Like what you see? Visit the ' +\n",
              "            '<a target=\"_blank\" href=https://colab.research.google.com/notebooks/data_table.ipynb>data table notebook</a>'\n",
              "            + ' to learn more about interactive tables.';\n",
              "          element.innerHTML = '';\n",
              "          dataTable['output_type'] = 'display_data';\n",
              "          await google.colab.output.renderOutput(dataTable, element);\n",
              "          const docLink = document.createElement('div');\n",
              "          docLink.innerHTML = docLinkHtml;\n",
              "          element.appendChild(docLink);\n",
              "        }\n",
              "      </script>\n",
              "    </div>\n",
              "  </div>\n",
              "  "
            ]
          },
          "metadata": {},
          "execution_count": 3
        }
      ]
    },
    {
      "cell_type": "code",
      "source": [
        "application_train_raw = pd.read_csv('/content/drive/MyDrive/HC_default_risk/application_train.csv')\n",
        "application_train_raw.head(3)"
      ],
      "metadata": {
        "colab": {
          "base_uri": "https://localhost:8080/",
          "height": 237
        },
        "id": "jw3DISFI93I0",
        "outputId": "5415eaf1-abf4-4bef-bc3d-5fb5e0b28395"
      },
      "execution_count": null,
      "outputs": [
        {
          "output_type": "execute_result",
          "data": {
            "text/plain": [
              "   SK_ID_CURR  TARGET NAME_CONTRACT_TYPE CODE_GENDER FLAG_OWN_CAR  \\\n",
              "0      100002       1         Cash loans           M            N   \n",
              "1      100003       0         Cash loans           F            N   \n",
              "2      100004       0    Revolving loans           M            Y   \n",
              "\n",
              "  FLAG_OWN_REALTY  CNT_CHILDREN  AMT_INCOME_TOTAL  AMT_CREDIT  AMT_ANNUITY  \\\n",
              "0               Y             0          202500.0    406597.5      24700.5   \n",
              "1               N             0          270000.0   1293502.5      35698.5   \n",
              "2               Y             0           67500.0    135000.0       6750.0   \n",
              "\n",
              "   ...  FLAG_DOCUMENT_18 FLAG_DOCUMENT_19 FLAG_DOCUMENT_20 FLAG_DOCUMENT_21  \\\n",
              "0  ...                 0                0                0                0   \n",
              "1  ...                 0                0                0                0   \n",
              "2  ...                 0                0                0                0   \n",
              "\n",
              "  AMT_REQ_CREDIT_BUREAU_HOUR AMT_REQ_CREDIT_BUREAU_DAY  \\\n",
              "0                        0.0                       0.0   \n",
              "1                        0.0                       0.0   \n",
              "2                        0.0                       0.0   \n",
              "\n",
              "   AMT_REQ_CREDIT_BUREAU_WEEK  AMT_REQ_CREDIT_BUREAU_MON  \\\n",
              "0                         0.0                        0.0   \n",
              "1                         0.0                        0.0   \n",
              "2                         0.0                        0.0   \n",
              "\n",
              "   AMT_REQ_CREDIT_BUREAU_QRT  AMT_REQ_CREDIT_BUREAU_YEAR  \n",
              "0                        0.0                         1.0  \n",
              "1                        0.0                         0.0  \n",
              "2                        0.0                         0.0  \n",
              "\n",
              "[3 rows x 122 columns]"
            ],
            "text/html": [
              "\n",
              "  <div id=\"df-9fb1652f-21fe-4d60-b3af-adc938a5f8d4\">\n",
              "    <div class=\"colab-df-container\">\n",
              "      <div>\n",
              "<style scoped>\n",
              "    .dataframe tbody tr th:only-of-type {\n",
              "        vertical-align: middle;\n",
              "    }\n",
              "\n",
              "    .dataframe tbody tr th {\n",
              "        vertical-align: top;\n",
              "    }\n",
              "\n",
              "    .dataframe thead th {\n",
              "        text-align: right;\n",
              "    }\n",
              "</style>\n",
              "<table border=\"1\" class=\"dataframe\">\n",
              "  <thead>\n",
              "    <tr style=\"text-align: right;\">\n",
              "      <th></th>\n",
              "      <th>SK_ID_CURR</th>\n",
              "      <th>TARGET</th>\n",
              "      <th>NAME_CONTRACT_TYPE</th>\n",
              "      <th>CODE_GENDER</th>\n",
              "      <th>FLAG_OWN_CAR</th>\n",
              "      <th>FLAG_OWN_REALTY</th>\n",
              "      <th>CNT_CHILDREN</th>\n",
              "      <th>AMT_INCOME_TOTAL</th>\n",
              "      <th>AMT_CREDIT</th>\n",
              "      <th>AMT_ANNUITY</th>\n",
              "      <th>...</th>\n",
              "      <th>FLAG_DOCUMENT_18</th>\n",
              "      <th>FLAG_DOCUMENT_19</th>\n",
              "      <th>FLAG_DOCUMENT_20</th>\n",
              "      <th>FLAG_DOCUMENT_21</th>\n",
              "      <th>AMT_REQ_CREDIT_BUREAU_HOUR</th>\n",
              "      <th>AMT_REQ_CREDIT_BUREAU_DAY</th>\n",
              "      <th>AMT_REQ_CREDIT_BUREAU_WEEK</th>\n",
              "      <th>AMT_REQ_CREDIT_BUREAU_MON</th>\n",
              "      <th>AMT_REQ_CREDIT_BUREAU_QRT</th>\n",
              "      <th>AMT_REQ_CREDIT_BUREAU_YEAR</th>\n",
              "    </tr>\n",
              "  </thead>\n",
              "  <tbody>\n",
              "    <tr>\n",
              "      <th>0</th>\n",
              "      <td>100002</td>\n",
              "      <td>1</td>\n",
              "      <td>Cash loans</td>\n",
              "      <td>M</td>\n",
              "      <td>N</td>\n",
              "      <td>Y</td>\n",
              "      <td>0</td>\n",
              "      <td>202500.0</td>\n",
              "      <td>406597.5</td>\n",
              "      <td>24700.5</td>\n",
              "      <td>...</td>\n",
              "      <td>0</td>\n",
              "      <td>0</td>\n",
              "      <td>0</td>\n",
              "      <td>0</td>\n",
              "      <td>0.0</td>\n",
              "      <td>0.0</td>\n",
              "      <td>0.0</td>\n",
              "      <td>0.0</td>\n",
              "      <td>0.0</td>\n",
              "      <td>1.0</td>\n",
              "    </tr>\n",
              "    <tr>\n",
              "      <th>1</th>\n",
              "      <td>100003</td>\n",
              "      <td>0</td>\n",
              "      <td>Cash loans</td>\n",
              "      <td>F</td>\n",
              "      <td>N</td>\n",
              "      <td>N</td>\n",
              "      <td>0</td>\n",
              "      <td>270000.0</td>\n",
              "      <td>1293502.5</td>\n",
              "      <td>35698.5</td>\n",
              "      <td>...</td>\n",
              "      <td>0</td>\n",
              "      <td>0</td>\n",
              "      <td>0</td>\n",
              "      <td>0</td>\n",
              "      <td>0.0</td>\n",
              "      <td>0.0</td>\n",
              "      <td>0.0</td>\n",
              "      <td>0.0</td>\n",
              "      <td>0.0</td>\n",
              "      <td>0.0</td>\n",
              "    </tr>\n",
              "    <tr>\n",
              "      <th>2</th>\n",
              "      <td>100004</td>\n",
              "      <td>0</td>\n",
              "      <td>Revolving loans</td>\n",
              "      <td>M</td>\n",
              "      <td>Y</td>\n",
              "      <td>Y</td>\n",
              "      <td>0</td>\n",
              "      <td>67500.0</td>\n",
              "      <td>135000.0</td>\n",
              "      <td>6750.0</td>\n",
              "      <td>...</td>\n",
              "      <td>0</td>\n",
              "      <td>0</td>\n",
              "      <td>0</td>\n",
              "      <td>0</td>\n",
              "      <td>0.0</td>\n",
              "      <td>0.0</td>\n",
              "      <td>0.0</td>\n",
              "      <td>0.0</td>\n",
              "      <td>0.0</td>\n",
              "      <td>0.0</td>\n",
              "    </tr>\n",
              "  </tbody>\n",
              "</table>\n",
              "<p>3 rows × 122 columns</p>\n",
              "</div>\n",
              "      <button class=\"colab-df-convert\" onclick=\"convertToInteractive('df-9fb1652f-21fe-4d60-b3af-adc938a5f8d4')\"\n",
              "              title=\"Convert this dataframe to an interactive table.\"\n",
              "              style=\"display:none;\">\n",
              "        \n",
              "  <svg xmlns=\"http://www.w3.org/2000/svg\" height=\"24px\"viewBox=\"0 0 24 24\"\n",
              "       width=\"24px\">\n",
              "    <path d=\"M0 0h24v24H0V0z\" fill=\"none\"/>\n",
              "    <path d=\"M18.56 5.44l.94 2.06.94-2.06 2.06-.94-2.06-.94-.94-2.06-.94 2.06-2.06.94zm-11 1L8.5 8.5l.94-2.06 2.06-.94-2.06-.94L8.5 2.5l-.94 2.06-2.06.94zm10 10l.94 2.06.94-2.06 2.06-.94-2.06-.94-.94-2.06-.94 2.06-2.06.94z\"/><path d=\"M17.41 7.96l-1.37-1.37c-.4-.4-.92-.59-1.43-.59-.52 0-1.04.2-1.43.59L10.3 9.45l-7.72 7.72c-.78.78-.78 2.05 0 2.83L4 21.41c.39.39.9.59 1.41.59.51 0 1.02-.2 1.41-.59l7.78-7.78 2.81-2.81c.8-.78.8-2.07 0-2.86zM5.41 20L4 18.59l7.72-7.72 1.47 1.35L5.41 20z\"/>\n",
              "  </svg>\n",
              "      </button>\n",
              "      \n",
              "  <style>\n",
              "    .colab-df-container {\n",
              "      display:flex;\n",
              "      flex-wrap:wrap;\n",
              "      gap: 12px;\n",
              "    }\n",
              "\n",
              "    .colab-df-convert {\n",
              "      background-color: #E8F0FE;\n",
              "      border: none;\n",
              "      border-radius: 50%;\n",
              "      cursor: pointer;\n",
              "      display: none;\n",
              "      fill: #1967D2;\n",
              "      height: 32px;\n",
              "      padding: 0 0 0 0;\n",
              "      width: 32px;\n",
              "    }\n",
              "\n",
              "    .colab-df-convert:hover {\n",
              "      background-color: #E2EBFA;\n",
              "      box-shadow: 0px 1px 2px rgba(60, 64, 67, 0.3), 0px 1px 3px 1px rgba(60, 64, 67, 0.15);\n",
              "      fill: #174EA6;\n",
              "    }\n",
              "\n",
              "    [theme=dark] .colab-df-convert {\n",
              "      background-color: #3B4455;\n",
              "      fill: #D2E3FC;\n",
              "    }\n",
              "\n",
              "    [theme=dark] .colab-df-convert:hover {\n",
              "      background-color: #434B5C;\n",
              "      box-shadow: 0px 1px 3px 1px rgba(0, 0, 0, 0.15);\n",
              "      filter: drop-shadow(0px 1px 2px rgba(0, 0, 0, 0.3));\n",
              "      fill: #FFFFFF;\n",
              "    }\n",
              "  </style>\n",
              "\n",
              "      <script>\n",
              "        const buttonEl =\n",
              "          document.querySelector('#df-9fb1652f-21fe-4d60-b3af-adc938a5f8d4 button.colab-df-convert');\n",
              "        buttonEl.style.display =\n",
              "          google.colab.kernel.accessAllowed ? 'block' : 'none';\n",
              "\n",
              "        async function convertToInteractive(key) {\n",
              "          const element = document.querySelector('#df-9fb1652f-21fe-4d60-b3af-adc938a5f8d4');\n",
              "          const dataTable =\n",
              "            await google.colab.kernel.invokeFunction('convertToInteractive',\n",
              "                                                     [key], {});\n",
              "          if (!dataTable) return;\n",
              "\n",
              "          const docLinkHtml = 'Like what you see? Visit the ' +\n",
              "            '<a target=\"_blank\" href=https://colab.research.google.com/notebooks/data_table.ipynb>data table notebook</a>'\n",
              "            + ' to learn more about interactive tables.';\n",
              "          element.innerHTML = '';\n",
              "          dataTable['output_type'] = 'display_data';\n",
              "          await google.colab.output.renderOutput(dataTable, element);\n",
              "          const docLink = document.createElement('div');\n",
              "          docLink.innerHTML = docLinkHtml;\n",
              "          element.appendChild(docLink);\n",
              "        }\n",
              "      </script>\n",
              "    </div>\n",
              "  </div>\n",
              "  "
            ]
          },
          "metadata": {},
          "execution_count": 4
        }
      ]
    },
    {
      "cell_type": "code",
      "source": [
        "bureau = pd.read_csv('/content/drive/MyDrive/HC_default_risk/bureau.csv')\n",
        "bureau.head(3)"
      ],
      "metadata": {
        "colab": {
          "base_uri": "https://localhost:8080/",
          "height": 242
        },
        "id": "8Kguc_25DyUa",
        "outputId": "7cca5b86-3af6-4144-ae34-bd06e5bd7b41"
      },
      "execution_count": null,
      "outputs": [
        {
          "output_type": "execute_result",
          "data": {
            "text/plain": [
              "   SK_ID_CURR  SK_ID_BUREAU CREDIT_ACTIVE CREDIT_CURRENCY  DAYS_CREDIT  \\\n",
              "0      215354       5714462        Closed      currency 1         -497   \n",
              "1      215354       5714463        Active      currency 1         -208   \n",
              "2      215354       5714464        Active      currency 1         -203   \n",
              "\n",
              "   CREDIT_DAY_OVERDUE  DAYS_CREDIT_ENDDATE  DAYS_ENDDATE_FACT  \\\n",
              "0                   0               -153.0             -153.0   \n",
              "1                   0               1075.0                NaN   \n",
              "2                   0                528.0                NaN   \n",
              "\n",
              "   AMT_CREDIT_MAX_OVERDUE  CNT_CREDIT_PROLONG  AMT_CREDIT_SUM  \\\n",
              "0                     NaN                   0         91323.0   \n",
              "1                     NaN                   0        225000.0   \n",
              "2                     NaN                   0        464323.5   \n",
              "\n",
              "   AMT_CREDIT_SUM_DEBT  AMT_CREDIT_SUM_LIMIT  AMT_CREDIT_SUM_OVERDUE  \\\n",
              "0                  0.0                   NaN                     0.0   \n",
              "1             171342.0                   NaN                     0.0   \n",
              "2                  NaN                   NaN                     0.0   \n",
              "\n",
              "       CREDIT_TYPE  DAYS_CREDIT_UPDATE  AMT_ANNUITY  \n",
              "0  Consumer credit                -131          NaN  \n",
              "1      Credit card                 -20          NaN  \n",
              "2  Consumer credit                 -16          NaN  "
            ],
            "text/html": [
              "\n",
              "  <div id=\"df-0b447c60-11c2-4973-a41b-ca760a58623e\">\n",
              "    <div class=\"colab-df-container\">\n",
              "      <div>\n",
              "<style scoped>\n",
              "    .dataframe tbody tr th:only-of-type {\n",
              "        vertical-align: middle;\n",
              "    }\n",
              "\n",
              "    .dataframe tbody tr th {\n",
              "        vertical-align: top;\n",
              "    }\n",
              "\n",
              "    .dataframe thead th {\n",
              "        text-align: right;\n",
              "    }\n",
              "</style>\n",
              "<table border=\"1\" class=\"dataframe\">\n",
              "  <thead>\n",
              "    <tr style=\"text-align: right;\">\n",
              "      <th></th>\n",
              "      <th>SK_ID_CURR</th>\n",
              "      <th>SK_ID_BUREAU</th>\n",
              "      <th>CREDIT_ACTIVE</th>\n",
              "      <th>CREDIT_CURRENCY</th>\n",
              "      <th>DAYS_CREDIT</th>\n",
              "      <th>CREDIT_DAY_OVERDUE</th>\n",
              "      <th>DAYS_CREDIT_ENDDATE</th>\n",
              "      <th>DAYS_ENDDATE_FACT</th>\n",
              "      <th>AMT_CREDIT_MAX_OVERDUE</th>\n",
              "      <th>CNT_CREDIT_PROLONG</th>\n",
              "      <th>AMT_CREDIT_SUM</th>\n",
              "      <th>AMT_CREDIT_SUM_DEBT</th>\n",
              "      <th>AMT_CREDIT_SUM_LIMIT</th>\n",
              "      <th>AMT_CREDIT_SUM_OVERDUE</th>\n",
              "      <th>CREDIT_TYPE</th>\n",
              "      <th>DAYS_CREDIT_UPDATE</th>\n",
              "      <th>AMT_ANNUITY</th>\n",
              "    </tr>\n",
              "  </thead>\n",
              "  <tbody>\n",
              "    <tr>\n",
              "      <th>0</th>\n",
              "      <td>215354</td>\n",
              "      <td>5714462</td>\n",
              "      <td>Closed</td>\n",
              "      <td>currency 1</td>\n",
              "      <td>-497</td>\n",
              "      <td>0</td>\n",
              "      <td>-153.0</td>\n",
              "      <td>-153.0</td>\n",
              "      <td>NaN</td>\n",
              "      <td>0</td>\n",
              "      <td>91323.0</td>\n",
              "      <td>0.0</td>\n",
              "      <td>NaN</td>\n",
              "      <td>0.0</td>\n",
              "      <td>Consumer credit</td>\n",
              "      <td>-131</td>\n",
              "      <td>NaN</td>\n",
              "    </tr>\n",
              "    <tr>\n",
              "      <th>1</th>\n",
              "      <td>215354</td>\n",
              "      <td>5714463</td>\n",
              "      <td>Active</td>\n",
              "      <td>currency 1</td>\n",
              "      <td>-208</td>\n",
              "      <td>0</td>\n",
              "      <td>1075.0</td>\n",
              "      <td>NaN</td>\n",
              "      <td>NaN</td>\n",
              "      <td>0</td>\n",
              "      <td>225000.0</td>\n",
              "      <td>171342.0</td>\n",
              "      <td>NaN</td>\n",
              "      <td>0.0</td>\n",
              "      <td>Credit card</td>\n",
              "      <td>-20</td>\n",
              "      <td>NaN</td>\n",
              "    </tr>\n",
              "    <tr>\n",
              "      <th>2</th>\n",
              "      <td>215354</td>\n",
              "      <td>5714464</td>\n",
              "      <td>Active</td>\n",
              "      <td>currency 1</td>\n",
              "      <td>-203</td>\n",
              "      <td>0</td>\n",
              "      <td>528.0</td>\n",
              "      <td>NaN</td>\n",
              "      <td>NaN</td>\n",
              "      <td>0</td>\n",
              "      <td>464323.5</td>\n",
              "      <td>NaN</td>\n",
              "      <td>NaN</td>\n",
              "      <td>0.0</td>\n",
              "      <td>Consumer credit</td>\n",
              "      <td>-16</td>\n",
              "      <td>NaN</td>\n",
              "    </tr>\n",
              "  </tbody>\n",
              "</table>\n",
              "</div>\n",
              "      <button class=\"colab-df-convert\" onclick=\"convertToInteractive('df-0b447c60-11c2-4973-a41b-ca760a58623e')\"\n",
              "              title=\"Convert this dataframe to an interactive table.\"\n",
              "              style=\"display:none;\">\n",
              "        \n",
              "  <svg xmlns=\"http://www.w3.org/2000/svg\" height=\"24px\"viewBox=\"0 0 24 24\"\n",
              "       width=\"24px\">\n",
              "    <path d=\"M0 0h24v24H0V0z\" fill=\"none\"/>\n",
              "    <path d=\"M18.56 5.44l.94 2.06.94-2.06 2.06-.94-2.06-.94-.94-2.06-.94 2.06-2.06.94zm-11 1L8.5 8.5l.94-2.06 2.06-.94-2.06-.94L8.5 2.5l-.94 2.06-2.06.94zm10 10l.94 2.06.94-2.06 2.06-.94-2.06-.94-.94-2.06-.94 2.06-2.06.94z\"/><path d=\"M17.41 7.96l-1.37-1.37c-.4-.4-.92-.59-1.43-.59-.52 0-1.04.2-1.43.59L10.3 9.45l-7.72 7.72c-.78.78-.78 2.05 0 2.83L4 21.41c.39.39.9.59 1.41.59.51 0 1.02-.2 1.41-.59l7.78-7.78 2.81-2.81c.8-.78.8-2.07 0-2.86zM5.41 20L4 18.59l7.72-7.72 1.47 1.35L5.41 20z\"/>\n",
              "  </svg>\n",
              "      </button>\n",
              "      \n",
              "  <style>\n",
              "    .colab-df-container {\n",
              "      display:flex;\n",
              "      flex-wrap:wrap;\n",
              "      gap: 12px;\n",
              "    }\n",
              "\n",
              "    .colab-df-convert {\n",
              "      background-color: #E8F0FE;\n",
              "      border: none;\n",
              "      border-radius: 50%;\n",
              "      cursor: pointer;\n",
              "      display: none;\n",
              "      fill: #1967D2;\n",
              "      height: 32px;\n",
              "      padding: 0 0 0 0;\n",
              "      width: 32px;\n",
              "    }\n",
              "\n",
              "    .colab-df-convert:hover {\n",
              "      background-color: #E2EBFA;\n",
              "      box-shadow: 0px 1px 2px rgba(60, 64, 67, 0.3), 0px 1px 3px 1px rgba(60, 64, 67, 0.15);\n",
              "      fill: #174EA6;\n",
              "    }\n",
              "\n",
              "    [theme=dark] .colab-df-convert {\n",
              "      background-color: #3B4455;\n",
              "      fill: #D2E3FC;\n",
              "    }\n",
              "\n",
              "    [theme=dark] .colab-df-convert:hover {\n",
              "      background-color: #434B5C;\n",
              "      box-shadow: 0px 1px 3px 1px rgba(0, 0, 0, 0.15);\n",
              "      filter: drop-shadow(0px 1px 2px rgba(0, 0, 0, 0.3));\n",
              "      fill: #FFFFFF;\n",
              "    }\n",
              "  </style>\n",
              "\n",
              "      <script>\n",
              "        const buttonEl =\n",
              "          document.querySelector('#df-0b447c60-11c2-4973-a41b-ca760a58623e button.colab-df-convert');\n",
              "        buttonEl.style.display =\n",
              "          google.colab.kernel.accessAllowed ? 'block' : 'none';\n",
              "\n",
              "        async function convertToInteractive(key) {\n",
              "          const element = document.querySelector('#df-0b447c60-11c2-4973-a41b-ca760a58623e');\n",
              "          const dataTable =\n",
              "            await google.colab.kernel.invokeFunction('convertToInteractive',\n",
              "                                                     [key], {});\n",
              "          if (!dataTable) return;\n",
              "\n",
              "          const docLinkHtml = 'Like what you see? Visit the ' +\n",
              "            '<a target=\"_blank\" href=https://colab.research.google.com/notebooks/data_table.ipynb>data table notebook</a>'\n",
              "            + ' to learn more about interactive tables.';\n",
              "          element.innerHTML = '';\n",
              "          dataTable['output_type'] = 'display_data';\n",
              "          await google.colab.output.renderOutput(dataTable, element);\n",
              "          const docLink = document.createElement('div');\n",
              "          docLink.innerHTML = docLinkHtml;\n",
              "          element.appendChild(docLink);\n",
              "        }\n",
              "      </script>\n",
              "    </div>\n",
              "  </div>\n",
              "  "
            ]
          },
          "metadata": {},
          "execution_count": 5
        }
      ]
    },
    {
      "cell_type": "markdown",
      "source": [
        "# EDA"
      ],
      "metadata": {
        "id": "oAYl7aHLBzs_"
      }
    },
    {
      "cell_type": "markdown",
      "source": [
        "#### Are these data coming from the same country ?\n",
        "Check by currency."
      ],
      "metadata": {
        "id": "5BD5-xlQRufu"
      }
    },
    {
      "cell_type": "code",
      "source": [
        "a = list((bureau[bureau['CREDIT_CURRENCY'] == 'currency 1'].shape[0], bureau[bureau['CREDIT_CURRENCY'] == 'currency 2'].shape[0], bureau[bureau['CREDIT_CURRENCY'] == 'currency 3'].shape[0], bureau[bureau['CREDIT_CURRENCY'] == 'currency 4'].shape[0]))\n",
        "a_2 = (round(a[0]/sum(a)*100,3), round(a[1]/sum(a)*100,3), round(a[2]/sum(a)*100,3), round(a[3]/sum(a)*100,3))\n",
        "b = list(bureau['CREDIT_CURRENCY'].unique())\n",
        "dictt = {'currency': b, 'Percentage': a_2 }\n",
        "c = pd.DataFrame(data = dictt)"
      ],
      "metadata": {
        "id": "MsNC17NcRvBj"
      },
      "execution_count": null,
      "outputs": []
    },
    {
      "cell_type": "code",
      "source": [
        "sns.barplot(data = c, x = 'currency', y = 'Percentage' )\n",
        "plt.title('Percentage of Currency used in Loans')"
      ],
      "metadata": {
        "colab": {
          "base_uri": "https://localhost:8080/",
          "height": 497
        },
        "id": "VP9kAxhLRvS7",
        "outputId": "481a0ca0-4896-4c7f-eae1-4d904b0d67d4"
      },
      "execution_count": null,
      "outputs": [
        {
          "output_type": "execute_result",
          "data": {
            "text/plain": [
              "Text(0.5, 1.0, 'Percentage of Currency used in Loans')"
            ]
          },
          "metadata": {},
          "execution_count": 7
        },
        {
          "output_type": "display_data",
          "data": {
            "text/plain": [
              "<Figure size 640x480 with 1 Axes>"
            ],
            "image/png": "[encoded data removed]"
          },
          "metadata": {}
        }
      ]
    },
    {
      "cell_type": "markdown",
      "source": [
        "#### Effect of Age on Repayment ability"
      ],
      "metadata": {
        "id": "tISD2DRNCANP"
      }
    },
    {
      "cell_type": "code",
      "source": [
        "plt.figure(figsize = (6, 4))\n",
        "\n",
        "# KDE plot of loans that were repaid on time\n",
        "sns.kdeplot(application_train_raw.loc[application_train_raw['TARGET'] == 0, 'DAYS_BIRTH'] / -365, label = 'target == 0', fill=True, alpha=.5)\n",
        "\n",
        "# KDE plot of loans which were not repaid on time\n",
        "sns.kdeplot(application_train_raw.loc[application_train_raw['TARGET'] == 1, 'DAYS_BIRTH'] / -365, label = 'target == 1', fill=True, alpha=.5)\n",
        "\n",
        "# Labeling of plot\n",
        "plt.xlabel('Age (years)'); plt.ylabel('Frequency'); plt.title('Distribution of Ages')\n",
        "plt.legend()\n",
        "plt.grid(True)"
      ],
      "metadata": {
        "colab": {
          "base_uri": "https://localhost:8080/",
          "height": 419
        },
        "id": "IVpTqQUI_624",
        "outputId": "19409730-4ab7-4a8b-8075-d022c1d41708"
      },
      "execution_count": null,
      "outputs": [
        {
          "output_type": "display_data",
          "data": {
            "text/plain": [
              "<Figure size 600x400 with 1 Axes>"
            ],
            "image/png": "[encoded data removed]"
          },
          "metadata": {}
        }
      ]
    },
    {
      "cell_type": "markdown",
      "source": [
        "#### Check mean amount of income for people age <= 40 vs > 40\n",
        "Less income, less ability to pay"
      ],
      "metadata": {
        "id": "up8JXGe3Csh4"
      }
    },
    {
      "cell_type": "code",
      "source": [
        "application_train_age = application_train_raw.copy()"
      ],
      "metadata": {
        "id": "UQ4p75a5_65V"
      },
      "execution_count": null,
      "outputs": []
    },
    {
      "cell_type": "code",
      "source": [
        "application_train_age['DAYS_BIRTH'] = application_train_age['DAYS_BIRTH']/-365"
      ],
      "metadata": {
        "id": "NYhZ9WW2_67e"
      },
      "execution_count": null,
      "outputs": []
    },
    {
      "cell_type": "code",
      "source": [
        "app_train_40_less = application_train_age.loc[application_train_age['DAYS_BIRTH'] <= 40]"
      ],
      "metadata": {
        "id": "kLGx9iHU_69X"
      },
      "execution_count": null,
      "outputs": []
    },
    {
      "cell_type": "code",
      "source": [
        "app_train_40_more = application_train_age.loc[application_train_age['DAYS_BIRTH'] > 40]"
      ],
      "metadata": {
        "id": "zH0XfAqr93LI"
      },
      "execution_count": null,
      "outputs": []
    },
    {
      "cell_type": "code",
      "source": [
        "app_train_40_less['AMT_INCOME_TOTAL'].mean()"
      ],
      "metadata": {
        "colab": {
          "base_uri": "https://localhost:8080/"
        },
        "id": "lt-mOdQR93Na",
        "outputId": "2ca557b4-82a8-4780-da45-de154ae9b14a"
      },
      "execution_count": null,
      "outputs": [
        {
          "output_type": "execute_result",
          "data": {
            "text/plain": [
              "172040.5887558608"
            ]
          },
          "metadata": {},
          "execution_count": 13
        }
      ]
    },
    {
      "cell_type": "code",
      "source": [
        "app_train_40_more['AMT_INCOME_TOTAL'].mean()"
      ],
      "metadata": {
        "colab": {
          "base_uri": "https://localhost:8080/"
        },
        "id": "vxo6mfvj93Pq",
        "outputId": "ab42689b-f2db-459c-a02d-4e2317289d0f"
      },
      "execution_count": null,
      "outputs": [
        {
          "output_type": "execute_result",
          "data": {
            "text/plain": [
              "166506.42592068022"
            ]
          },
          "metadata": {},
          "execution_count": 14
        }
      ]
    },
    {
      "cell_type": "code",
      "source": [
        "d = {'age_group':['40_years_more','40_years_less'], 'mean_income': [round(app_train_40_more['AMT_INCOME_TOTAL'].mean(),2), round(app_train_40_less['AMT_INCOME_TOTAL'].mean(), 2)]}"
      ],
      "metadata": {
        "id": "dFSuMGw2FHiZ"
      },
      "execution_count": null,
      "outputs": []
    },
    {
      "cell_type": "code",
      "source": [
        "income_mean = pd.DataFrame(data = d)\n",
        "income_mean"
      ],
      "metadata": {
        "colab": {
          "base_uri": "https://localhost:8080/",
          "height": 112
        },
        "id": "8aPafufiDjFG",
        "outputId": "d46fd708-ac4a-452c-edfd-9d3e36aef9d2"
      },
      "execution_count": null,
      "outputs": [
        {
          "output_type": "execute_result",
          "data": {
            "text/plain": [
              "       age_group  mean_income\n",
              "0  40_years_more    166506.43\n",
              "1  40_years_less    172040.59"
            ],
            "text/html": [
              "\n",
              "  <div id=\"df-dcf73f40-c2ff-40ad-b499-b22980e9a717\">\n",
              "    <div class=\"colab-df-container\">\n",
              "      <div>\n",
              "<style scoped>\n",
              "    .dataframe tbody tr th:only-of-type {\n",
              "        vertical-align: middle;\n",
              "    }\n",
              "\n",
              "    .dataframe tbody tr th {\n",
              "        vertical-align: top;\n",
              "    }\n",
              "\n",
              "    .dataframe thead th {\n",
              "        text-align: right;\n",
              "    }\n",
              "</style>\n",
              "<table border=\"1\" class=\"dataframe\">\n",
              "  <thead>\n",
              "    <tr style=\"text-align: right;\">\n",
              "      <th></th>\n",
              "      <th>age_group</th>\n",
              "      <th>mean_income</th>\n",
              "    </tr>\n",
              "  </thead>\n",
              "  <tbody>\n",
              "    <tr>\n",
              "      <th>0</th>\n",
              "      <td>40_years_more</td>\n",
              "      <td>166506.43</td>\n",
              "    </tr>\n",
              "    <tr>\n",
              "      <th>1</th>\n",
              "      <td>40_years_less</td>\n",
              "      <td>172040.59</td>\n",
              "    </tr>\n",
              "  </tbody>\n",
              "</table>\n",
              "</div>\n",
              "      <button class=\"colab-df-convert\" onclick=\"convertToInteractive('df-dcf73f40-c2ff-40ad-b499-b22980e9a717')\"\n",
              "              title=\"Convert this dataframe to an interactive table.\"\n",
              "              style=\"display:none;\">\n",
              "        \n",
              "  <svg xmlns=\"http://www.w3.org/2000/svg\" height=\"24px\"viewBox=\"0 0 24 24\"\n",
              "       width=\"24px\">\n",
              "    <path d=\"M0 0h24v24H0V0z\" fill=\"none\"/>\n",
              "    <path d=\"M18.56 5.44l.94 2.06.94-2.06 2.06-.94-2.06-.94-.94-2.06-.94 2.06-2.06.94zm-11 1L8.5 8.5l.94-2.06 2.06-.94-2.06-.94L8.5 2.5l-.94 2.06-2.06.94zm10 10l.94 2.06.94-2.06 2.06-.94-2.06-.94-.94-2.06-.94 2.06-2.06.94z\"/><path d=\"M17.41 7.96l-1.37-1.37c-.4-.4-.92-.59-1.43-.59-.52 0-1.04.2-1.43.59L10.3 9.45l-7.72 7.72c-.78.78-.78 2.05 0 2.83L4 21.41c.39.39.9.59 1.41.59.51 0 1.02-.2 1.41-.59l7.78-7.78 2.81-2.81c.8-.78.8-2.07 0-2.86zM5.41 20L4 18.59l7.72-7.72 1.47 1.35L5.41 20z\"/>\n",
              "  </svg>\n",
              "      </button>\n",
              "      \n",
              "  <style>\n",
              "    .colab-df-container {\n",
              "      display:flex;\n",
              "      flex-wrap:wrap;\n",
              "      gap: 12px;\n",
              "    }\n",
              "\n",
              "    .colab-df-convert {\n",
              "      background-color: #E8F0FE;\n",
              "      border: none;\n",
              "      border-radius: 50%;\n",
              "      cursor: pointer;\n",
              "      display: none;\n",
              "      fill: #1967D2;\n",
              "      height: 32px;\n",
              "      padding: 0 0 0 0;\n",
              "      width: 32px;\n",
              "    }\n",
              "\n",
              "    .colab-df-convert:hover {\n",
              "      background-color: #E2EBFA;\n",
              "      box-shadow: 0px 1px 2px rgba(60, 64, 67, 0.3), 0px 1px 3px 1px rgba(60, 64, 67, 0.15);\n",
              "      fill: #174EA6;\n",
              "    }\n",
              "\n",
              "    [theme=dark] .colab-df-convert {\n",
              "      background-color: #3B4455;\n",
              "      fill: #D2E3FC;\n",
              "    }\n",
              "\n",
              "    [theme=dark] .colab-df-convert:hover {\n",
              "      background-color: #434B5C;\n",
              "      box-shadow: 0px 1px 3px 1px rgba(0, 0, 0, 0.15);\n",
              "      filter: drop-shadow(0px 1px 2px rgba(0, 0, 0, 0.3));\n",
              "      fill: #FFFFFF;\n",
              "    }\n",
              "  </style>\n",
              "\n",
              "      <script>\n",
              "        const buttonEl =\n",
              "          document.querySelector('#df-dcf73f40-c2ff-40ad-b499-b22980e9a717 button.colab-df-convert');\n",
              "        buttonEl.style.display =\n",
              "          google.colab.kernel.accessAllowed ? 'block' : 'none';\n",
              "\n",
              "        async function convertToInteractive(key) {\n",
              "          const element = document.querySelector('#df-dcf73f40-c2ff-40ad-b499-b22980e9a717');\n",
              "          const dataTable =\n",
              "            await google.colab.kernel.invokeFunction('convertToInteractive',\n",
              "                                                     [key], {});\n",
              "          if (!dataTable) return;\n",
              "\n",
              "          const docLinkHtml = 'Like what you see? Visit the ' +\n",
              "            '<a target=\"_blank\" href=https://colab.research.google.com/notebooks/data_table.ipynb>data table notebook</a>'\n",
              "            + ' to learn more about interactive tables.';\n",
              "          element.innerHTML = '';\n",
              "          dataTable['output_type'] = 'display_data';\n",
              "          await google.colab.output.renderOutput(dataTable, element);\n",
              "          const docLink = document.createElement('div');\n",
              "          docLink.innerHTML = docLinkHtml;\n",
              "          element.appendChild(docLink);\n",
              "        }\n",
              "      </script>\n",
              "    </div>\n",
              "  </div>\n",
              "  "
            ]
          },
          "metadata": {},
          "execution_count": 16
        }
      ]
    },
    {
      "cell_type": "code",
      "source": [
        "sns.barplot(data=income_mean, x=\"age_group\", y = \"mean_income\")"
      ],
      "metadata": {
        "colab": {
          "base_uri": "https://localhost:8080/",
          "height": 476
        },
        "id": "QeGIIwDWGNPR",
        "outputId": "f12c0793-9109-45fb-b4fc-794da7b5d1ae"
      },
      "execution_count": null,
      "outputs": [
        {
          "output_type": "execute_result",
          "data": {
            "text/plain": [
              "<Axes: xlabel='age_group', ylabel='mean_income'>"
            ]
          },
          "metadata": {},
          "execution_count": 17
        },
        {
          "output_type": "display_data",
          "data": {
            "text/plain": [
              "<Figure size 640x480 with 1 Axes>"
            ],
            "image/png": "[encoded data removed]"
          },
          "metadata": {}
        }
      ]
    },
    {
      "cell_type": "markdown",
      "source": [
        "#### Check the total amount of existing previous debt provided by other financial institutions of each person\n",
        "More debt, less ability to pay"
      ],
      "metadata": {
        "id": "P_irldWTLjUY"
      }
    },
    {
      "cell_type": "code",
      "source": [
        "bureau_active = bureau.loc[bureau['CREDIT_ACTIVE'] == 'Active'].reset_index().drop(columns = ['index'])\n",
        "count = np.ones((bureau_active.shape[0],), dtype=int)\n",
        "bureau_active['COUNT'] = count"
      ],
      "metadata": {
        "id": "ok-Boj8AHlFH"
      },
      "execution_count": null,
      "outputs": []
    },
    {
      "cell_type": "code",
      "source": [
        "AMT_CREDIT_SUM_DEBT = bureau_active.groupby(\"SK_ID_CURR\")[['AMT_CREDIT_SUM_DEBT','AMT_CREDIT_SUM_OVERDUE']].sum()"
      ],
      "metadata": {
        "id": "rSC0pJRSLi4F"
      },
      "execution_count": null,
      "outputs": []
    },
    {
      "cell_type": "code",
      "source": [
        "app_train_age_debt = application_train_age.join(AMT_CREDIT_SUM_DEBT, on='SK_ID_CURR', how='left')\n",
        "age_debt_40_less = app_train_age_debt.loc[app_train_age_debt['DAYS_BIRTH'] <= 40]\n",
        "age_debt_40_more = app_train_age_debt.loc[app_train_age_debt['DAYS_BIRTH'] > 40]"
      ],
      "metadata": {
        "id": "5Am3YcKRLi5x"
      },
      "execution_count": null,
      "outputs": []
    },
    {
      "cell_type": "code",
      "source": [
        "age_debt_40_less['AMT_CREDIT_SUM_DEBT'].mean()"
      ],
      "metadata": {
        "colab": {
          "base_uri": "https://localhost:8080/"
        },
        "id": "9V727kvzLi7u",
        "outputId": "32993546-1bf4-4ca3-c60d-b84d1ca88047"
      },
      "execution_count": null,
      "outputs": [
        {
          "output_type": "execute_result",
          "data": {
            "text/plain": [
              "891194.384200804"
            ]
          },
          "metadata": {},
          "execution_count": 21
        }
      ]
    },
    {
      "cell_type": "code",
      "source": [
        "age_debt_40_more['AMT_CREDIT_SUM_DEBT'].mean()"
      ],
      "metadata": {
        "colab": {
          "base_uri": "https://localhost:8080/"
        },
        "id": "uHmfH2B7HlGp",
        "outputId": "a0df537a-950a-429f-d016-d932966916ba"
      },
      "execution_count": null,
      "outputs": [
        {
          "output_type": "execute_result",
          "data": {
            "text/plain": [
              "675362.5937365374"
            ]
          },
          "metadata": {},
          "execution_count": 22
        }
      ]
    },
    {
      "cell_type": "code",
      "source": [
        "d = {'age_group':['40_years_more','40_years_less'], 'mean_prev_debt': [round(age_debt_40_more['AMT_CREDIT_SUM_DEBT'].mean(),2), round(age_debt_40_less['AMT_CREDIT_SUM_DEBT'].mean(), 2)]}"
      ],
      "metadata": {
        "id": "pj73EgR2HlI2"
      },
      "execution_count": null,
      "outputs": []
    },
    {
      "cell_type": "code",
      "source": [
        "prev_debt_mean = pd.DataFrame(data = d)\n",
        "prev_debt_mean"
      ],
      "metadata": {
        "colab": {
          "base_uri": "https://localhost:8080/",
          "height": 112
        },
        "id": "14c19mxeHlLP",
        "outputId": "96fe2d45-7686-4b0a-bf96-ce193695f53d"
      },
      "execution_count": null,
      "outputs": [
        {
          "output_type": "execute_result",
          "data": {
            "text/plain": [
              "       age_group  mean_prev_debt\n",
              "0  40_years_more       675362.59\n",
              "1  40_years_less       891194.38"
            ],
            "text/html": [
              "\n",
              "  <div id=\"df-8e68ed5f-6d12-4cbb-b4c9-04678b50b8bb\">\n",
              "    <div class=\"colab-df-container\">\n",
              "      <div>\n",
              "<style scoped>\n",
              "    .dataframe tbody tr th:only-of-type {\n",
              "        vertical-align: middle;\n",
              "    }\n",
              "\n",
              "    .dataframe tbody tr th {\n",
              "        vertical-align: top;\n",
              "    }\n",
              "\n",
              "    .dataframe thead th {\n",
              "        text-align: right;\n",
              "    }\n",
              "</style>\n",
              "<table border=\"1\" class=\"dataframe\">\n",
              "  <thead>\n",
              "    <tr style=\"text-align: right;\">\n",
              "      <th></th>\n",
              "      <th>age_group</th>\n",
              "      <th>mean_prev_debt</th>\n",
              "    </tr>\n",
              "  </thead>\n",
              "  <tbody>\n",
              "    <tr>\n",
              "      <th>0</th>\n",
              "      <td>40_years_more</td>\n",
              "      <td>675362.59</td>\n",
              "    </tr>\n",
              "    <tr>\n",
              "      <th>1</th>\n",
              "      <td>40_years_less</td>\n",
              "      <td>891194.38</td>\n",
              "    </tr>\n",
              "  </tbody>\n",
              "</table>\n",
              "</div>\n",
              "      <button class=\"colab-df-convert\" onclick=\"convertToInteractive('df-8e68ed5f-6d12-4cbb-b4c9-04678b50b8bb')\"\n",
              "              title=\"Convert this dataframe to an interactive table.\"\n",
              "              style=\"display:none;\">\n",
              "        \n",
              "  <svg xmlns=\"http://www.w3.org/2000/svg\" height=\"24px\"viewBox=\"0 0 24 24\"\n",
              "       width=\"24px\">\n",
              "    <path d=\"M0 0h24v24H0V0z\" fill=\"none\"/>\n",
              "    <path d=\"M18.56 5.44l.94 2.06.94-2.06 2.06-.94-2.06-.94-.94-2.06-.94 2.06-2.06.94zm-11 1L8.5 8.5l.94-2.06 2.06-.94-2.06-.94L8.5 2.5l-.94 2.06-2.06.94zm10 10l.94 2.06.94-2.06 2.06-.94-2.06-.94-.94-2.06-.94 2.06-2.06.94z\"/><path d=\"M17.41 7.96l-1.37-1.37c-.4-.4-.92-.59-1.43-.59-.52 0-1.04.2-1.43.59L10.3 9.45l-7.72 7.72c-.78.78-.78 2.05 0 2.83L4 21.41c.39.39.9.59 1.41.59.51 0 1.02-.2 1.41-.59l7.78-7.78 2.81-2.81c.8-.78.8-2.07 0-2.86zM5.41 20L4 18.59l7.72-7.72 1.47 1.35L5.41 20z\"/>\n",
              "  </svg>\n",
              "      </button>\n",
              "      \n",
              "  <style>\n",
              "    .colab-df-container {\n",
              "      display:flex;\n",
              "      flex-wrap:wrap;\n",
              "      gap: 12px;\n",
              "    }\n",
              "\n",
              "    .colab-df-convert {\n",
              "      background-color: #E8F0FE;\n",
              "      border: none;\n",
              "      border-radius: 50%;\n",
              "      cursor: pointer;\n",
              "      display: none;\n",
              "      fill: #1967D2;\n",
              "      height: 32px;\n",
              "      padding: 0 0 0 0;\n",
              "      width: 32px;\n",
              "    }\n",
              "\n",
              "    .colab-df-convert:hover {\n",
              "      background-color: #E2EBFA;\n",
              "      box-shadow: 0px 1px 2px rgba(60, 64, 67, 0.3), 0px 1px 3px 1px rgba(60, 64, 67, 0.15);\n",
              "      fill: #174EA6;\n",
              "    }\n",
              "\n",
              "    [theme=dark] .colab-df-convert {\n",
              "      background-color: #3B4455;\n",
              "      fill: #D2E3FC;\n",
              "    }\n",
              "\n",
              "    [theme=dark] .colab-df-convert:hover {\n",
              "      background-color: #434B5C;\n",
              "      box-shadow: 0px 1px 3px 1px rgba(0, 0, 0, 0.15);\n",
              "      filter: drop-shadow(0px 1px 2px rgba(0, 0, 0, 0.3));\n",
              "      fill: #FFFFFF;\n",
              "    }\n",
              "  </style>\n",
              "\n",
              "      <script>\n",
              "        const buttonEl =\n",
              "          document.querySelector('#df-8e68ed5f-6d12-4cbb-b4c9-04678b50b8bb button.colab-df-convert');\n",
              "        buttonEl.style.display =\n",
              "          google.colab.kernel.accessAllowed ? 'block' : 'none';\n",
              "\n",
              "        async function convertToInteractive(key) {\n",
              "          const element = document.querySelector('#df-8e68ed5f-6d12-4cbb-b4c9-04678b50b8bb');\n",
              "          const dataTable =\n",
              "            await google.colab.kernel.invokeFunction('convertToInteractive',\n",
              "                                                     [key], {});\n",
              "          if (!dataTable) return;\n",
              "\n",
              "          const docLinkHtml = 'Like what you see? Visit the ' +\n",
              "            '<a target=\"_blank\" href=https://colab.research.google.com/notebooks/data_table.ipynb>data table notebook</a>'\n",
              "            + ' to learn more about interactive tables.';\n",
              "          element.innerHTML = '';\n",
              "          dataTable['output_type'] = 'display_data';\n",
              "          await google.colab.output.renderOutput(dataTable, element);\n",
              "          const docLink = document.createElement('div');\n",
              "          docLink.innerHTML = docLinkHtml;\n",
              "          element.appendChild(docLink);\n",
              "        }\n",
              "      </script>\n",
              "    </div>\n",
              "  </div>\n",
              "  "
            ]
          },
          "metadata": {},
          "execution_count": 24
        }
      ]
    },
    {
      "cell_type": "code",
      "source": [
        "sns.barplot(data=prev_debt_mean, x=\"age_group\", y = \"mean_prev_debt\")"
      ],
      "metadata": {
        "colab": {
          "base_uri": "https://localhost:8080/",
          "height": 476
        },
        "id": "W9gn90Z6HlNS",
        "outputId": "025ffe4b-317a-4b0f-982a-7e458aa041c1"
      },
      "execution_count": null,
      "outputs": [
        {
          "output_type": "execute_result",
          "data": {
            "text/plain": [
              "<Axes: xlabel='age_group', ylabel='mean_prev_debt'>"
            ]
          },
          "metadata": {},
          "execution_count": 25
        },
        {
          "output_type": "display_data",
          "data": {
            "text/plain": [
              "<Figure size 640x480 with 1 Axes>"
            ],
            "image/png": "[encoded data removed]"
          },
          "metadata": {}
        }
      ]
    },
    {
      "cell_type": "markdown",
      "source": [
        "#### The effect of External Data Source on Repayment ability\n",
        "- EXT_SOURCE_1, 2, 3: Normalized score from external data source"
      ],
      "metadata": {
        "id": "M8slFnoGNMnA"
      }
    },
    {
      "cell_type": "code",
      "source": [
        "plt.figure(figsize = (6, 4))\n",
        "\n",
        "# KDE plot of loans that were repaid on time\n",
        "sns.kdeplot(application_train_raw.loc[application_train_raw['TARGET'] == 0, 'EXT_SOURCE_1'], label = 'target == 0', fill=True, alpha=.5)\n",
        "# plot loans that were not repaid\n",
        "sns.kdeplot(application_train_raw.loc[application_train_raw['TARGET'] == 1, 'EXT_SOURCE_1'], label = 'target == 1', fill=True, alpha=.5)\n",
        "\n",
        "# Label the plots\n",
        "plt.title('Distribution of EXT_SOURCE_1 by Target Value')\n",
        "plt.xlabel('EXT_SOURCE_1'); plt.ylabel('Frequency');\n",
        "plt.legend()\n",
        "plt.grid(True)"
      ],
      "metadata": {
        "colab": {
          "base_uri": "https://localhost:8080/",
          "height": 419
        },
        "id": "dWgHx0EqNK3d",
        "outputId": "7e6f201a-cb06-42fe-9e8c-1def0e28775e"
      },
      "execution_count": null,
      "outputs": [
        {
          "output_type": "display_data",
          "data": {
            "text/plain": [
              "<Figure size 600x400 with 1 Axes>"
            ],
            "image/png": "[encoded data removed]"
          },
          "metadata": {}
        }
      ]
    },
    {
      "cell_type": "code",
      "source": [
        "plt.figure(figsize = (6, 4))\n",
        "\n",
        "# KDE plot of loans that were repaid on time\n",
        "sns.kdeplot(application_train_raw.loc[application_train_raw['TARGET'] == 0, 'EXT_SOURCE_2'], label = 'target == 0', fill=True, alpha=.5)\n",
        "# plot loans that were not repaid\n",
        "sns.kdeplot(application_train_raw.loc[application_train_raw['TARGET'] == 1, 'EXT_SOURCE_2'], label = 'target == 1', fill=True, alpha=.5)\n",
        "\n",
        "# Label the plots\n",
        "plt.title('Distribution of EXT_SOURCE_2 by Target Value')\n",
        "plt.xlabel('EXT_SOURCE_2'); plt.ylabel('Frequency');\n",
        "\n",
        "plt.ylim(0,4)\n",
        "\n",
        "plt.legend()\n",
        "plt.grid(True)"
      ],
      "metadata": {
        "colab": {
          "base_uri": "https://localhost:8080/",
          "height": 419
        },
        "id": "f6GdVVY0NLR3",
        "outputId": "447a7117-b8b2-4035-e9ce-578fa3e5d4fb"
      },
      "execution_count": null,
      "outputs": [
        {
          "output_type": "display_data",
          "data": {
            "text/plain": [
              "<Figure size 600x400 with 1 Axes>"
            ],
            "image/png": "[encoded data removed]"
          },
          "metadata": {}
        }
      ]
    },
    {
      "cell_type": "code",
      "source": [
        "plt.figure(figsize = (6, 4))\n",
        "\n",
        "# KDE plot of loans that were repaid on time\n",
        "sns.kdeplot(application_train_raw.loc[application_train_raw['TARGET'] == 0, 'EXT_SOURCE_3'], label = 'target == 0', fill=True, alpha=.5)\n",
        "# plot loans that were not repaid\n",
        "sns.kdeplot(application_train_raw.loc[application_train_raw['TARGET'] == 1, 'EXT_SOURCE_3'], label = 'target == 1', fill=True, alpha=.5)\n",
        "\n",
        "# Label the plots\n",
        "plt.title('Distribution of EXT_SOURCE_3 by Target Value')\n",
        "plt.xlabel('EXT_SOURCE_3'); plt.ylabel('Frequency');\n",
        "\n",
        "plt.ylim(0,3)\n",
        "plt.legend()\n",
        "plt.grid(True)"
      ],
      "metadata": {
        "colab": {
          "base_uri": "https://localhost:8080/",
          "height": 419
        },
        "id": "CmkxEFmmNLUN",
        "outputId": "00078b59-c42b-4148-922e-91119f2ea293"
      },
      "execution_count": null,
      "outputs": [
        {
          "output_type": "display_data",
          "data": {
            "text/plain": [
              "<Figure size 600x400 with 1 Axes>"
            ],
            "image/png": "[encoded data removed]"
          },
          "metadata": {}
        }
      ]
    },
    {
      "cell_type": "markdown",
      "source": [
        "### Feature Engineering\n",
        "##### 1. Credit terms: the length of time the borrower has to repay the loan (Unit = months)\n",
        "Equals to AMT_CREDIT/ AMT_ANNUITY"
      ],
      "metadata": {
        "id": "l5Xh_E5ZOLnA"
      }
    },
    {
      "cell_type": "code",
      "source": [
        "app_train_2 = application_train_raw.copy()\n",
        "app_train_2['CREDIT_TERM'] = app_train_2['AMT_CREDIT'] / app_train_2['AMT_ANNUITY']"
      ],
      "metadata": {
        "id": "a23roWbGNLW8"
      },
      "execution_count": null,
      "outputs": []
    },
    {
      "cell_type": "code",
      "source": [
        "plt.figure(figsize = (6, 4))\n",
        "\n",
        "# KDE plot of loans that were repaid on time\n",
        "sns.kdeplot(app_train_2.loc[app_train_2['TARGET'] == 0, 'CREDIT_TERM'], label = 'target == 0', alpha= 1)\n",
        "# plot loans that were not repaid\n",
        "sns.kdeplot(app_train_2.loc[app_train_2['TARGET'] == 1, 'CREDIT_TERM'], label = 'target == 1', alpha= 1)\n",
        "\n",
        "# Label the plots\n",
        "plt.title('Distribution of CREDIT_TERM by Target Value')\n",
        "plt.xlabel('CREDIT_TERM'); plt.ylabel('Frequency');\n",
        "plt.legend()\n",
        "plt.grid(True)"
      ],
      "metadata": {
        "colab": {
          "base_uri": "https://localhost:8080/",
          "height": 419
        },
        "id": "QvuylZxjNLYr",
        "outputId": "43d8fdaa-97e1-49d1-be3f-a1adbb26a86a"
      },
      "execution_count": null,
      "outputs": [
        {
          "output_type": "display_data",
          "data": {
            "text/plain": [
              "<Figure size 600x400 with 1 Axes>"
            ],
            "image/png": "[encoded data removed]"
          },
          "metadata": {}
        }
      ]
    },
    {
      "cell_type": "markdown",
      "source": [
        "##### 2. ANNUITY_INCOME_TIMES: How much income relative the amount of annuity each period (Unit = times)\n",
        "Equals to AMT_INCOME_TOTAL / AMT_ANNUITY"
      ],
      "metadata": {
        "id": "OFBQG45DOYRo"
      }
    },
    {
      "cell_type": "code",
      "source": [
        "app_train_2['ANNUITY_INCOME_TIMES'] = app_train_2['AMT_INCOME_TOTAL'] / app_train_2['AMT_ANNUITY']"
      ],
      "metadata": {
        "id": "ojh7aiSqNLaX"
      },
      "execution_count": null,
      "outputs": []
    },
    {
      "cell_type": "code",
      "source": [
        "app_train_2['ANNUITY_INCOME_TIMES'].min()"
      ],
      "metadata": {
        "colab": {
          "base_uri": "https://localhost:8080/"
        },
        "id": "MB91QhwY6QZr",
        "outputId": "cbe5bdfd-368c-4d8e-b895-a2d4260fd717"
      },
      "execution_count": null,
      "outputs": [
        {
          "output_type": "execute_result",
          "data": {
            "text/plain": [
              "0.5330590105676611"
            ]
          },
          "metadata": {},
          "execution_count": 43
        }
      ]
    },
    {
      "cell_type": "code",
      "source": [
        "plt.figure(figsize = (6, 4))\n",
        "\n",
        "# KDE plot of loans that were repaid on time\n",
        "sns.kdeplot(app_train_2.loc[app_train_2['TARGET'] == 0, 'ANNUITY_INCOME_TIMES'], label = 'target == 0', alpha= 1)\n",
        "# plot loans that were not repaid\n",
        "sns.kdeplot(app_train_2.loc[app_train_2['TARGET'] == 1, 'ANNUITY_INCOME_TIMES'], label = 'target == 1', alpha= 1)\n",
        "\n",
        "# Label the plots\n",
        "plt.title('Distribution of ANNUITY_INCOME_TIMES by Target Value')\n",
        "plt.xlabel('ANNUITY_INCOME_TIMES')\n",
        "plt.ylabel('Frequency')\n",
        "\n",
        "plt.xlim(0,100)\n",
        "\n",
        "plt.legend()\n",
        "plt.grid(True)"
      ],
      "metadata": {
        "colab": {
          "base_uri": "https://localhost:8080/",
          "height": 419
        },
        "id": "1uCFtvXvOWrA",
        "outputId": "beb03423-bdc9-4414-91f2-b894c963791f"
      },
      "execution_count": null,
      "outputs": [
        {
          "output_type": "display_data",
          "data": {
            "text/plain": [
              "<Figure size 600x400 with 1 Axes>"
            ],
            "image/png": "[encoded data removed]"
          },
          "metadata": {}
        }
      ]
    },
    {
      "cell_type": "code",
      "source": [
        "########## Do it again with test data ##########\n",
        "app_test_2 = application_test_raw.copy()\n",
        "app_test_2['CREDIT_TERM'] = app_test_2['AMT_CREDIT'] / app_test_2['AMT_ANNUITY']\n",
        "app_test_2['ANNUITY_INCOME_TIMES'] = app_train_2['AMT_INCOME_TOTAL'] / app_test_2['AMT_ANNUITY']"
      ],
      "metadata": {
        "id": "BwkFuZ6sqsSC"
      },
      "execution_count": null,
      "outputs": []
    },
    {
      "cell_type": "markdown",
      "metadata": {
        "id": "baef62c2"
      },
      "source": [
        "# Data-Preprocessing\n",
        "Of `application_train` & `application_test`"
      ]
    },
    {
      "cell_type": "markdown",
      "metadata": {
        "id": "88bb194b"
      },
      "source": [
        "#### Check if this is an imbalance dataset"
      ]
    },
    {
      "cell_type": "code",
      "execution_count": null,
      "metadata": {
        "scrolled": false,
        "id": "f554a153",
        "outputId": "ed0fab04-a348-4106-d57a-330b99910ba1",
        "colab": {
          "base_uri": "https://localhost:8080/"
        }
      },
      "outputs": [
        {
          "output_type": "execute_result",
          "data": {
            "text/plain": [
              "0    282686\n",
              "1     24825\n",
              "Name: TARGET, dtype: int64"
            ]
          },
          "metadata": {},
          "execution_count": 44
        }
      ],
      "source": [
        "application_train_raw['TARGET'].value_counts()"
      ]
    },
    {
      "cell_type": "code",
      "execution_count": null,
      "metadata": {
        "scrolled": false,
        "id": "67763d61",
        "outputId": "d58a2246-de7a-47aa-a20d-6f28839d6505",
        "colab": {
          "base_uri": "https://localhost:8080/",
          "height": 451
        }
      },
      "outputs": [
        {
          "output_type": "execute_result",
          "data": {
            "text/plain": [
              "<Axes: ylabel='Frequency'>"
            ]
          },
          "metadata": {},
          "execution_count": 45
        },
        {
          "output_type": "display_data",
          "data": {
            "text/plain": [
              "<Figure size 640x480 with 1 Axes>"
            ],
            "image/png": "[encoded data removed]"
          },
          "metadata": {}
        }
      ],
      "source": [
        "application_train_raw['TARGET'].astype(int).plot.hist()"
      ]
    },
    {
      "cell_type": "markdown",
      "metadata": {
        "id": "4ea935d1"
      },
      "source": [
        "This is an imbalance dataset. We need to deal with this before training machine learning models"
      ]
    },
    {
      "cell_type": "code",
      "execution_count": null,
      "metadata": {
        "id": "97338fcd",
        "outputId": "b09cf643-7936-4a8c-e051-e269b8bc96a4",
        "colab": {
          "base_uri": "https://localhost:8080/"
        }
      },
      "outputs": [
        {
          "output_type": "execute_result",
          "data": {
            "text/plain": [
              "(307511, 122)"
            ]
          },
          "metadata": {},
          "execution_count": 46
        }
      ],
      "source": [
        "application_train_raw.shape"
      ]
    },
    {
      "cell_type": "markdown",
      "metadata": {
        "id": "360546e2"
      },
      "source": [
        "#### Create a copy"
      ]
    },
    {
      "cell_type": "code",
      "execution_count": null,
      "metadata": {
        "id": "8777d965"
      },
      "outputs": [],
      "source": [
        "application_test = application_test_raw.copy()\n",
        "application_train = application_train_raw.copy()"
      ]
    },
    {
      "cell_type": "markdown",
      "metadata": {
        "id": "05eb36d9"
      },
      "source": [
        "#### View the descriptive statistics & Check for anomalies\n",
        "- Look at .describe(): min, max"
      ]
    },
    {
      "cell_type": "code",
      "execution_count": null,
      "metadata": {
        "id": "823d7e56",
        "outputId": "640b8509-fbb4-49b9-af6f-6ff63ac9793d",
        "colab": {
          "base_uri": "https://localhost:8080/",
          "height": 488
        }
      },
      "outputs": [
        {
          "output_type": "execute_result",
          "data": {
            "text/plain": [
              "           SK_ID_CURR NAME_CONTRACT_TYPE CODE_GENDER FLAG_OWN_CAR  \\\n",
              "count    48744.000000              48744       48744        48744   \n",
              "unique            NaN                  2           2            2   \n",
              "top               NaN         Cash loans           F            N   \n",
              "freq              NaN              48305       32678        32311   \n",
              "mean    277796.676350                NaN         NaN          NaN   \n",
              "std     103169.547296                NaN         NaN          NaN   \n",
              "min     100001.000000                NaN         NaN          NaN   \n",
              "25%     188557.750000                NaN         NaN          NaN   \n",
              "50%     277549.000000                NaN         NaN          NaN   \n",
              "75%     367555.500000                NaN         NaN          NaN   \n",
              "max     456250.000000                NaN         NaN          NaN   \n",
              "\n",
              "       FLAG_OWN_REALTY  CNT_CHILDREN  AMT_INCOME_TOTAL    AMT_CREDIT  \\\n",
              "count            48744  48744.000000      4.874400e+04  4.874400e+04   \n",
              "unique               2           NaN               NaN           NaN   \n",
              "top                  Y           NaN               NaN           NaN   \n",
              "freq             33658           NaN               NaN           NaN   \n",
              "mean               NaN      0.397054      1.784318e+05  5.167404e+05   \n",
              "std                NaN      0.709047      1.015226e+05  3.653970e+05   \n",
              "min                NaN      0.000000      2.694150e+04  4.500000e+04   \n",
              "25%                NaN      0.000000      1.125000e+05  2.606400e+05   \n",
              "50%                NaN      0.000000      1.575000e+05  4.500000e+05   \n",
              "75%                NaN      1.000000      2.250000e+05  6.750000e+05   \n",
              "max                NaN     20.000000      4.410000e+06  2.245500e+06   \n",
              "\n",
              "          AMT_ANNUITY  AMT_GOODS_PRICE  ... FLAG_DOCUMENT_18 FLAG_DOCUMENT_19  \\\n",
              "count    48720.000000     4.874400e+04  ...     48744.000000          48744.0   \n",
              "unique            NaN              NaN  ...              NaN              NaN   \n",
              "top               NaN              NaN  ...              NaN              NaN   \n",
              "freq              NaN              NaN  ...              NaN              NaN   \n",
              "mean     29426.240209     4.626188e+05  ...         0.001559              0.0   \n",
              "std      16016.368315     3.367102e+05  ...         0.039456              0.0   \n",
              "min       2295.000000     4.500000e+04  ...         0.000000              0.0   \n",
              "25%      17973.000000     2.250000e+05  ...         0.000000              0.0   \n",
              "50%      26199.000000     3.960000e+05  ...         0.000000              0.0   \n",
              "75%      37390.500000     6.300000e+05  ...         0.000000              0.0   \n",
              "max     180576.000000     2.245500e+06  ...         1.000000              0.0   \n",
              "\n",
              "       FLAG_DOCUMENT_20 FLAG_DOCUMENT_21 AMT_REQ_CREDIT_BUREAU_HOUR  \\\n",
              "count           48744.0          48744.0               42695.000000   \n",
              "unique              NaN              NaN                        NaN   \n",
              "top                 NaN              NaN                        NaN   \n",
              "freq                NaN              NaN                        NaN   \n",
              "mean                0.0              0.0                   0.002108   \n",
              "std                 0.0              0.0                   0.046373   \n",
              "min                 0.0              0.0                   0.000000   \n",
              "25%                 0.0              0.0                   0.000000   \n",
              "50%                 0.0              0.0                   0.000000   \n",
              "75%                 0.0              0.0                   0.000000   \n",
              "max                 0.0              0.0                   2.000000   \n",
              "\n",
              "        AMT_REQ_CREDIT_BUREAU_DAY  AMT_REQ_CREDIT_BUREAU_WEEK  \\\n",
              "count                42695.000000                42695.000000   \n",
              "unique                        NaN                         NaN   \n",
              "top                           NaN                         NaN   \n",
              "freq                          NaN                         NaN   \n",
              "mean                     0.001803                    0.002787   \n",
              "std                      0.046132                    0.054037   \n",
              "min                      0.000000                    0.000000   \n",
              "25%                      0.000000                    0.000000   \n",
              "50%                      0.000000                    0.000000   \n",
              "75%                      0.000000                    0.000000   \n",
              "max                      2.000000                    2.000000   \n",
              "\n",
              "        AMT_REQ_CREDIT_BUREAU_MON  AMT_REQ_CREDIT_BUREAU_QRT  \\\n",
              "count                42695.000000               42695.000000   \n",
              "unique                        NaN                        NaN   \n",
              "top                           NaN                        NaN   \n",
              "freq                          NaN                        NaN   \n",
              "mean                     0.009299                   0.546902   \n",
              "std                      0.110924                   0.693305   \n",
              "min                      0.000000                   0.000000   \n",
              "25%                      0.000000                   0.000000   \n",
              "50%                      0.000000                   0.000000   \n",
              "75%                      0.000000                   1.000000   \n",
              "max                      6.000000                   7.000000   \n",
              "\n",
              "        AMT_REQ_CREDIT_BUREAU_YEAR  \n",
              "count                 42695.000000  \n",
              "unique                         NaN  \n",
              "top                            NaN  \n",
              "freq                           NaN  \n",
              "mean                      1.983769  \n",
              "std                       1.838873  \n",
              "min                       0.000000  \n",
              "25%                       0.000000  \n",
              "50%                       2.000000  \n",
              "75%                       3.000000  \n",
              "max                      17.000000  \n",
              "\n",
              "[11 rows x 121 columns]"
            ],
            "text/html": [
              "\n",
              "  <div id=\"df-7ced9910-f29a-4ac8-9e18-c2cdaafb68ae\">\n",
              "    <div class=\"colab-df-container\">\n",
              "      <div>\n",
              "<style scoped>\n",
              "    .dataframe tbody tr th:only-of-type {\n",
              "        vertical-align: middle;\n",
              "    }\n",
              "\n",
              "    .dataframe tbody tr th {\n",
              "        vertical-align: top;\n",
              "    }\n",
              "\n",
              "    .dataframe thead th {\n",
              "        text-align: right;\n",
              "    }\n",
              "</style>\n",
              "<table border=\"1\" class=\"dataframe\">\n",
              "  <thead>\n",
              "    <tr style=\"text-align: right;\">\n",
              "      <th></th>\n",
              "      <th>SK_ID_CURR</th>\n",
              "      <th>NAME_CONTRACT_TYPE</th>\n",
              "      <th>CODE_GENDER</th>\n",
              "      <th>FLAG_OWN_CAR</th>\n",
              "      <th>FLAG_OWN_REALTY</th>\n",
              "      <th>CNT_CHILDREN</th>\n",
              "      <th>AMT_INCOME_TOTAL</th>\n",
              "      <th>AMT_CREDIT</th>\n",
              "      <th>AMT_ANNUITY</th>\n",
              "      <th>AMT_GOODS_PRICE</th>\n",
              "      <th>...</th>\n",
              "      <th>FLAG_DOCUMENT_18</th>\n",
              "      <th>FLAG_DOCUMENT_19</th>\n",
              "      <th>FLAG_DOCUMENT_20</th>\n",
              "      <th>FLAG_DOCUMENT_21</th>\n",
              "      <th>AMT_REQ_CREDIT_BUREAU_HOUR</th>\n",
              "      <th>AMT_REQ_CREDIT_BUREAU_DAY</th>\n",
              "      <th>AMT_REQ_CREDIT_BUREAU_WEEK</th>\n",
              "      <th>AMT_REQ_CREDIT_BUREAU_MON</th>\n",
              "      <th>AMT_REQ_CREDIT_BUREAU_QRT</th>\n",
              "      <th>AMT_REQ_CREDIT_BUREAU_YEAR</th>\n",
              "    </tr>\n",
              "  </thead>\n",
              "  <tbody>\n",
              "    <tr>\n",
              "      <th>count</th>\n",
              "      <td>48744.000000</td>\n",
              "      <td>48744</td>\n",
              "      <td>48744</td>\n",
              "      <td>48744</td>\n",
              "      <td>48744</td>\n",
              "      <td>48744.000000</td>\n",
              "      <td>4.874400e+04</td>\n",
              "      <td>4.874400e+04</td>\n",
              "      <td>48720.000000</td>\n",
              "      <td>4.874400e+04</td>\n",
              "      <td>...</td>\n",
              "      <td>48744.000000</td>\n",
              "      <td>48744.0</td>\n",
              "      <td>48744.0</td>\n",
              "      <td>48744.0</td>\n",
              "      <td>42695.000000</td>\n",
              "      <td>42695.000000</td>\n",
              "      <td>42695.000000</td>\n",
              "      <td>42695.000000</td>\n",
              "      <td>42695.000000</td>\n",
              "      <td>42695.000000</td>\n",
              "    </tr>\n",
              "    <tr>\n",
              "      <th>unique</th>\n",
              "      <td>NaN</td>\n",
              "      <td>2</td>\n",
              "      <td>2</td>\n",
              "      <td>2</td>\n",
              "      <td>2</td>\n",
              "      <td>NaN</td>\n",
              "      <td>NaN</td>\n",
              "      <td>NaN</td>\n",
              "      <td>NaN</td>\n",
              "      <td>NaN</td>\n",
              "      <td>...</td>\n",
              "      <td>NaN</td>\n",
              "      <td>NaN</td>\n",
              "      <td>NaN</td>\n",
              "      <td>NaN</td>\n",
              "      <td>NaN</td>\n",
              "      <td>NaN</td>\n",
              "      <td>NaN</td>\n",
              "      <td>NaN</td>\n",
              "      <td>NaN</td>\n",
              "      <td>NaN</td>\n",
              "    </tr>\n",
              "    <tr>\n",
              "      <th>top</th>\n",
              "      <td>NaN</td>\n",
              "      <td>Cash loans</td>\n",
              "      <td>F</td>\n",
              "      <td>N</td>\n",
              "      <td>Y</td>\n",
              "      <td>NaN</td>\n",
              "      <td>NaN</td>\n",
              "      <td>NaN</td>\n",
              "      <td>NaN</td>\n",
              "      <td>NaN</td>\n",
              "      <td>...</td>\n",
              "      <td>NaN</td>\n",
              "      <td>NaN</td>\n",
              "      <td>NaN</td>\n",
              "      <td>NaN</td>\n",
              "      <td>NaN</td>\n",
              "      <td>NaN</td>\n",
              "      <td>NaN</td>\n",
              "      <td>NaN</td>\n",
              "      <td>NaN</td>\n",
              "      <td>NaN</td>\n",
              "    </tr>\n",
              "    <tr>\n",
              "      <th>freq</th>\n",
              "      <td>NaN</td>\n",
              "      <td>48305</td>\n",
              "      <td>32678</td>\n",
              "      <td>32311</td>\n",
              "      <td>33658</td>\n",
              "      <td>NaN</td>\n",
              "      <td>NaN</td>\n",
              "      <td>NaN</td>\n",
              "      <td>NaN</td>\n",
              "      <td>NaN</td>\n",
              "      <td>...</td>\n",
              "      <td>NaN</td>\n",
              "      <td>NaN</td>\n",
              "      <td>NaN</td>\n",
              "      <td>NaN</td>\n",
              "      <td>NaN</td>\n",
              "      <td>NaN</td>\n",
              "      <td>NaN</td>\n",
              "      <td>NaN</td>\n",
              "      <td>NaN</td>\n",
              "      <td>NaN</td>\n",
              "    </tr>\n",
              "    <tr>\n",
              "      <th>mean</th>\n",
              "      <td>277796.676350</td>\n",
              "      <td>NaN</td>\n",
              "      <td>NaN</td>\n",
              "      <td>NaN</td>\n",
              "      <td>NaN</td>\n",
              "      <td>0.397054</td>\n",
              "      <td>1.784318e+05</td>\n",
              "      <td>5.167404e+05</td>\n",
              "      <td>29426.240209</td>\n",
              "      <td>4.626188e+05</td>\n",
              "      <td>...</td>\n",
              "      <td>0.001559</td>\n",
              "      <td>0.0</td>\n",
              "      <td>0.0</td>\n",
              "      <td>0.0</td>\n",
              "      <td>0.002108</td>\n",
              "      <td>0.001803</td>\n",
              "      <td>0.002787</td>\n",
              "      <td>0.009299</td>\n",
              "      <td>0.546902</td>\n",
              "      <td>1.983769</td>\n",
              "    </tr>\n",
              "    <tr>\n",
              "      <th>std</th>\n",
              "      <td>103169.547296</td>\n",
              "      <td>NaN</td>\n",
              "      <td>NaN</td>\n",
              "      <td>NaN</td>\n",
              "      <td>NaN</td>\n",
              "      <td>0.709047</td>\n",
              "      <td>1.015226e+05</td>\n",
              "      <td>3.653970e+05</td>\n",
              "      <td>16016.368315</td>\n",
              "      <td>3.367102e+05</td>\n",
              "      <td>...</td>\n",
              "      <td>0.039456</td>\n",
              "      <td>0.0</td>\n",
              "      <td>0.0</td>\n",
              "      <td>0.0</td>\n",
              "      <td>0.046373</td>\n",
              "      <td>0.046132</td>\n",
              "      <td>0.054037</td>\n",
              "      <td>0.110924</td>\n",
              "      <td>0.693305</td>\n",
              "      <td>1.838873</td>\n",
              "    </tr>\n",
              "    <tr>\n",
              "      <th>min</th>\n",
              "      <td>100001.000000</td>\n",
              "      <td>NaN</td>\n",
              "      <td>NaN</td>\n",
              "      <td>NaN</td>\n",
              "      <td>NaN</td>\n",
              "      <td>0.000000</td>\n",
              "      <td>2.694150e+04</td>\n",
              "      <td>4.500000e+04</td>\n",
              "      <td>2295.000000</td>\n",
              "      <td>4.500000e+04</td>\n",
              "      <td>...</td>\n",
              "      <td>0.000000</td>\n",
              "      <td>0.0</td>\n",
              "      <td>0.0</td>\n",
              "      <td>0.0</td>\n",
              "      <td>0.000000</td>\n",
              "      <td>0.000000</td>\n",
              "      <td>0.000000</td>\n",
              "      <td>0.000000</td>\n",
              "      <td>0.000000</td>\n",
              "      <td>0.000000</td>\n",
              "    </tr>\n",
              "    <tr>\n",
              "      <th>25%</th>\n",
              "      <td>188557.750000</td>\n",
              "      <td>NaN</td>\n",
              "      <td>NaN</td>\n",
              "      <td>NaN</td>\n",
              "      <td>NaN</td>\n",
              "      <td>0.000000</td>\n",
              "      <td>1.125000e+05</td>\n",
              "      <td>2.606400e+05</td>\n",
              "      <td>17973.000000</td>\n",
              "      <td>2.250000e+05</td>\n",
              "      <td>...</td>\n",
              "      <td>0.000000</td>\n",
              "      <td>0.0</td>\n",
              "      <td>0.0</td>\n",
              "      <td>0.0</td>\n",
              "      <td>0.000000</td>\n",
              "      <td>0.000000</td>\n",
              "      <td>0.000000</td>\n",
              "      <td>0.000000</td>\n",
              "      <td>0.000000</td>\n",
              "      <td>0.000000</td>\n",
              "    </tr>\n",
              "    <tr>\n",
              "      <th>50%</th>\n",
              "      <td>277549.000000</td>\n",
              "      <td>NaN</td>\n",
              "      <td>NaN</td>\n",
              "      <td>NaN</td>\n",
              "      <td>NaN</td>\n",
              "      <td>0.000000</td>\n",
              "      <td>1.575000e+05</td>\n",
              "      <td>4.500000e+05</td>\n",
              "      <td>26199.000000</td>\n",
              "      <td>3.960000e+05</td>\n",
              "      <td>...</td>\n",
              "      <td>0.000000</td>\n",
              "      <td>0.0</td>\n",
              "      <td>0.0</td>\n",
              "      <td>0.0</td>\n",
              "      <td>0.000000</td>\n",
              "      <td>0.000000</td>\n",
              "      <td>0.000000</td>\n",
              "      <td>0.000000</td>\n",
              "      <td>0.000000</td>\n",
              "      <td>2.000000</td>\n",
              "    </tr>\n",
              "    <tr>\n",
              "      <th>75%</th>\n",
              "      <td>367555.500000</td>\n",
              "      <td>NaN</td>\n",
              "      <td>NaN</td>\n",
              "      <td>NaN</td>\n",
              "      <td>NaN</td>\n",
              "      <td>1.000000</td>\n",
              "      <td>2.250000e+05</td>\n",
              "      <td>6.750000e+05</td>\n",
              "      <td>37390.500000</td>\n",
              "      <td>6.300000e+05</td>\n",
              "      <td>...</td>\n",
              "      <td>0.000000</td>\n",
              "      <td>0.0</td>\n",
              "      <td>0.0</td>\n",
              "      <td>0.0</td>\n",
              "      <td>0.000000</td>\n",
              "      <td>0.000000</td>\n",
              "      <td>0.000000</td>\n",
              "      <td>0.000000</td>\n",
              "      <td>1.000000</td>\n",
              "      <td>3.000000</td>\n",
              "    </tr>\n",
              "    <tr>\n",
              "      <th>max</th>\n",
              "      <td>456250.000000</td>\n",
              "      <td>NaN</td>\n",
              "      <td>NaN</td>\n",
              "      <td>NaN</td>\n",
              "      <td>NaN</td>\n",
              "      <td>20.000000</td>\n",
              "      <td>4.410000e+06</td>\n",
              "      <td>2.245500e+06</td>\n",
              "      <td>180576.000000</td>\n",
              "      <td>2.245500e+06</td>\n",
              "      <td>...</td>\n",
              "      <td>1.000000</td>\n",
              "      <td>0.0</td>\n",
              "      <td>0.0</td>\n",
              "      <td>0.0</td>\n",
              "      <td>2.000000</td>\n",
              "      <td>2.000000</td>\n",
              "      <td>2.000000</td>\n",
              "      <td>6.000000</td>\n",
              "      <td>7.000000</td>\n",
              "      <td>17.000000</td>\n",
              "    </tr>\n",
              "  </tbody>\n",
              "</table>\n",
              "<p>11 rows × 121 columns</p>\n",
              "</div>\n",
              "      <button class=\"colab-df-convert\" onclick=\"convertToInteractive('df-7ced9910-f29a-4ac8-9e18-c2cdaafb68ae')\"\n",
              "              title=\"Convert this dataframe to an interactive table.\"\n",
              "              style=\"display:none;\">\n",
              "        \n",
              "  <svg xmlns=\"http://www.w3.org/2000/svg\" height=\"24px\"viewBox=\"0 0 24 24\"\n",
              "       width=\"24px\">\n",
              "    <path d=\"M0 0h24v24H0V0z\" fill=\"none\"/>\n",
              "    <path d=\"M18.56 5.44l.94 2.06.94-2.06 2.06-.94-2.06-.94-.94-2.06-.94 2.06-2.06.94zm-11 1L8.5 8.5l.94-2.06 2.06-.94-2.06-.94L8.5 2.5l-.94 2.06-2.06.94zm10 10l.94 2.06.94-2.06 2.06-.94-2.06-.94-.94-2.06-.94 2.06-2.06.94z\"/><path d=\"M17.41 7.96l-1.37-1.37c-.4-.4-.92-.59-1.43-.59-.52 0-1.04.2-1.43.59L10.3 9.45l-7.72 7.72c-.78.78-.78 2.05 0 2.83L4 21.41c.39.39.9.59 1.41.59.51 0 1.02-.2 1.41-.59l7.78-7.78 2.81-2.81c.8-.78.8-2.07 0-2.86zM5.41 20L4 18.59l7.72-7.72 1.47 1.35L5.41 20z\"/>\n",
              "  </svg>\n",
              "      </button>\n",
              "      \n",
              "  <style>\n",
              "    .colab-df-container {\n",
              "      display:flex;\n",
              "      flex-wrap:wrap;\n",
              "      gap: 12px;\n",
              "    }\n",
              "\n",
              "    .colab-df-convert {\n",
              "      background-color: #E8F0FE;\n",
              "      border: none;\n",
              "      border-radius: 50%;\n",
              "      cursor: pointer;\n",
              "      display: none;\n",
              "      fill: #1967D2;\n",
              "      height: 32px;\n",
              "      padding: 0 0 0 0;\n",
              "      width: 32px;\n",
              "    }\n",
              "\n",
              "    .colab-df-convert:hover {\n",
              "      background-color: #E2EBFA;\n",
              "      box-shadow: 0px 1px 2px rgba(60, 64, 67, 0.3), 0px 1px 3px 1px rgba(60, 64, 67, 0.15);\n",
              "      fill: #174EA6;\n",
              "    }\n",
              "\n",
              "    [theme=dark] .colab-df-convert {\n",
              "      background-color: #3B4455;\n",
              "      fill: #D2E3FC;\n",
              "    }\n",
              "\n",
              "    [theme=dark] .colab-df-convert:hover {\n",
              "      background-color: #434B5C;\n",
              "      box-shadow: 0px 1px 3px 1px rgba(0, 0, 0, 0.15);\n",
              "      filter: drop-shadow(0px 1px 2px rgba(0, 0, 0, 0.3));\n",
              "      fill: #FFFFFF;\n",
              "    }\n",
              "  </style>\n",
              "\n",
              "      <script>\n",
              "        const buttonEl =\n",
              "          document.querySelector('#df-7ced9910-f29a-4ac8-9e18-c2cdaafb68ae button.colab-df-convert');\n",
              "        buttonEl.style.display =\n",
              "          google.colab.kernel.accessAllowed ? 'block' : 'none';\n",
              "\n",
              "        async function convertToInteractive(key) {\n",
              "          const element = document.querySelector('#df-7ced9910-f29a-4ac8-9e18-c2cdaafb68ae');\n",
              "          const dataTable =\n",
              "            await google.colab.kernel.invokeFunction('convertToInteractive',\n",
              "                                                     [key], {});\n",
              "          if (!dataTable) return;\n",
              "\n",
              "          const docLinkHtml = 'Like what you see? Visit the ' +\n",
              "            '<a target=\"_blank\" href=https://colab.research.google.com/notebooks/data_table.ipynb>data table notebook</a>'\n",
              "            + ' to learn more about interactive tables.';\n",
              "          element.innerHTML = '';\n",
              "          dataTable['output_type'] = 'display_data';\n",
              "          await google.colab.output.renderOutput(dataTable, element);\n",
              "          const docLink = document.createElement('div');\n",
              "          docLink.innerHTML = docLinkHtml;\n",
              "          element.appendChild(docLink);\n",
              "        }\n",
              "      </script>\n",
              "    </div>\n",
              "  </div>\n",
              "  "
            ]
          },
          "metadata": {},
          "execution_count": 48
        }
      ],
      "source": [
        "application_test.describe(include = 'all')"
      ]
    },
    {
      "cell_type": "code",
      "execution_count": null,
      "metadata": {
        "scrolled": false,
        "id": "0f8174bd",
        "outputId": "b406da3a-9f7b-42bc-da1e-8e758253e419",
        "colab": {
          "base_uri": "https://localhost:8080/",
          "height": 488
        }
      },
      "outputs": [
        {
          "output_type": "execute_result",
          "data": {
            "text/plain": [
              "           SK_ID_CURR         TARGET NAME_CONTRACT_TYPE CODE_GENDER  \\\n",
              "count   307511.000000  307511.000000             307511      307511   \n",
              "unique            NaN            NaN                  2           3   \n",
              "top               NaN            NaN         Cash loans           F   \n",
              "freq              NaN            NaN             278232      202448   \n",
              "mean    278180.518577       0.080729                NaN         NaN   \n",
              "std     102790.175348       0.272419                NaN         NaN   \n",
              "min     100002.000000       0.000000                NaN         NaN   \n",
              "25%     189145.500000       0.000000                NaN         NaN   \n",
              "50%     278202.000000       0.000000                NaN         NaN   \n",
              "75%     367142.500000       0.000000                NaN         NaN   \n",
              "max     456255.000000       1.000000                NaN         NaN   \n",
              "\n",
              "       FLAG_OWN_CAR FLAG_OWN_REALTY   CNT_CHILDREN  AMT_INCOME_TOTAL  \\\n",
              "count        307511          307511  307511.000000      3.075110e+05   \n",
              "unique            2               2            NaN               NaN   \n",
              "top               N               Y            NaN               NaN   \n",
              "freq         202924          213312            NaN               NaN   \n",
              "mean            NaN             NaN       0.417052      1.687979e+05   \n",
              "std             NaN             NaN       0.722121      2.371231e+05   \n",
              "min             NaN             NaN       0.000000      2.565000e+04   \n",
              "25%             NaN             NaN       0.000000      1.125000e+05   \n",
              "50%             NaN             NaN       0.000000      1.471500e+05   \n",
              "75%             NaN             NaN       1.000000      2.025000e+05   \n",
              "max             NaN             NaN      19.000000      1.170000e+08   \n",
              "\n",
              "          AMT_CREDIT    AMT_ANNUITY  ...  FLAG_DOCUMENT_18 FLAG_DOCUMENT_19  \\\n",
              "count   3.075110e+05  307499.000000  ...     307511.000000    307511.000000   \n",
              "unique           NaN            NaN  ...               NaN              NaN   \n",
              "top              NaN            NaN  ...               NaN              NaN   \n",
              "freq             NaN            NaN  ...               NaN              NaN   \n",
              "mean    5.990260e+05   27108.573909  ...          0.008130         0.000595   \n",
              "std     4.024908e+05   14493.737315  ...          0.089798         0.024387   \n",
              "min     4.500000e+04    1615.500000  ...          0.000000         0.000000   \n",
              "25%     2.700000e+05   16524.000000  ...          0.000000         0.000000   \n",
              "50%     5.135310e+05   24903.000000  ...          0.000000         0.000000   \n",
              "75%     8.086500e+05   34596.000000  ...          0.000000         0.000000   \n",
              "max     4.050000e+06  258025.500000  ...          1.000000         1.000000   \n",
              "\n",
              "       FLAG_DOCUMENT_20 FLAG_DOCUMENT_21 AMT_REQ_CREDIT_BUREAU_HOUR  \\\n",
              "count     307511.000000    307511.000000              265992.000000   \n",
              "unique              NaN              NaN                        NaN   \n",
              "top                 NaN              NaN                        NaN   \n",
              "freq                NaN              NaN                        NaN   \n",
              "mean           0.000507         0.000335                   0.006402   \n",
              "std            0.022518         0.018299                   0.083849   \n",
              "min            0.000000         0.000000                   0.000000   \n",
              "25%            0.000000         0.000000                   0.000000   \n",
              "50%            0.000000         0.000000                   0.000000   \n",
              "75%            0.000000         0.000000                   0.000000   \n",
              "max            1.000000         1.000000                   4.000000   \n",
              "\n",
              "       AMT_REQ_CREDIT_BUREAU_DAY  AMT_REQ_CREDIT_BUREAU_WEEK  \\\n",
              "count              265992.000000               265992.000000   \n",
              "unique                       NaN                         NaN   \n",
              "top                          NaN                         NaN   \n",
              "freq                         NaN                         NaN   \n",
              "mean                    0.007000                    0.034362   \n",
              "std                     0.110757                    0.204685   \n",
              "min                     0.000000                    0.000000   \n",
              "25%                     0.000000                    0.000000   \n",
              "50%                     0.000000                    0.000000   \n",
              "75%                     0.000000                    0.000000   \n",
              "max                     9.000000                    8.000000   \n",
              "\n",
              "        AMT_REQ_CREDIT_BUREAU_MON  AMT_REQ_CREDIT_BUREAU_QRT  \\\n",
              "count               265992.000000              265992.000000   \n",
              "unique                        NaN                        NaN   \n",
              "top                           NaN                        NaN   \n",
              "freq                          NaN                        NaN   \n",
              "mean                     0.267395                   0.265474   \n",
              "std                      0.916002                   0.794056   \n",
              "min                      0.000000                   0.000000   \n",
              "25%                      0.000000                   0.000000   \n",
              "50%                      0.000000                   0.000000   \n",
              "75%                      0.000000                   0.000000   \n",
              "max                     27.000000                 261.000000   \n",
              "\n",
              "        AMT_REQ_CREDIT_BUREAU_YEAR  \n",
              "count                265992.000000  \n",
              "unique                         NaN  \n",
              "top                            NaN  \n",
              "freq                           NaN  \n",
              "mean                      1.899974  \n",
              "std                       1.869295  \n",
              "min                       0.000000  \n",
              "25%                       0.000000  \n",
              "50%                       1.000000  \n",
              "75%                       3.000000  \n",
              "max                      25.000000  \n",
              "\n",
              "[11 rows x 122 columns]"
            ],
            "text/html": [
              "\n",
              "  <div id=\"df-f5b1f965-2665-449a-bef2-70d4e14dab06\">\n",
              "    <div class=\"colab-df-container\">\n",
              "      <div>\n",
              "<style scoped>\n",
              "    .dataframe tbody tr th:only-of-type {\n",
              "        vertical-align: middle;\n",
              "    }\n",
              "\n",
              "    .dataframe tbody tr th {\n",
              "        vertical-align: top;\n",
              "    }\n",
              "\n",
              "    .dataframe thead th {\n",
              "        text-align: right;\n",
              "    }\n",
              "</style>\n",
              "<table border=\"1\" class=\"dataframe\">\n",
              "  <thead>\n",
              "    <tr style=\"text-align: right;\">\n",
              "      <th></th>\n",
              "      <th>SK_ID_CURR</th>\n",
              "      <th>TARGET</th>\n",
              "      <th>NAME_CONTRACT_TYPE</th>\n",
              "      <th>CODE_GENDER</th>\n",
              "      <th>FLAG_OWN_CAR</th>\n",
              "      <th>FLAG_OWN_REALTY</th>\n",
              "      <th>CNT_CHILDREN</th>\n",
              "      <th>AMT_INCOME_TOTAL</th>\n",
              "      <th>AMT_CREDIT</th>\n",
              "      <th>AMT_ANNUITY</th>\n",
              "      <th>...</th>\n",
              "      <th>FLAG_DOCUMENT_18</th>\n",
              "      <th>FLAG_DOCUMENT_19</th>\n",
              "      <th>FLAG_DOCUMENT_20</th>\n",
              "      <th>FLAG_DOCUMENT_21</th>\n",
              "      <th>AMT_REQ_CREDIT_BUREAU_HOUR</th>\n",
              "      <th>AMT_REQ_CREDIT_BUREAU_DAY</th>\n",
              "      <th>AMT_REQ_CREDIT_BUREAU_WEEK</th>\n",
              "      <th>AMT_REQ_CREDIT_BUREAU_MON</th>\n",
              "      <th>AMT_REQ_CREDIT_BUREAU_QRT</th>\n",
              "      <th>AMT_REQ_CREDIT_BUREAU_YEAR</th>\n",
              "    </tr>\n",
              "  </thead>\n",
              "  <tbody>\n",
              "    <tr>\n",
              "      <th>count</th>\n",
              "      <td>307511.000000</td>\n",
              "      <td>307511.000000</td>\n",
              "      <td>307511</td>\n",
              "      <td>307511</td>\n",
              "      <td>307511</td>\n",
              "      <td>307511</td>\n",
              "      <td>307511.000000</td>\n",
              "      <td>3.075110e+05</td>\n",
              "      <td>3.075110e+05</td>\n",
              "      <td>307499.000000</td>\n",
              "      <td>...</td>\n",
              "      <td>307511.000000</td>\n",
              "      <td>307511.000000</td>\n",
              "      <td>307511.000000</td>\n",
              "      <td>307511.000000</td>\n",
              "      <td>265992.000000</td>\n",
              "      <td>265992.000000</td>\n",
              "      <td>265992.000000</td>\n",
              "      <td>265992.000000</td>\n",
              "      <td>265992.000000</td>\n",
              "      <td>265992.000000</td>\n",
              "    </tr>\n",
              "    <tr>\n",
              "      <th>unique</th>\n",
              "      <td>NaN</td>\n",
              "      <td>NaN</td>\n",
              "      <td>2</td>\n",
              "      <td>3</td>\n",
              "      <td>2</td>\n",
              "      <td>2</td>\n",
              "      <td>NaN</td>\n",
              "      <td>NaN</td>\n",
              "      <td>NaN</td>\n",
              "      <td>NaN</td>\n",
              "      <td>...</td>\n",
              "      <td>NaN</td>\n",
              "      <td>NaN</td>\n",
              "      <td>NaN</td>\n",
              "      <td>NaN</td>\n",
              "      <td>NaN</td>\n",
              "      <td>NaN</td>\n",
              "      <td>NaN</td>\n",
              "      <td>NaN</td>\n",
              "      <td>NaN</td>\n",
              "      <td>NaN</td>\n",
              "    </tr>\n",
              "    <tr>\n",
              "      <th>top</th>\n",
              "      <td>NaN</td>\n",
              "      <td>NaN</td>\n",
              "      <td>Cash loans</td>\n",
              "      <td>F</td>\n",
              "      <td>N</td>\n",
              "      <td>Y</td>\n",
              "      <td>NaN</td>\n",
              "      <td>NaN</td>\n",
              "      <td>NaN</td>\n",
              "      <td>NaN</td>\n",
              "      <td>...</td>\n",
              "      <td>NaN</td>\n",
              "      <td>NaN</td>\n",
              "      <td>NaN</td>\n",
              "      <td>NaN</td>\n",
              "      <td>NaN</td>\n",
              "      <td>NaN</td>\n",
              "      <td>NaN</td>\n",
              "      <td>NaN</td>\n",
              "      <td>NaN</td>\n",
              "      <td>NaN</td>\n",
              "    </tr>\n",
              "    <tr>\n",
              "      <th>freq</th>\n",
              "      <td>NaN</td>\n",
              "      <td>NaN</td>\n",
              "      <td>278232</td>\n",
              "      <td>202448</td>\n",
              "      <td>202924</td>\n",
              "      <td>213312</td>\n",
              "      <td>NaN</td>\n",
              "      <td>NaN</td>\n",
              "      <td>NaN</td>\n",
              "      <td>NaN</td>\n",
              "      <td>...</td>\n",
              "      <td>NaN</td>\n",
              "      <td>NaN</td>\n",
              "      <td>NaN</td>\n",
              "      <td>NaN</td>\n",
              "      <td>NaN</td>\n",
              "      <td>NaN</td>\n",
              "      <td>NaN</td>\n",
              "      <td>NaN</td>\n",
              "      <td>NaN</td>\n",
              "      <td>NaN</td>\n",
              "    </tr>\n",
              "    <tr>\n",
              "      <th>mean</th>\n",
              "      <td>278180.518577</td>\n",
              "      <td>0.080729</td>\n",
              "      <td>NaN</td>\n",
              "      <td>NaN</td>\n",
              "      <td>NaN</td>\n",
              "      <td>NaN</td>\n",
              "      <td>0.417052</td>\n",
              "      <td>1.687979e+05</td>\n",
              "      <td>5.990260e+05</td>\n",
              "      <td>27108.573909</td>\n",
              "      <td>...</td>\n",
              "      <td>0.008130</td>\n",
              "      <td>0.000595</td>\n",
              "      <td>0.000507</td>\n",
              "      <td>0.000335</td>\n",
              "      <td>0.006402</td>\n",
              "      <td>0.007000</td>\n",
              "      <td>0.034362</td>\n",
              "      <td>0.267395</td>\n",
              "      <td>0.265474</td>\n",
              "      <td>1.899974</td>\n",
              "    </tr>\n",
              "    <tr>\n",
              "      <th>std</th>\n",
              "      <td>102790.175348</td>\n",
              "      <td>0.272419</td>\n",
              "      <td>NaN</td>\n",
              "      <td>NaN</td>\n",
              "      <td>NaN</td>\n",
              "      <td>NaN</td>\n",
              "      <td>0.722121</td>\n",
              "      <td>2.371231e+05</td>\n",
              "      <td>4.024908e+05</td>\n",
              "      <td>14493.737315</td>\n",
              "      <td>...</td>\n",
              "      <td>0.089798</td>\n",
              "      <td>0.024387</td>\n",
              "      <td>0.022518</td>\n",
              "      <td>0.018299</td>\n",
              "      <td>0.083849</td>\n",
              "      <td>0.110757</td>\n",
              "      <td>0.204685</td>\n",
              "      <td>0.916002</td>\n",
              "      <td>0.794056</td>\n",
              "      <td>1.869295</td>\n",
              "    </tr>\n",
              "    <tr>\n",
              "      <th>min</th>\n",
              "      <td>100002.000000</td>\n",
              "      <td>0.000000</td>\n",
              "      <td>NaN</td>\n",
              "      <td>NaN</td>\n",
              "      <td>NaN</td>\n",
              "      <td>NaN</td>\n",
              "      <td>0.000000</td>\n",
              "      <td>2.565000e+04</td>\n",
              "      <td>4.500000e+04</td>\n",
              "      <td>1615.500000</td>\n",
              "      <td>...</td>\n",
              "      <td>0.000000</td>\n",
              "      <td>0.000000</td>\n",
              "      <td>0.000000</td>\n",
              "      <td>0.000000</td>\n",
              "      <td>0.000000</td>\n",
              "      <td>0.000000</td>\n",
              "      <td>0.000000</td>\n",
              "      <td>0.000000</td>\n",
              "      <td>0.000000</td>\n",
              "      <td>0.000000</td>\n",
              "    </tr>\n",
              "    <tr>\n",
              "      <th>25%</th>\n",
              "      <td>189145.500000</td>\n",
              "      <td>0.000000</td>\n",
              "      <td>NaN</td>\n",
              "      <td>NaN</td>\n",
              "      <td>NaN</td>\n",
              "      <td>NaN</td>\n",
              "      <td>0.000000</td>\n",
              "      <td>1.125000e+05</td>\n",
              "      <td>2.700000e+05</td>\n",
              "      <td>16524.000000</td>\n",
              "      <td>...</td>\n",
              "      <td>0.000000</td>\n",
              "      <td>0.000000</td>\n",
              "      <td>0.000000</td>\n",
              "      <td>0.000000</td>\n",
              "      <td>0.000000</td>\n",
              "      <td>0.000000</td>\n",
              "      <td>0.000000</td>\n",
              "      <td>0.000000</td>\n",
              "      <td>0.000000</td>\n",
              "      <td>0.000000</td>\n",
              "    </tr>\n",
              "    <tr>\n",
              "      <th>50%</th>\n",
              "      <td>278202.000000</td>\n",
              "      <td>0.000000</td>\n",
              "      <td>NaN</td>\n",
              "      <td>NaN</td>\n",
              "      <td>NaN</td>\n",
              "      <td>NaN</td>\n",
              "      <td>0.000000</td>\n",
              "      <td>1.471500e+05</td>\n",
              "      <td>5.135310e+05</td>\n",
              "      <td>24903.000000</td>\n",
              "      <td>...</td>\n",
              "      <td>0.000000</td>\n",
              "      <td>0.000000</td>\n",
              "      <td>0.000000</td>\n",
              "      <td>0.000000</td>\n",
              "      <td>0.000000</td>\n",
              "      <td>0.000000</td>\n",
              "      <td>0.000000</td>\n",
              "      <td>0.000000</td>\n",
              "      <td>0.000000</td>\n",
              "      <td>1.000000</td>\n",
              "    </tr>\n",
              "    <tr>\n",
              "      <th>75%</th>\n",
              "      <td>367142.500000</td>\n",
              "      <td>0.000000</td>\n",
              "      <td>NaN</td>\n",
              "      <td>NaN</td>\n",
              "      <td>NaN</td>\n",
              "      <td>NaN</td>\n",
              "      <td>1.000000</td>\n",
              "      <td>2.025000e+05</td>\n",
              "      <td>8.086500e+05</td>\n",
              "      <td>34596.000000</td>\n",
              "      <td>...</td>\n",
              "      <td>0.000000</td>\n",
              "      <td>0.000000</td>\n",
              "      <td>0.000000</td>\n",
              "      <td>0.000000</td>\n",
              "      <td>0.000000</td>\n",
              "      <td>0.000000</td>\n",
              "      <td>0.000000</td>\n",
              "      <td>0.000000</td>\n",
              "      <td>0.000000</td>\n",
              "      <td>3.000000</td>\n",
              "    </tr>\n",
              "    <tr>\n",
              "      <th>max</th>\n",
              "      <td>456255.000000</td>\n",
              "      <td>1.000000</td>\n",
              "      <td>NaN</td>\n",
              "      <td>NaN</td>\n",
              "      <td>NaN</td>\n",
              "      <td>NaN</td>\n",
              "      <td>19.000000</td>\n",
              "      <td>1.170000e+08</td>\n",
              "      <td>4.050000e+06</td>\n",
              "      <td>258025.500000</td>\n",
              "      <td>...</td>\n",
              "      <td>1.000000</td>\n",
              "      <td>1.000000</td>\n",
              "      <td>1.000000</td>\n",
              "      <td>1.000000</td>\n",
              "      <td>4.000000</td>\n",
              "      <td>9.000000</td>\n",
              "      <td>8.000000</td>\n",
              "      <td>27.000000</td>\n",
              "      <td>261.000000</td>\n",
              "      <td>25.000000</td>\n",
              "    </tr>\n",
              "  </tbody>\n",
              "</table>\n",
              "<p>11 rows × 122 columns</p>\n",
              "</div>\n",
              "      <button class=\"colab-df-convert\" onclick=\"convertToInteractive('df-f5b1f965-2665-449a-bef2-70d4e14dab06')\"\n",
              "              title=\"Convert this dataframe to an interactive table.\"\n",
              "              style=\"display:none;\">\n",
              "        \n",
              "  <svg xmlns=\"http://www.w3.org/2000/svg\" height=\"24px\"viewBox=\"0 0 24 24\"\n",
              "       width=\"24px\">\n",
              "    <path d=\"M0 0h24v24H0V0z\" fill=\"none\"/>\n",
              "    <path d=\"M18.56 5.44l.94 2.06.94-2.06 2.06-.94-2.06-.94-.94-2.06-.94 2.06-2.06.94zm-11 1L8.5 8.5l.94-2.06 2.06-.94-2.06-.94L8.5 2.5l-.94 2.06-2.06.94zm10 10l.94 2.06.94-2.06 2.06-.94-2.06-.94-.94-2.06-.94 2.06-2.06.94z\"/><path d=\"M17.41 7.96l-1.37-1.37c-.4-.4-.92-.59-1.43-.59-.52 0-1.04.2-1.43.59L10.3 9.45l-7.72 7.72c-.78.78-.78 2.05 0 2.83L4 21.41c.39.39.9.59 1.41.59.51 0 1.02-.2 1.41-.59l7.78-7.78 2.81-2.81c.8-.78.8-2.07 0-2.86zM5.41 20L4 18.59l7.72-7.72 1.47 1.35L5.41 20z\"/>\n",
              "  </svg>\n",
              "      </button>\n",
              "      \n",
              "  <style>\n",
              "    .colab-df-container {\n",
              "      display:flex;\n",
              "      flex-wrap:wrap;\n",
              "      gap: 12px;\n",
              "    }\n",
              "\n",
              "    .colab-df-convert {\n",
              "      background-color: #E8F0FE;\n",
              "      border: none;\n",
              "      border-radius: 50%;\n",
              "      cursor: pointer;\n",
              "      display: none;\n",
              "      fill: #1967D2;\n",
              "      height: 32px;\n",
              "      padding: 0 0 0 0;\n",
              "      width: 32px;\n",
              "    }\n",
              "\n",
              "    .colab-df-convert:hover {\n",
              "      background-color: #E2EBFA;\n",
              "      box-shadow: 0px 1px 2px rgba(60, 64, 67, 0.3), 0px 1px 3px 1px rgba(60, 64, 67, 0.15);\n",
              "      fill: #174EA6;\n",
              "    }\n",
              "\n",
              "    [theme=dark] .colab-df-convert {\n",
              "      background-color: #3B4455;\n",
              "      fill: #D2E3FC;\n",
              "    }\n",
              "\n",
              "    [theme=dark] .colab-df-convert:hover {\n",
              "      background-color: #434B5C;\n",
              "      box-shadow: 0px 1px 3px 1px rgba(0, 0, 0, 0.15);\n",
              "      filter: drop-shadow(0px 1px 2px rgba(0, 0, 0, 0.3));\n",
              "      fill: #FFFFFF;\n",
              "    }\n",
              "  </style>\n",
              "\n",
              "      <script>\n",
              "        const buttonEl =\n",
              "          document.querySelector('#df-f5b1f965-2665-449a-bef2-70d4e14dab06 button.colab-df-convert');\n",
              "        buttonEl.style.display =\n",
              "          google.colab.kernel.accessAllowed ? 'block' : 'none';\n",
              "\n",
              "        async function convertToInteractive(key) {\n",
              "          const element = document.querySelector('#df-f5b1f965-2665-449a-bef2-70d4e14dab06');\n",
              "          const dataTable =\n",
              "            await google.colab.kernel.invokeFunction('convertToInteractive',\n",
              "                                                     [key], {});\n",
              "          if (!dataTable) return;\n",
              "\n",
              "          const docLinkHtml = 'Like what you see? Visit the ' +\n",
              "            '<a target=\"_blank\" href=https://colab.research.google.com/notebooks/data_table.ipynb>data table notebook</a>'\n",
              "            + ' to learn more about interactive tables.';\n",
              "          element.innerHTML = '';\n",
              "          dataTable['output_type'] = 'display_data';\n",
              "          await google.colab.output.renderOutput(dataTable, element);\n",
              "          const docLink = document.createElement('div');\n",
              "          docLink.innerHTML = docLinkHtml;\n",
              "          element.appendChild(docLink);\n",
              "        }\n",
              "      </script>\n",
              "    </div>\n",
              "  </div>\n",
              "  "
            ]
          },
          "metadata": {},
          "execution_count": 49
        }
      ],
      "source": [
        "application_train.describe(include = 'all')"
      ]
    },
    {
      "cell_type": "markdown",
      "metadata": {
        "id": "1437c36a"
      },
      "source": [
        "All the column seems to be normal EXCEPT the `DAYS_EMPLOYED` column\n",
        "- This column has a max value of 365243, while vallues of this column are all negative"
      ]
    },
    {
      "cell_type": "code",
      "execution_count": null,
      "metadata": {
        "id": "e2ead836",
        "outputId": "db4f8bd0-f442-41f1-975d-58bf54b27b76",
        "colab": {
          "base_uri": "https://localhost:8080/"
        }
      },
      "outputs": [
        {
          "output_type": "execute_result",
          "data": {
            "text/plain": [
              "count    307511.000000\n",
              "mean      63815.045904\n",
              "std      141275.766519\n",
              "min      -17912.000000\n",
              "25%       -2760.000000\n",
              "50%       -1213.000000\n",
              "75%        -289.000000\n",
              "max      365243.000000\n",
              "Name: DAYS_EMPLOYED, dtype: float64"
            ]
          },
          "metadata": {},
          "execution_count": 50
        }
      ],
      "source": [
        "application_train['DAYS_EMPLOYED'].describe()"
      ]
    },
    {
      "cell_type": "markdown",
      "metadata": {
        "id": "9af05230"
      },
      "source": [
        "- days employed max = positive & 365243 days, while all other values are negative. This is not normal"
      ]
    },
    {
      "cell_type": "code",
      "execution_count": null,
      "metadata": {
        "scrolled": false,
        "id": "083cc729",
        "outputId": "348402a6-271c-4e28-bca0-1f3d792943a3",
        "colab": {
          "base_uri": "https://localhost:8080/",
          "height": 480
        }
      },
      "outputs": [
        {
          "output_type": "display_data",
          "data": {
            "text/plain": [
              "<Figure size 640x480 with 1 Axes>"
            ],
            "image/png": "[encoded data removed]"
          },
          "metadata": {}
        }
      ],
      "source": [
        "application_train['DAYS_EMPLOYED'].plot.hist(title = 'Days Employment Histogram');\n",
        "plt.xlabel('Days Employment');"
      ]
    },
    {
      "cell_type": "markdown",
      "metadata": {
        "id": "79da6ddb"
      },
      "source": [
        "- deal with anomalous values: set these values to np.nan, then create new boolean column:\n",
        "  - 1 = this sample'days employed is anomalous\n",
        "  - 0 = not anomalous"
      ]
    },
    {
      "cell_type": "code",
      "execution_count": null,
      "metadata": {
        "id": "4a892bbe",
        "outputId": "e63144fc-b172-4bad-d762-9319ab46ab69",
        "colab": {
          "base_uri": "https://localhost:8080/",
          "height": 480
        }
      },
      "outputs": [
        {
          "output_type": "display_data",
          "data": {
            "text/plain": [
              "<Figure size 640x480 with 1 Axes>"
            ],
            "image/png": "[encoded data removed]"
          },
          "metadata": {}
        }
      ],
      "source": [
        "# Create an anomalous flag column\n",
        "application_train['DAYS_EMPLOYED_ANOM'] = application_train[\"DAYS_EMPLOYED\"] == 365243\n",
        "\n",
        "# Replace the anomalous values with nan\n",
        "application_train['DAYS_EMPLOYED'].replace({365243: np.nan}, inplace = True)\n",
        "\n",
        "application_train['DAYS_EMPLOYED'].plot.hist(title = 'Days Employment Histogram');\n",
        "plt.xlabel('Days Employment');"
      ]
    },
    {
      "cell_type": "code",
      "execution_count": null,
      "metadata": {
        "id": "086796e8",
        "outputId": "74e38133-5d91-4bca-d8e1-b7b518eab05b",
        "colab": {
          "base_uri": "https://localhost:8080/"
        }
      },
      "outputs": [
        {
          "output_type": "execute_result",
          "data": {
            "text/plain": [
              "0         False\n",
              "1         False\n",
              "2         False\n",
              "3         False\n",
              "4         False\n",
              "          ...  \n",
              "307506    False\n",
              "307507     True\n",
              "307508    False\n",
              "307509    False\n",
              "307510    False\n",
              "Name: DAYS_EMPLOYED_ANOM, Length: 307511, dtype: bool"
            ]
          },
          "metadata": {},
          "execution_count": 53
        }
      ],
      "source": [
        "application_train['DAYS_EMPLOYED_ANOM']"
      ]
    },
    {
      "cell_type": "code",
      "execution_count": null,
      "metadata": {
        "id": "0693f89b",
        "outputId": "d4185f8d-ee4b-4126-a7c9-cfbc5702471d",
        "colab": {
          "base_uri": "https://localhost:8080/"
        }
      },
      "outputs": [
        {
          "output_type": "execute_result",
          "data": {
            "text/plain": [
              "count     307511\n",
              "unique         2\n",
              "top        False\n",
              "freq      252137\n",
              "Name: DAYS_EMPLOYED_ANOM, dtype: object"
            ]
          },
          "metadata": {},
          "execution_count": 54
        }
      ],
      "source": [
        "application_train['DAYS_EMPLOYED_ANOM'].describe()"
      ]
    },
    {
      "cell_type": "markdown",
      "metadata": {
        "id": "d3414b69"
      },
      "source": [
        "#### Examine missing values"
      ]
    },
    {
      "cell_type": "code",
      "execution_count": null,
      "metadata": {
        "id": "2ab49333"
      },
      "outputs": [],
      "source": [
        "# Function to calculate missing values by column# Funct\n",
        "def missing_values_table(df):\n",
        "        # Total missing values\n",
        "        mis_val = df.isnull().sum()\n",
        "\n",
        "        # Percentage of missing values\n",
        "        mis_val_percent = 100 * df.isnull().sum() / len(df)\n",
        "\n",
        "        # Make a table with the results\n",
        "        mis_val_table = pd.concat([mis_val, mis_val_percent], axis=1)\n",
        "\n",
        "        # Rename the columns\n",
        "        mis_val_table_ren_columns = mis_val_table.rename(\n",
        "        columns = {0 : 'Missing Values', 1 : '% of Total Values'})\n",
        "\n",
        "        # Sort the table by percentage of missing descending\n",
        "        mis_val_table_ren_columns = mis_val_table_ren_columns[\n",
        "            mis_val_table_ren_columns.iloc[:,1] != 0].sort_values(\n",
        "        '% of Total Values', ascending=False).round(1)\n",
        "\n",
        "        # Print some summary information\n",
        "        print (\"Your selected dataframe has \" + str(df.shape[1]) + \" columns.\\n\"\n",
        "            \"There are \" + str(mis_val_table_ren_columns.shape[0]) +\n",
        "              \" columns that have missing values.\")\n",
        "\n",
        "        # Return the dataframe with missing information\n",
        "        return mis_val_table_ren_columns"
      ]
    },
    {
      "cell_type": "code",
      "execution_count": null,
      "metadata": {
        "scrolled": false,
        "id": "52c14b96",
        "outputId": "861db377-e77c-47a4-94b5-88526295d731",
        "colab": {
          "base_uri": "https://localhost:8080/",
          "height": 711
        }
      },
      "outputs": [
        {
          "output_type": "stream",
          "name": "stdout",
          "text": [
            "Your selected dataframe has 123 columns.\n",
            "There are 68 columns that have missing values.\n"
          ]
        },
        {
          "output_type": "execute_result",
          "data": {
            "text/plain": [
              "                          Missing Values  % of Total Values\n",
              "COMMONAREA_MODE                   214865               69.9\n",
              "COMMONAREA_AVG                    214865               69.9\n",
              "COMMONAREA_MEDI                   214865               69.9\n",
              "NONLIVINGAPARTMENTS_MEDI          213514               69.4\n",
              "NONLIVINGAPARTMENTS_MODE          213514               69.4\n",
              "NONLIVINGAPARTMENTS_AVG           213514               69.4\n",
              "FONDKAPREMONT_MODE                210295               68.4\n",
              "LIVINGAPARTMENTS_MEDI             210199               68.4\n",
              "LIVINGAPARTMENTS_AVG              210199               68.4\n",
              "LIVINGAPARTMENTS_MODE             210199               68.4\n",
              "FLOORSMIN_AVG                     208642               67.8\n",
              "FLOORSMIN_MEDI                    208642               67.8\n",
              "FLOORSMIN_MODE                    208642               67.8\n",
              "YEARS_BUILD_MEDI                  204488               66.5\n",
              "YEARS_BUILD_MODE                  204488               66.5\n",
              "YEARS_BUILD_AVG                   204488               66.5\n",
              "OWN_CAR_AGE                       202929               66.0\n",
              "LANDAREA_MODE                     182590               59.4\n",
              "LANDAREA_MEDI                     182590               59.4\n",
              "LANDAREA_AVG                      182590               59.4"
            ],
            "text/html": [
              "\n",
              "  <div id=\"df-6c1a87d0-5193-48e0-b365-3af05c08a00c\">\n",
              "    <div class=\"colab-df-container\">\n",
              "      <div>\n",
              "<style scoped>\n",
              "    .dataframe tbody tr th:only-of-type {\n",
              "        vertical-align: middle;\n",
              "    }\n",
              "\n",
              "    .dataframe tbody tr th {\n",
              "        vertical-align: top;\n",
              "    }\n",
              "\n",
              "    .dataframe thead th {\n",
              "        text-align: right;\n",
              "    }\n",
              "</style>\n",
              "<table border=\"1\" class=\"dataframe\">\n",
              "  <thead>\n",
              "    <tr style=\"text-align: right;\">\n",
              "      <th></th>\n",
              "      <th>Missing Values</th>\n",
              "      <th>% of Total Values</th>\n",
              "    </tr>\n",
              "  </thead>\n",
              "  <tbody>\n",
              "    <tr>\n",
              "      <th>COMMONAREA_MODE</th>\n",
              "      <td>214865</td>\n",
              "      <td>69.9</td>\n",
              "    </tr>\n",
              "    <tr>\n",
              "      <th>COMMONAREA_AVG</th>\n",
              "      <td>214865</td>\n",
              "      <td>69.9</td>\n",
              "    </tr>\n",
              "    <tr>\n",
              "      <th>COMMONAREA_MEDI</th>\n",
              "      <td>214865</td>\n",
              "      <td>69.9</td>\n",
              "    </tr>\n",
              "    <tr>\n",
              "      <th>NONLIVINGAPARTMENTS_MEDI</th>\n",
              "      <td>213514</td>\n",
              "      <td>69.4</td>\n",
              "    </tr>\n",
              "    <tr>\n",
              "      <th>NONLIVINGAPARTMENTS_MODE</th>\n",
              "      <td>213514</td>\n",
              "      <td>69.4</td>\n",
              "    </tr>\n",
              "    <tr>\n",
              "      <th>NONLIVINGAPARTMENTS_AVG</th>\n",
              "      <td>213514</td>\n",
              "      <td>69.4</td>\n",
              "    </tr>\n",
              "    <tr>\n",
              "      <th>FONDKAPREMONT_MODE</th>\n",
              "      <td>210295</td>\n",
              "      <td>68.4</td>\n",
              "    </tr>\n",
              "    <tr>\n",
              "      <th>LIVINGAPARTMENTS_MEDI</th>\n",
              "      <td>210199</td>\n",
              "      <td>68.4</td>\n",
              "    </tr>\n",
              "    <tr>\n",
              "      <th>LIVINGAPARTMENTS_AVG</th>\n",
              "      <td>210199</td>\n",
              "      <td>68.4</td>\n",
              "    </tr>\n",
              "    <tr>\n",
              "      <th>LIVINGAPARTMENTS_MODE</th>\n",
              "      <td>210199</td>\n",
              "      <td>68.4</td>\n",
              "    </tr>\n",
              "    <tr>\n",
              "      <th>FLOORSMIN_AVG</th>\n",
              "      <td>208642</td>\n",
              "      <td>67.8</td>\n",
              "    </tr>\n",
              "    <tr>\n",
              "      <th>FLOORSMIN_MEDI</th>\n",
              "      <td>208642</td>\n",
              "      <td>67.8</td>\n",
              "    </tr>\n",
              "    <tr>\n",
              "      <th>FLOORSMIN_MODE</th>\n",
              "      <td>208642</td>\n",
              "      <td>67.8</td>\n",
              "    </tr>\n",
              "    <tr>\n",
              "      <th>YEARS_BUILD_MEDI</th>\n",
              "      <td>204488</td>\n",
              "      <td>66.5</td>\n",
              "    </tr>\n",
              "    <tr>\n",
              "      <th>YEARS_BUILD_MODE</th>\n",
              "      <td>204488</td>\n",
              "      <td>66.5</td>\n",
              "    </tr>\n",
              "    <tr>\n",
              "      <th>YEARS_BUILD_AVG</th>\n",
              "      <td>204488</td>\n",
              "      <td>66.5</td>\n",
              "    </tr>\n",
              "    <tr>\n",
              "      <th>OWN_CAR_AGE</th>\n",
              "      <td>202929</td>\n",
              "      <td>66.0</td>\n",
              "    </tr>\n",
              "    <tr>\n",
              "      <th>LANDAREA_MODE</th>\n",
              "      <td>182590</td>\n",
              "      <td>59.4</td>\n",
              "    </tr>\n",
              "    <tr>\n",
              "      <th>LANDAREA_MEDI</th>\n",
              "      <td>182590</td>\n",
              "      <td>59.4</td>\n",
              "    </tr>\n",
              "    <tr>\n",
              "      <th>LANDAREA_AVG</th>\n",
              "      <td>182590</td>\n",
              "      <td>59.4</td>\n",
              "    </tr>\n",
              "  </tbody>\n",
              "</table>\n",
              "</div>\n",
              "      <button class=\"colab-df-convert\" onclick=\"convertToInteractive('df-6c1a87d0-5193-48e0-b365-3af05c08a00c')\"\n",
              "              title=\"Convert this dataframe to an interactive table.\"\n",
              "              style=\"display:none;\">\n",
              "        \n",
              "  <svg xmlns=\"http://www.w3.org/2000/svg\" height=\"24px\"viewBox=\"0 0 24 24\"\n",
              "       width=\"24px\">\n",
              "    <path d=\"M0 0h24v24H0V0z\" fill=\"none\"/>\n",
              "    <path d=\"M18.56 5.44l.94 2.06.94-2.06 2.06-.94-2.06-.94-.94-2.06-.94 2.06-2.06.94zm-11 1L8.5 8.5l.94-2.06 2.06-.94-2.06-.94L8.5 2.5l-.94 2.06-2.06.94zm10 10l.94 2.06.94-2.06 2.06-.94-2.06-.94-.94-2.06-.94 2.06-2.06.94z\"/><path d=\"M17.41 7.96l-1.37-1.37c-.4-.4-.92-.59-1.43-.59-.52 0-1.04.2-1.43.59L10.3 9.45l-7.72 7.72c-.78.78-.78 2.05 0 2.83L4 21.41c.39.39.9.59 1.41.59.51 0 1.02-.2 1.41-.59l7.78-7.78 2.81-2.81c.8-.78.8-2.07 0-2.86zM5.41 20L4 18.59l7.72-7.72 1.47 1.35L5.41 20z\"/>\n",
              "  </svg>\n",
              "      </button>\n",
              "      \n",
              "  <style>\n",
              "    .colab-df-container {\n",
              "      display:flex;\n",
              "      flex-wrap:wrap;\n",
              "      gap: 12px;\n",
              "    }\n",
              "\n",
              "    .colab-df-convert {\n",
              "      background-color: #E8F0FE;\n",
              "      border: none;\n",
              "      border-radius: 50%;\n",
              "      cursor: pointer;\n",
              "      display: none;\n",
              "      fill: #1967D2;\n",
              "      height: 32px;\n",
              "      padding: 0 0 0 0;\n",
              "      width: 32px;\n",
              "    }\n",
              "\n",
              "    .colab-df-convert:hover {\n",
              "      background-color: #E2EBFA;\n",
              "      box-shadow: 0px 1px 2px rgba(60, 64, 67, 0.3), 0px 1px 3px 1px rgba(60, 64, 67, 0.15);\n",
              "      fill: #174EA6;\n",
              "    }\n",
              "\n",
              "    [theme=dark] .colab-df-convert {\n",
              "      background-color: #3B4455;\n",
              "      fill: #D2E3FC;\n",
              "    }\n",
              "\n",
              "    [theme=dark] .colab-df-convert:hover {\n",
              "      background-color: #434B5C;\n",
              "      box-shadow: 0px 1px 3px 1px rgba(0, 0, 0, 0.15);\n",
              "      filter: drop-shadow(0px 1px 2px rgba(0, 0, 0, 0.3));\n",
              "      fill: #FFFFFF;\n",
              "    }\n",
              "  </style>\n",
              "\n",
              "      <script>\n",
              "        const buttonEl =\n",
              "          document.querySelector('#df-6c1a87d0-5193-48e0-b365-3af05c08a00c button.colab-df-convert');\n",
              "        buttonEl.style.display =\n",
              "          google.colab.kernel.accessAllowed ? 'block' : 'none';\n",
              "\n",
              "        async function convertToInteractive(key) {\n",
              "          const element = document.querySelector('#df-6c1a87d0-5193-48e0-b365-3af05c08a00c');\n",
              "          const dataTable =\n",
              "            await google.colab.kernel.invokeFunction('convertToInteractive',\n",
              "                                                     [key], {});\n",
              "          if (!dataTable) return;\n",
              "\n",
              "          const docLinkHtml = 'Like what you see? Visit the ' +\n",
              "            '<a target=\"_blank\" href=https://colab.research.google.com/notebooks/data_table.ipynb>data table notebook</a>'\n",
              "            + ' to learn more about interactive tables.';\n",
              "          element.innerHTML = '';\n",
              "          dataTable['output_type'] = 'display_data';\n",
              "          await google.colab.output.renderOutput(dataTable, element);\n",
              "          const docLink = document.createElement('div');\n",
              "          docLink.innerHTML = docLinkHtml;\n",
              "          element.appendChild(docLink);\n",
              "        }\n",
              "      </script>\n",
              "    </div>\n",
              "  </div>\n",
              "  "
            ]
          },
          "metadata": {},
          "execution_count": 56
        }
      ],
      "source": [
        "# Missing values statistics\n",
        "missing_values = missing_values_table(application_train)\n",
        "missing_values.head(20)"
      ]
    },
    {
      "cell_type": "markdown",
      "metadata": {
        "id": "1065f849"
      },
      "source": [
        "- Deal with missing value: fill with **median**, because we want to retain as much information as possible for our later models, although this will introduce bias to our model\n",
        "- We'll deal with missing values later when training model"
      ]
    },
    {
      "cell_type": "markdown",
      "metadata": {
        "id": "ade09c60"
      },
      "source": [
        "#### Check categorical vs numerical column\n",
        "- int64 and float64 are **numeric variables** (which can be either *discrete* - 1 bedroom ,2 bedroom - or *continuous* - 10.43$ -).\n",
        "- object columns contain strings and are **categorical features**."
      ]
    },
    {
      "cell_type": "code",
      "execution_count": null,
      "metadata": {
        "id": "8902cccf",
        "outputId": "230a1ccb-9725-46e0-dc4c-e3b13aae4d9c",
        "colab": {
          "base_uri": "https://localhost:8080/"
        }
      },
      "outputs": [
        {
          "output_type": "execute_result",
          "data": {
            "text/plain": [
              "float64    66\n",
              "int64      40\n",
              "object     16\n",
              "bool        1\n",
              "dtype: int64"
            ]
          },
          "metadata": {},
          "execution_count": 57
        }
      ],
      "source": [
        "# Number of each type of column\n",
        "application_train.dtypes.value_counts()"
      ]
    },
    {
      "cell_type": "code",
      "execution_count": null,
      "metadata": {
        "scrolled": true,
        "id": "0c1e4a77",
        "outputId": "1a7604ce-166d-4a42-d59d-ffedbb9cbbb7",
        "colab": {
          "base_uri": "https://localhost:8080/"
        }
      },
      "outputs": [
        {
          "output_type": "execute_result",
          "data": {
            "text/plain": [
              "NAME_CONTRACT_TYPE             2\n",
              "CODE_GENDER                    3\n",
              "FLAG_OWN_CAR                   2\n",
              "FLAG_OWN_REALTY                2\n",
              "NAME_TYPE_SUITE                7\n",
              "NAME_INCOME_TYPE               8\n",
              "NAME_EDUCATION_TYPE            5\n",
              "NAME_FAMILY_STATUS             6\n",
              "NAME_HOUSING_TYPE              6\n",
              "OCCUPATION_TYPE               18\n",
              "WEEKDAY_APPR_PROCESS_START     7\n",
              "ORGANIZATION_TYPE             58\n",
              "FONDKAPREMONT_MODE             4\n",
              "HOUSETYPE_MODE                 3\n",
              "WALLSMATERIAL_MODE             7\n",
              "EMERGENCYSTATE_MODE            2\n",
              "dtype: int64"
            ]
          },
          "metadata": {},
          "execution_count": 58
        }
      ],
      "source": [
        "# Number of unique classes in each object (categorical) column\n",
        "application_train.select_dtypes('object').apply(pd.Series.nunique, axis = 0)"
      ]
    },
    {
      "cell_type": "code",
      "execution_count": null,
      "metadata": {
        "id": "f8cde1cf",
        "outputId": "dcbfd6ed-f63b-41c6-be50-6d055284a724",
        "colab": {
          "base_uri": "https://localhost:8080/"
        }
      },
      "outputs": [
        {
          "output_type": "execute_result",
          "data": {
            "text/plain": [
              "0         Business Entity Type 3\n",
              "1                         School\n",
              "2                     Government\n",
              "3         Business Entity Type 3\n",
              "4                       Religion\n",
              "                   ...          \n",
              "307506                  Services\n",
              "307507                       XNA\n",
              "307508                    School\n",
              "307509    Business Entity Type 1\n",
              "307510    Business Entity Type 3\n",
              "Name: ORGANIZATION_TYPE, Length: 307511, dtype: object"
            ]
          },
          "metadata": {},
          "execution_count": 59
        }
      ],
      "source": [
        "application_train['ORGANIZATION_TYPE']"
      ]
    },
    {
      "cell_type": "markdown",
      "metadata": {
        "id": "3b82e64d"
      },
      "source": [
        "#### Encoding categorical variables\n",
        "- LGBM can handle categorical variables, but many other ML model cannot.\n",
        "- For those other ML models, We need to encode categorical variables as number\n",
        "  - We will use label-encoding (0: bike, 1: car, 2:truck) for categorical variables with only 2 categories\n",
        "  - One-Hot Encoding for any categorical variables with more than 2 categories\n",
        "- Encoding categorical variables **automatically handles N/A values** in **categorical variables** (by considering N/a as separate category)"
      ]
    },
    {
      "cell_type": "code",
      "execution_count": null,
      "metadata": {
        "id": "e64b93fa",
        "outputId": "bad7b8eb-6bc1-4a0a-ba7b-b4d2d8ccfe50",
        "colab": {
          "base_uri": "https://localhost:8080/"
        }
      },
      "outputs": [
        {
          "output_type": "stream",
          "name": "stdout",
          "text": [
            "3 columns were label encoded.\n"
          ]
        }
      ],
      "source": [
        "######## label-encoding for categorical variables with only 2 categories ##########\n",
        "# Create a label encoder object\n",
        "le = LabelEncoder()\n",
        "le_count = 0\n",
        "\n",
        "# Iterate through the columns\n",
        "for col in application_train:\n",
        "    if application_train[col].dtype == 'object':\n",
        "        # If 2 or fewer unique categories\n",
        "        if len(list(application_train[col].unique())) <= 2:\n",
        "            # Train on the training data\n",
        "            le.fit(application_train[col])\n",
        "            # Transform both training and testing data\n",
        "            application_train[col] = le.transform(application_train[col])\n",
        "            application_test[col] = le.transform(application_test[col])\n",
        "\n",
        "            # Keep track of how many columns were label encoded\n",
        "            le_count += 1\n",
        "\n",
        "print('%d columns were label encoded.' % le_count)"
      ]
    },
    {
      "cell_type": "code",
      "execution_count": null,
      "metadata": {
        "scrolled": true,
        "id": "3838d9da",
        "outputId": "5c6fba87-2ec0-4313-cd50-a6e895a5ece1",
        "colab": {
          "base_uri": "https://localhost:8080/"
        }
      },
      "outputs": [
        {
          "output_type": "stream",
          "name": "stdout",
          "text": [
            "Training Features shape:  (307511, 244)\n",
            "Testing Features shape:  (48744, 239)\n"
          ]
        }
      ],
      "source": [
        "######## One-Hot Encoding for any categorical variables with more than 2 categories ###########\n",
        "application_train = pd.get_dummies(application_train)\n",
        "application_test = pd.get_dummies(application_test)\n",
        "\n",
        "print('Training Features shape: ', application_train.shape)\n",
        "print('Testing Features shape: ', application_test.shape)"
      ]
    },
    {
      "cell_type": "markdown",
      "metadata": {
        "id": "255793b7"
      },
      "source": [
        "#### Aligning Training and Testing Data\n",
        "There were some categorical variables with categories not represented in the testing data after encoding"
      ]
    },
    {
      "cell_type": "code",
      "execution_count": null,
      "metadata": {
        "id": "ccd51cf4",
        "outputId": "e3e98f36-f424-4bbb-8ec8-5671b07b194e",
        "colab": {
          "base_uri": "https://localhost:8080/"
        }
      },
      "outputs": [
        {
          "output_type": "stream",
          "name": "stdout",
          "text": [
            "Training Features shape:  (307511, 240)\n",
            "Testing Features shape:  (48744, 239)\n"
          ]
        }
      ],
      "source": [
        "# save the target column in train.csv so that we put it back in train.csv later\n",
        "train_labels = application_train['TARGET']\n",
        "\n",
        "# Align the training and testing data, keep only columns present in both dataframes (inner join)\n",
        "application_train, application_test = application_train.align(application_test, join = 'inner', axis = 1)\n",
        "\n",
        "# Add the target back in\n",
        "application_train['TARGET'] = train_labels\n",
        "\n",
        "print('Training Features shape: ', application_train.shape)\n",
        "print('Testing Features shape: ', application_test.shape)"
      ]
    },
    {
      "cell_type": "markdown",
      "metadata": {
        "id": "4c0f37cd"
      },
      "source": [
        "#### Correlations between features & target"
      ]
    },
    {
      "cell_type": "code",
      "execution_count": null,
      "metadata": {
        "scrolled": false,
        "id": "0d73dc73",
        "outputId": "4d5bb19b-a5ef-4f71-bb94-77564db22688",
        "colab": {
          "base_uri": "https://localhost:8080/"
        }
      },
      "outputs": [
        {
          "output_type": "stream",
          "name": "stdout",
          "text": [
            "Most Positive Correlations:\n",
            " OCCUPATION_TYPE_Laborers                             0.043019\n",
            "FLAG_DOCUMENT_3                                      0.044346\n",
            "REG_CITY_NOT_LIVE_CITY                               0.044395\n",
            "FLAG_EMP_PHONE                                       0.045982\n",
            "NAME_EDUCATION_TYPE_Secondary / secondary special    0.049824\n",
            "REG_CITY_NOT_WORK_CITY                               0.050994\n",
            "DAYS_ID_PUBLISH                                      0.051457\n",
            "CODE_GENDER_M                                        0.054713\n",
            "DAYS_LAST_PHONE_CHANGE                               0.055218\n",
            "NAME_INCOME_TYPE_Working                             0.057481\n",
            "REGION_RATING_CLIENT                                 0.058899\n",
            "REGION_RATING_CLIENT_W_CITY                          0.060893\n",
            "DAYS_EMPLOYED                                        0.074958\n",
            "DAYS_BIRTH                                           0.078239\n",
            "TARGET                                               1.000000\n",
            "Name: TARGET, dtype: float64\n",
            "\n",
            "Most Negative Correlations:\n",
            " EXT_SOURCE_3                           -0.178919\n",
            "EXT_SOURCE_2                           -0.160472\n",
            "EXT_SOURCE_1                           -0.155317\n",
            "NAME_EDUCATION_TYPE_Higher education   -0.056593\n",
            "CODE_GENDER_F                          -0.054704\n",
            "NAME_INCOME_TYPE_Pensioner             -0.046209\n",
            "ORGANIZATION_TYPE_XNA                  -0.045987\n",
            "FLOORSMAX_AVG                          -0.044003\n",
            "FLOORSMAX_MEDI                         -0.043768\n",
            "FLOORSMAX_MODE                         -0.043226\n",
            "EMERGENCYSTATE_MODE_No                 -0.042201\n",
            "HOUSETYPE_MODE_block of flats          -0.040594\n",
            "AMT_GOODS_PRICE                        -0.039645\n",
            "REGION_POPULATION_RELATIVE             -0.037227\n",
            "ELEVATORS_AVG                          -0.034199\n",
            "Name: TARGET, dtype: float64\n"
          ]
        }
      ],
      "source": [
        "# Find correlations with the target and sort\n",
        "correlations = application_train.corr()['TARGET'].sort_values()\n",
        "\n",
        "# Display correlations\n",
        "print('Most Positive Correlations:\\n', correlations.tail(15))\n",
        "print('\\nMost Negative Correlations:\\n', correlations.head(15))"
      ]
    },
    {
      "cell_type": "code",
      "execution_count": null,
      "metadata": {
        "id": "86ad563c",
        "outputId": "24914f26-2429-4358-cb39-2a04de1b0455",
        "colab": {
          "base_uri": "https://localhost:8080/",
          "height": 317
        }
      },
      "outputs": [
        {
          "output_type": "execute_result",
          "data": {
            "text/plain": [
              "   SK_ID_CURR  NAME_CONTRACT_TYPE  FLAG_OWN_CAR  FLAG_OWN_REALTY  \\\n",
              "0      100002                   0             0                1   \n",
              "1      100003                   0             0                0   \n",
              "2      100004                   1             1                1   \n",
              "3      100006                   0             0                1   \n",
              "4      100007                   0             0                1   \n",
              "\n",
              "   CNT_CHILDREN  AMT_INCOME_TOTAL  AMT_CREDIT  AMT_ANNUITY  AMT_GOODS_PRICE  \\\n",
              "0             0          202500.0    406597.5      24700.5         351000.0   \n",
              "1             0          270000.0   1293502.5      35698.5        1129500.0   \n",
              "2             0           67500.0    135000.0       6750.0         135000.0   \n",
              "3             0          135000.0    312682.5      29686.5         297000.0   \n",
              "4             0          121500.0    513000.0      21865.5         513000.0   \n",
              "\n",
              "   REGION_POPULATION_RELATIVE  ...  WALLSMATERIAL_MODE_Block  \\\n",
              "0                    0.018801  ...                         0   \n",
              "1                    0.003541  ...                         1   \n",
              "2                    0.010032  ...                         0   \n",
              "3                    0.008019  ...                         0   \n",
              "4                    0.028663  ...                         0   \n",
              "\n",
              "   WALLSMATERIAL_MODE_Mixed  WALLSMATERIAL_MODE_Monolithic  \\\n",
              "0                         0                              0   \n",
              "1                         0                              0   \n",
              "2                         0                              0   \n",
              "3                         0                              0   \n",
              "4                         0                              0   \n",
              "\n",
              "   WALLSMATERIAL_MODE_Others  WALLSMATERIAL_MODE_Panel  \\\n",
              "0                          0                         0   \n",
              "1                          0                         0   \n",
              "2                          0                         0   \n",
              "3                          0                         0   \n",
              "4                          0                         0   \n",
              "\n",
              "   WALLSMATERIAL_MODE_Stone, brick  WALLSMATERIAL_MODE_Wooden  \\\n",
              "0                                1                          0   \n",
              "1                                0                          0   \n",
              "2                                0                          0   \n",
              "3                                0                          0   \n",
              "4                                0                          0   \n",
              "\n",
              "   EMERGENCYSTATE_MODE_No  EMERGENCYSTATE_MODE_Yes  TARGET  \n",
              "0                       1                        0       1  \n",
              "1                       1                        0       0  \n",
              "2                       0                        0       0  \n",
              "3                       0                        0       0  \n",
              "4                       0                        0       0  \n",
              "\n",
              "[5 rows x 240 columns]"
            ],
            "text/html": [
              "\n",
              "  <div id=\"df-55801f68-98a9-4e7d-9a22-90c110c42e6a\">\n",
              "    <div class=\"colab-df-container\">\n",
              "      <div>\n",
              "<style scoped>\n",
              "    .dataframe tbody tr th:only-of-type {\n",
              "        vertical-align: middle;\n",
              "    }\n",
              "\n",
              "    .dataframe tbody tr th {\n",
              "        vertical-align: top;\n",
              "    }\n",
              "\n",
              "    .dataframe thead th {\n",
              "        text-align: right;\n",
              "    }\n",
              "</style>\n",
              "<table border=\"1\" class=\"dataframe\">\n",
              "  <thead>\n",
              "    <tr style=\"text-align: right;\">\n",
              "      <th></th>\n",
              "      <th>SK_ID_CURR</th>\n",
              "      <th>NAME_CONTRACT_TYPE</th>\n",
              "      <th>FLAG_OWN_CAR</th>\n",
              "      <th>FLAG_OWN_REALTY</th>\n",
              "      <th>CNT_CHILDREN</th>\n",
              "      <th>AMT_INCOME_TOTAL</th>\n",
              "      <th>AMT_CREDIT</th>\n",
              "      <th>AMT_ANNUITY</th>\n",
              "      <th>AMT_GOODS_PRICE</th>\n",
              "      <th>REGION_POPULATION_RELATIVE</th>\n",
              "      <th>...</th>\n",
              "      <th>WALLSMATERIAL_MODE_Block</th>\n",
              "      <th>WALLSMATERIAL_MODE_Mixed</th>\n",
              "      <th>WALLSMATERIAL_MODE_Monolithic</th>\n",
              "      <th>WALLSMATERIAL_MODE_Others</th>\n",
              "      <th>WALLSMATERIAL_MODE_Panel</th>\n",
              "      <th>WALLSMATERIAL_MODE_Stone, brick</th>\n",
              "      <th>WALLSMATERIAL_MODE_Wooden</th>\n",
              "      <th>EMERGENCYSTATE_MODE_No</th>\n",
              "      <th>EMERGENCYSTATE_MODE_Yes</th>\n",
              "      <th>TARGET</th>\n",
              "    </tr>\n",
              "  </thead>\n",
              "  <tbody>\n",
              "    <tr>\n",
              "      <th>0</th>\n",
              "      <td>100002</td>\n",
              "      <td>0</td>\n",
              "      <td>0</td>\n",
              "      <td>1</td>\n",
              "      <td>0</td>\n",
              "      <td>202500.0</td>\n",
              "      <td>406597.5</td>\n",
              "      <td>24700.5</td>\n",
              "      <td>351000.0</td>\n",
              "      <td>0.018801</td>\n",
              "      <td>...</td>\n",
              "      <td>0</td>\n",
              "      <td>0</td>\n",
              "      <td>0</td>\n",
              "      <td>0</td>\n",
              "      <td>0</td>\n",
              "      <td>1</td>\n",
              "      <td>0</td>\n",
              "      <td>1</td>\n",
              "      <td>0</td>\n",
              "      <td>1</td>\n",
              "    </tr>\n",
              "    <tr>\n",
              "      <th>1</th>\n",
              "      <td>100003</td>\n",
              "      <td>0</td>\n",
              "      <td>0</td>\n",
              "      <td>0</td>\n",
              "      <td>0</td>\n",
              "      <td>270000.0</td>\n",
              "      <td>1293502.5</td>\n",
              "      <td>35698.5</td>\n",
              "      <td>1129500.0</td>\n",
              "      <td>0.003541</td>\n",
              "      <td>...</td>\n",
              "      <td>1</td>\n",
              "      <td>0</td>\n",
              "      <td>0</td>\n",
              "      <td>0</td>\n",
              "      <td>0</td>\n",
              "      <td>0</td>\n",
              "      <td>0</td>\n",
              "      <td>1</td>\n",
              "      <td>0</td>\n",
              "      <td>0</td>\n",
              "    </tr>\n",
              "    <tr>\n",
              "      <th>2</th>\n",
              "      <td>100004</td>\n",
              "      <td>1</td>\n",
              "      <td>1</td>\n",
              "      <td>1</td>\n",
              "      <td>0</td>\n",
              "      <td>67500.0</td>\n",
              "      <td>135000.0</td>\n",
              "      <td>6750.0</td>\n",
              "      <td>135000.0</td>\n",
              "      <td>0.010032</td>\n",
              "      <td>...</td>\n",
              "      <td>0</td>\n",
              "      <td>0</td>\n",
              "      <td>0</td>\n",
              "      <td>0</td>\n",
              "      <td>0</td>\n",
              "      <td>0</td>\n",
              "      <td>0</td>\n",
              "      <td>0</td>\n",
              "      <td>0</td>\n",
              "      <td>0</td>\n",
              "    </tr>\n",
              "    <tr>\n",
              "      <th>3</th>\n",
              "      <td>100006</td>\n",
              "      <td>0</td>\n",
              "      <td>0</td>\n",
              "      <td>1</td>\n",
              "      <td>0</td>\n",
              "      <td>135000.0</td>\n",
              "      <td>312682.5</td>\n",
              "      <td>29686.5</td>\n",
              "      <td>297000.0</td>\n",
              "      <td>0.008019</td>\n",
              "      <td>...</td>\n",
              "      <td>0</td>\n",
              "      <td>0</td>\n",
              "      <td>0</td>\n",
              "      <td>0</td>\n",
              "      <td>0</td>\n",
              "      <td>0</td>\n",
              "      <td>0</td>\n",
              "      <td>0</td>\n",
              "      <td>0</td>\n",
              "      <td>0</td>\n",
              "    </tr>\n",
              "    <tr>\n",
              "      <th>4</th>\n",
              "      <td>100007</td>\n",
              "      <td>0</td>\n",
              "      <td>0</td>\n",
              "      <td>1</td>\n",
              "      <td>0</td>\n",
              "      <td>121500.0</td>\n",
              "      <td>513000.0</td>\n",
              "      <td>21865.5</td>\n",
              "      <td>513000.0</td>\n",
              "      <td>0.028663</td>\n",
              "      <td>...</td>\n",
              "      <td>0</td>\n",
              "      <td>0</td>\n",
              "      <td>0</td>\n",
              "      <td>0</td>\n",
              "      <td>0</td>\n",
              "      <td>0</td>\n",
              "      <td>0</td>\n",
              "      <td>0</td>\n",
              "      <td>0</td>\n",
              "      <td>0</td>\n",
              "    </tr>\n",
              "  </tbody>\n",
              "</table>\n",
              "<p>5 rows × 240 columns</p>\n",
              "</div>\n",
              "      <button class=\"colab-df-convert\" onclick=\"convertToInteractive('df-55801f68-98a9-4e7d-9a22-90c110c42e6a')\"\n",
              "              title=\"Convert this dataframe to an interactive table.\"\n",
              "              style=\"display:none;\">\n",
              "        \n",
              "  <svg xmlns=\"http://www.w3.org/2000/svg\" height=\"24px\"viewBox=\"0 0 24 24\"\n",
              "       width=\"24px\">\n",
              "    <path d=\"M0 0h24v24H0V0z\" fill=\"none\"/>\n",
              "    <path d=\"M18.56 5.44l.94 2.06.94-2.06 2.06-.94-2.06-.94-.94-2.06-.94 2.06-2.06.94zm-11 1L8.5 8.5l.94-2.06 2.06-.94-2.06-.94L8.5 2.5l-.94 2.06-2.06.94zm10 10l.94 2.06.94-2.06 2.06-.94-2.06-.94-.94-2.06-.94 2.06-2.06.94z\"/><path d=\"M17.41 7.96l-1.37-1.37c-.4-.4-.92-.59-1.43-.59-.52 0-1.04.2-1.43.59L10.3 9.45l-7.72 7.72c-.78.78-.78 2.05 0 2.83L4 21.41c.39.39.9.59 1.41.59.51 0 1.02-.2 1.41-.59l7.78-7.78 2.81-2.81c.8-.78.8-2.07 0-2.86zM5.41 20L4 18.59l7.72-7.72 1.47 1.35L5.41 20z\"/>\n",
              "  </svg>\n",
              "      </button>\n",
              "      \n",
              "  <style>\n",
              "    .colab-df-container {\n",
              "      display:flex;\n",
              "      flex-wrap:wrap;\n",
              "      gap: 12px;\n",
              "    }\n",
              "\n",
              "    .colab-df-convert {\n",
              "      background-color: #E8F0FE;\n",
              "      border: none;\n",
              "      border-radius: 50%;\n",
              "      cursor: pointer;\n",
              "      display: none;\n",
              "      fill: #1967D2;\n",
              "      height: 32px;\n",
              "      padding: 0 0 0 0;\n",
              "      width: 32px;\n",
              "    }\n",
              "\n",
              "    .colab-df-convert:hover {\n",
              "      background-color: #E2EBFA;\n",
              "      box-shadow: 0px 1px 2px rgba(60, 64, 67, 0.3), 0px 1px 3px 1px rgba(60, 64, 67, 0.15);\n",
              "      fill: #174EA6;\n",
              "    }\n",
              "\n",
              "    [theme=dark] .colab-df-convert {\n",
              "      background-color: #3B4455;\n",
              "      fill: #D2E3FC;\n",
              "    }\n",
              "\n",
              "    [theme=dark] .colab-df-convert:hover {\n",
              "      background-color: #434B5C;\n",
              "      box-shadow: 0px 1px 3px 1px rgba(0, 0, 0, 0.15);\n",
              "      filter: drop-shadow(0px 1px 2px rgba(0, 0, 0, 0.3));\n",
              "      fill: #FFFFFF;\n",
              "    }\n",
              "  </style>\n",
              "\n",
              "      <script>\n",
              "        const buttonEl =\n",
              "          document.querySelector('#df-55801f68-98a9-4e7d-9a22-90c110c42e6a button.colab-df-convert');\n",
              "        buttonEl.style.display =\n",
              "          google.colab.kernel.accessAllowed ? 'block' : 'none';\n",
              "\n",
              "        async function convertToInteractive(key) {\n",
              "          const element = document.querySelector('#df-55801f68-98a9-4e7d-9a22-90c110c42e6a');\n",
              "          const dataTable =\n",
              "            await google.colab.kernel.invokeFunction('convertToInteractive',\n",
              "                                                     [key], {});\n",
              "          if (!dataTable) return;\n",
              "\n",
              "          const docLinkHtml = 'Like what you see? Visit the ' +\n",
              "            '<a target=\"_blank\" href=https://colab.research.google.com/notebooks/data_table.ipynb>data table notebook</a>'\n",
              "            + ' to learn more about interactive tables.';\n",
              "          element.innerHTML = '';\n",
              "          dataTable['output_type'] = 'display_data';\n",
              "          await google.colab.output.renderOutput(dataTable, element);\n",
              "          const docLink = document.createElement('div');\n",
              "          docLink.innerHTML = docLinkHtml;\n",
              "          element.appendChild(docLink);\n",
              "        }\n",
              "      </script>\n",
              "    </div>\n",
              "  </div>\n",
              "  "
            ]
          },
          "metadata": {},
          "execution_count": 64
        }
      ],
      "source": [
        "application_train.head()"
      ]
    },
    {
      "cell_type": "code",
      "execution_count": null,
      "metadata": {
        "scrolled": true,
        "id": "fb881fd7",
        "outputId": "a7b5a16b-a7e1-4da3-85b7-2cd23c63d5ec",
        "colab": {
          "base_uri": "https://localhost:8080/"
        }
      },
      "outputs": [
        {
          "output_type": "execute_result",
          "data": {
            "text/plain": [
              "(307511, 240)"
            ]
          },
          "metadata": {},
          "execution_count": 65
        }
      ],
      "source": [
        "application_train.shape"
      ]
    },
    {
      "cell_type": "markdown",
      "metadata": {
        "id": "9838a09f"
      },
      "source": [
        "#### Fill missing value\n",
        "with median"
      ]
    },
    {
      "cell_type": "code",
      "execution_count": null,
      "metadata": {
        "scrolled": true,
        "id": "61836391",
        "outputId": "ac420964-0b82-4a6b-8dba-91bf441bd49b",
        "colab": {
          "base_uri": "https://localhost:8080/",
          "height": 317
        }
      },
      "outputs": [
        {
          "output_type": "execute_result",
          "data": {
            "text/plain": [
              "   SK_ID_CURR  NAME_CONTRACT_TYPE  FLAG_OWN_CAR  FLAG_OWN_REALTY  \\\n",
              "0      100002                   0             0                1   \n",
              "1      100003                   0             0                0   \n",
              "2      100004                   1             1                1   \n",
              "3      100006                   0             0                1   \n",
              "4      100007                   0             0                1   \n",
              "\n",
              "   CNT_CHILDREN  AMT_INCOME_TOTAL  AMT_CREDIT  AMT_ANNUITY  AMT_GOODS_PRICE  \\\n",
              "0             0          202500.0    406597.5      24700.5         351000.0   \n",
              "1             0          270000.0   1293502.5      35698.5        1129500.0   \n",
              "2             0           67500.0    135000.0       6750.0         135000.0   \n",
              "3             0          135000.0    312682.5      29686.5         297000.0   \n",
              "4             0          121500.0    513000.0      21865.5         513000.0   \n",
              "\n",
              "   REGION_POPULATION_RELATIVE  ...  WALLSMATERIAL_MODE_Block  \\\n",
              "0                    0.018801  ...                         0   \n",
              "1                    0.003541  ...                         1   \n",
              "2                    0.010032  ...                         0   \n",
              "3                    0.008019  ...                         0   \n",
              "4                    0.028663  ...                         0   \n",
              "\n",
              "   WALLSMATERIAL_MODE_Mixed  WALLSMATERIAL_MODE_Monolithic  \\\n",
              "0                         0                              0   \n",
              "1                         0                              0   \n",
              "2                         0                              0   \n",
              "3                         0                              0   \n",
              "4                         0                              0   \n",
              "\n",
              "   WALLSMATERIAL_MODE_Others  WALLSMATERIAL_MODE_Panel  \\\n",
              "0                          0                         0   \n",
              "1                          0                         0   \n",
              "2                          0                         0   \n",
              "3                          0                         0   \n",
              "4                          0                         0   \n",
              "\n",
              "   WALLSMATERIAL_MODE_Stone, brick  WALLSMATERIAL_MODE_Wooden  \\\n",
              "0                                1                          0   \n",
              "1                                0                          0   \n",
              "2                                0                          0   \n",
              "3                                0                          0   \n",
              "4                                0                          0   \n",
              "\n",
              "   EMERGENCYSTATE_MODE_No  EMERGENCYSTATE_MODE_Yes  TARGET  \n",
              "0                       1                        0       1  \n",
              "1                       1                        0       0  \n",
              "2                       0                        0       0  \n",
              "3                       0                        0       0  \n",
              "4                       0                        0       0  \n",
              "\n",
              "[5 rows x 240 columns]"
            ],
            "text/html": [
              "\n",
              "  <div id=\"df-4b6e8296-a160-41dd-8c7a-bb761dcd69cd\">\n",
              "    <div class=\"colab-df-container\">\n",
              "      <div>\n",
              "<style scoped>\n",
              "    .dataframe tbody tr th:only-of-type {\n",
              "        vertical-align: middle;\n",
              "    }\n",
              "\n",
              "    .dataframe tbody tr th {\n",
              "        vertical-align: top;\n",
              "    }\n",
              "\n",
              "    .dataframe thead th {\n",
              "        text-align: right;\n",
              "    }\n",
              "</style>\n",
              "<table border=\"1\" class=\"dataframe\">\n",
              "  <thead>\n",
              "    <tr style=\"text-align: right;\">\n",
              "      <th></th>\n",
              "      <th>SK_ID_CURR</th>\n",
              "      <th>NAME_CONTRACT_TYPE</th>\n",
              "      <th>FLAG_OWN_CAR</th>\n",
              "      <th>FLAG_OWN_REALTY</th>\n",
              "      <th>CNT_CHILDREN</th>\n",
              "      <th>AMT_INCOME_TOTAL</th>\n",
              "      <th>AMT_CREDIT</th>\n",
              "      <th>AMT_ANNUITY</th>\n",
              "      <th>AMT_GOODS_PRICE</th>\n",
              "      <th>REGION_POPULATION_RELATIVE</th>\n",
              "      <th>...</th>\n",
              "      <th>WALLSMATERIAL_MODE_Block</th>\n",
              "      <th>WALLSMATERIAL_MODE_Mixed</th>\n",
              "      <th>WALLSMATERIAL_MODE_Monolithic</th>\n",
              "      <th>WALLSMATERIAL_MODE_Others</th>\n",
              "      <th>WALLSMATERIAL_MODE_Panel</th>\n",
              "      <th>WALLSMATERIAL_MODE_Stone, brick</th>\n",
              "      <th>WALLSMATERIAL_MODE_Wooden</th>\n",
              "      <th>EMERGENCYSTATE_MODE_No</th>\n",
              "      <th>EMERGENCYSTATE_MODE_Yes</th>\n",
              "      <th>TARGET</th>\n",
              "    </tr>\n",
              "  </thead>\n",
              "  <tbody>\n",
              "    <tr>\n",
              "      <th>0</th>\n",
              "      <td>100002</td>\n",
              "      <td>0</td>\n",
              "      <td>0</td>\n",
              "      <td>1</td>\n",
              "      <td>0</td>\n",
              "      <td>202500.0</td>\n",
              "      <td>406597.5</td>\n",
              "      <td>24700.5</td>\n",
              "      <td>351000.0</td>\n",
              "      <td>0.018801</td>\n",
              "      <td>...</td>\n",
              "      <td>0</td>\n",
              "      <td>0</td>\n",
              "      <td>0</td>\n",
              "      <td>0</td>\n",
              "      <td>0</td>\n",
              "      <td>1</td>\n",
              "      <td>0</td>\n",
              "      <td>1</td>\n",
              "      <td>0</td>\n",
              "      <td>1</td>\n",
              "    </tr>\n",
              "    <tr>\n",
              "      <th>1</th>\n",
              "      <td>100003</td>\n",
              "      <td>0</td>\n",
              "      <td>0</td>\n",
              "      <td>0</td>\n",
              "      <td>0</td>\n",
              "      <td>270000.0</td>\n",
              "      <td>1293502.5</td>\n",
              "      <td>35698.5</td>\n",
              "      <td>1129500.0</td>\n",
              "      <td>0.003541</td>\n",
              "      <td>...</td>\n",
              "      <td>1</td>\n",
              "      <td>0</td>\n",
              "      <td>0</td>\n",
              "      <td>0</td>\n",
              "      <td>0</td>\n",
              "      <td>0</td>\n",
              "      <td>0</td>\n",
              "      <td>1</td>\n",
              "      <td>0</td>\n",
              "      <td>0</td>\n",
              "    </tr>\n",
              "    <tr>\n",
              "      <th>2</th>\n",
              "      <td>100004</td>\n",
              "      <td>1</td>\n",
              "      <td>1</td>\n",
              "      <td>1</td>\n",
              "      <td>0</td>\n",
              "      <td>67500.0</td>\n",
              "      <td>135000.0</td>\n",
              "      <td>6750.0</td>\n",
              "      <td>135000.0</td>\n",
              "      <td>0.010032</td>\n",
              "      <td>...</td>\n",
              "      <td>0</td>\n",
              "      <td>0</td>\n",
              "      <td>0</td>\n",
              "      <td>0</td>\n",
              "      <td>0</td>\n",
              "      <td>0</td>\n",
              "      <td>0</td>\n",
              "      <td>0</td>\n",
              "      <td>0</td>\n",
              "      <td>0</td>\n",
              "    </tr>\n",
              "    <tr>\n",
              "      <th>3</th>\n",
              "      <td>100006</td>\n",
              "      <td>0</td>\n",
              "      <td>0</td>\n",
              "      <td>1</td>\n",
              "      <td>0</td>\n",
              "      <td>135000.0</td>\n",
              "      <td>312682.5</td>\n",
              "      <td>29686.5</td>\n",
              "      <td>297000.0</td>\n",
              "      <td>0.008019</td>\n",
              "      <td>...</td>\n",
              "      <td>0</td>\n",
              "      <td>0</td>\n",
              "      <td>0</td>\n",
              "      <td>0</td>\n",
              "      <td>0</td>\n",
              "      <td>0</td>\n",
              "      <td>0</td>\n",
              "      <td>0</td>\n",
              "      <td>0</td>\n",
              "      <td>0</td>\n",
              "    </tr>\n",
              "    <tr>\n",
              "      <th>4</th>\n",
              "      <td>100007</td>\n",
              "      <td>0</td>\n",
              "      <td>0</td>\n",
              "      <td>1</td>\n",
              "      <td>0</td>\n",
              "      <td>121500.0</td>\n",
              "      <td>513000.0</td>\n",
              "      <td>21865.5</td>\n",
              "      <td>513000.0</td>\n",
              "      <td>0.028663</td>\n",
              "      <td>...</td>\n",
              "      <td>0</td>\n",
              "      <td>0</td>\n",
              "      <td>0</td>\n",
              "      <td>0</td>\n",
              "      <td>0</td>\n",
              "      <td>0</td>\n",
              "      <td>0</td>\n",
              "      <td>0</td>\n",
              "      <td>0</td>\n",
              "      <td>0</td>\n",
              "    </tr>\n",
              "  </tbody>\n",
              "</table>\n",
              "<p>5 rows × 240 columns</p>\n",
              "</div>\n",
              "      <button class=\"colab-df-convert\" onclick=\"convertToInteractive('df-4b6e8296-a160-41dd-8c7a-bb761dcd69cd')\"\n",
              "              title=\"Convert this dataframe to an interactive table.\"\n",
              "              style=\"display:none;\">\n",
              "        \n",
              "  <svg xmlns=\"http://www.w3.org/2000/svg\" height=\"24px\"viewBox=\"0 0 24 24\"\n",
              "       width=\"24px\">\n",
              "    <path d=\"M0 0h24v24H0V0z\" fill=\"none\"/>\n",
              "    <path d=\"M18.56 5.44l.94 2.06.94-2.06 2.06-.94-2.06-.94-.94-2.06-.94 2.06-2.06.94zm-11 1L8.5 8.5l.94-2.06 2.06-.94-2.06-.94L8.5 2.5l-.94 2.06-2.06.94zm10 10l.94 2.06.94-2.06 2.06-.94-2.06-.94-.94-2.06-.94 2.06-2.06.94z\"/><path d=\"M17.41 7.96l-1.37-1.37c-.4-.4-.92-.59-1.43-.59-.52 0-1.04.2-1.43.59L10.3 9.45l-7.72 7.72c-.78.78-.78 2.05 0 2.83L4 21.41c.39.39.9.59 1.41.59.51 0 1.02-.2 1.41-.59l7.78-7.78 2.81-2.81c.8-.78.8-2.07 0-2.86zM5.41 20L4 18.59l7.72-7.72 1.47 1.35L5.41 20z\"/>\n",
              "  </svg>\n",
              "      </button>\n",
              "      \n",
              "  <style>\n",
              "    .colab-df-container {\n",
              "      display:flex;\n",
              "      flex-wrap:wrap;\n",
              "      gap: 12px;\n",
              "    }\n",
              "\n",
              "    .colab-df-convert {\n",
              "      background-color: #E8F0FE;\n",
              "      border: none;\n",
              "      border-radius: 50%;\n",
              "      cursor: pointer;\n",
              "      display: none;\n",
              "      fill: #1967D2;\n",
              "      height: 32px;\n",
              "      padding: 0 0 0 0;\n",
              "      width: 32px;\n",
              "    }\n",
              "\n",
              "    .colab-df-convert:hover {\n",
              "      background-color: #E2EBFA;\n",
              "      box-shadow: 0px 1px 2px rgba(60, 64, 67, 0.3), 0px 1px 3px 1px rgba(60, 64, 67, 0.15);\n",
              "      fill: #174EA6;\n",
              "    }\n",
              "\n",
              "    [theme=dark] .colab-df-convert {\n",
              "      background-color: #3B4455;\n",
              "      fill: #D2E3FC;\n",
              "    }\n",
              "\n",
              "    [theme=dark] .colab-df-convert:hover {\n",
              "      background-color: #434B5C;\n",
              "      box-shadow: 0px 1px 3px 1px rgba(0, 0, 0, 0.15);\n",
              "      filter: drop-shadow(0px 1px 2px rgba(0, 0, 0, 0.3));\n",
              "      fill: #FFFFFF;\n",
              "    }\n",
              "  </style>\n",
              "\n",
              "      <script>\n",
              "        const buttonEl =\n",
              "          document.querySelector('#df-4b6e8296-a160-41dd-8c7a-bb761dcd69cd button.colab-df-convert');\n",
              "        buttonEl.style.display =\n",
              "          google.colab.kernel.accessAllowed ? 'block' : 'none';\n",
              "\n",
              "        async function convertToInteractive(key) {\n",
              "          const element = document.querySelector('#df-4b6e8296-a160-41dd-8c7a-bb761dcd69cd');\n",
              "          const dataTable =\n",
              "            await google.colab.kernel.invokeFunction('convertToInteractive',\n",
              "                                                     [key], {});\n",
              "          if (!dataTable) return;\n",
              "\n",
              "          const docLinkHtml = 'Like what you see? Visit the ' +\n",
              "            '<a target=\"_blank\" href=https://colab.research.google.com/notebooks/data_table.ipynb>data table notebook</a>'\n",
              "            + ' to learn more about interactive tables.';\n",
              "          element.innerHTML = '';\n",
              "          dataTable['output_type'] = 'display_data';\n",
              "          await google.colab.output.renderOutput(dataTable, element);\n",
              "          const docLink = document.createElement('div');\n",
              "          docLink.innerHTML = docLinkHtml;\n",
              "          element.appendChild(docLink);\n",
              "        }\n",
              "      </script>\n",
              "    </div>\n",
              "  </div>\n",
              "  "
            ]
          },
          "metadata": {},
          "execution_count": 66
        }
      ],
      "source": [
        "application_train_median = application_train.fillna(application_train.median())\n",
        "application_train_median.head()"
      ]
    },
    {
      "cell_type": "code",
      "execution_count": null,
      "metadata": {
        "id": "17aec198",
        "outputId": "9aeff892-3c0d-4293-9cb8-01280ba1150b",
        "colab": {
          "base_uri": "https://localhost:8080/"
        }
      },
      "outputs": [
        {
          "output_type": "execute_result",
          "data": {
            "text/plain": [
              "(307511, 240)"
            ]
          },
          "metadata": {},
          "execution_count": 67
        }
      ],
      "source": [
        "application_train_median.shape"
      ]
    },
    {
      "cell_type": "code",
      "execution_count": null,
      "metadata": {
        "scrolled": true,
        "id": "56346eff",
        "outputId": "633e7bf5-12ad-415d-c19f-d40cdc2e723e",
        "colab": {
          "base_uri": "https://localhost:8080/",
          "height": 317
        }
      },
      "outputs": [
        {
          "output_type": "execute_result",
          "data": {
            "text/plain": [
              "   SK_ID_CURR  NAME_CONTRACT_TYPE  FLAG_OWN_CAR  FLAG_OWN_REALTY  \\\n",
              "0      100001                   0             0                1   \n",
              "1      100005                   0             0                1   \n",
              "2      100013                   0             1                1   \n",
              "3      100028                   0             0                1   \n",
              "4      100038                   0             1                0   \n",
              "\n",
              "   CNT_CHILDREN  AMT_INCOME_TOTAL  AMT_CREDIT  AMT_ANNUITY  AMT_GOODS_PRICE  \\\n",
              "0             0          135000.0    568800.0      20560.5         450000.0   \n",
              "1             0           99000.0    222768.0      17370.0         180000.0   \n",
              "2             0          202500.0    663264.0      69777.0         630000.0   \n",
              "3             2          315000.0   1575000.0      49018.5        1575000.0   \n",
              "4             1          180000.0    625500.0      32067.0         625500.0   \n",
              "\n",
              "   REGION_POPULATION_RELATIVE  ...  HOUSETYPE_MODE_terraced house  \\\n",
              "0                    0.018850  ...                              0   \n",
              "1                    0.035792  ...                              0   \n",
              "2                    0.019101  ...                              0   \n",
              "3                    0.026392  ...                              0   \n",
              "4                    0.010032  ...                              0   \n",
              "\n",
              "   WALLSMATERIAL_MODE_Block  WALLSMATERIAL_MODE_Mixed  \\\n",
              "0                         0                         0   \n",
              "1                         0                         0   \n",
              "2                         0                         0   \n",
              "3                         0                         0   \n",
              "4                         0                         0   \n",
              "\n",
              "   WALLSMATERIAL_MODE_Monolithic  WALLSMATERIAL_MODE_Others  \\\n",
              "0                              0                          0   \n",
              "1                              0                          0   \n",
              "2                              0                          0   \n",
              "3                              0                          0   \n",
              "4                              0                          0   \n",
              "\n",
              "   WALLSMATERIAL_MODE_Panel  WALLSMATERIAL_MODE_Stone, brick  \\\n",
              "0                         0                                1   \n",
              "1                         0                                0   \n",
              "2                         0                                0   \n",
              "3                         1                                0   \n",
              "4                         0                                0   \n",
              "\n",
              "   WALLSMATERIAL_MODE_Wooden  EMERGENCYSTATE_MODE_No  EMERGENCYSTATE_MODE_Yes  \n",
              "0                          0                       1                        0  \n",
              "1                          0                       0                        0  \n",
              "2                          0                       0                        0  \n",
              "3                          0                       1                        0  \n",
              "4                          0                       0                        0  \n",
              "\n",
              "[5 rows x 239 columns]"
            ],
            "text/html": [
              "\n",
              "  <div id=\"df-e474987d-9562-4c75-9cbd-828b6ad9da71\">\n",
              "    <div class=\"colab-df-container\">\n",
              "      <div>\n",
              "<style scoped>\n",
              "    .dataframe tbody tr th:only-of-type {\n",
              "        vertical-align: middle;\n",
              "    }\n",
              "\n",
              "    .dataframe tbody tr th {\n",
              "        vertical-align: top;\n",
              "    }\n",
              "\n",
              "    .dataframe thead th {\n",
              "        text-align: right;\n",
              "    }\n",
              "</style>\n",
              "<table border=\"1\" class=\"dataframe\">\n",
              "  <thead>\n",
              "    <tr style=\"text-align: right;\">\n",
              "      <th></th>\n",
              "      <th>SK_ID_CURR</th>\n",
              "      <th>NAME_CONTRACT_TYPE</th>\n",
              "      <th>FLAG_OWN_CAR</th>\n",
              "      <th>FLAG_OWN_REALTY</th>\n",
              "      <th>CNT_CHILDREN</th>\n",
              "      <th>AMT_INCOME_TOTAL</th>\n",
              "      <th>AMT_CREDIT</th>\n",
              "      <th>AMT_ANNUITY</th>\n",
              "      <th>AMT_GOODS_PRICE</th>\n",
              "      <th>REGION_POPULATION_RELATIVE</th>\n",
              "      <th>...</th>\n",
              "      <th>HOUSETYPE_MODE_terraced house</th>\n",
              "      <th>WALLSMATERIAL_MODE_Block</th>\n",
              "      <th>WALLSMATERIAL_MODE_Mixed</th>\n",
              "      <th>WALLSMATERIAL_MODE_Monolithic</th>\n",
              "      <th>WALLSMATERIAL_MODE_Others</th>\n",
              "      <th>WALLSMATERIAL_MODE_Panel</th>\n",
              "      <th>WALLSMATERIAL_MODE_Stone, brick</th>\n",
              "      <th>WALLSMATERIAL_MODE_Wooden</th>\n",
              "      <th>EMERGENCYSTATE_MODE_No</th>\n",
              "      <th>EMERGENCYSTATE_MODE_Yes</th>\n",
              "    </tr>\n",
              "  </thead>\n",
              "  <tbody>\n",
              "    <tr>\n",
              "      <th>0</th>\n",
              "      <td>100001</td>\n",
              "      <td>0</td>\n",
              "      <td>0</td>\n",
              "      <td>1</td>\n",
              "      <td>0</td>\n",
              "      <td>135000.0</td>\n",
              "      <td>568800.0</td>\n",
              "      <td>20560.5</td>\n",
              "      <td>450000.0</td>\n",
              "      <td>0.018850</td>\n",
              "      <td>...</td>\n",
              "      <td>0</td>\n",
              "      <td>0</td>\n",
              "      <td>0</td>\n",
              "      <td>0</td>\n",
              "      <td>0</td>\n",
              "      <td>0</td>\n",
              "      <td>1</td>\n",
              "      <td>0</td>\n",
              "      <td>1</td>\n",
              "      <td>0</td>\n",
              "    </tr>\n",
              "    <tr>\n",
              "      <th>1</th>\n",
              "      <td>100005</td>\n",
              "      <td>0</td>\n",
              "      <td>0</td>\n",
              "      <td>1</td>\n",
              "      <td>0</td>\n",
              "      <td>99000.0</td>\n",
              "      <td>222768.0</td>\n",
              "      <td>17370.0</td>\n",
              "      <td>180000.0</td>\n",
              "      <td>0.035792</td>\n",
              "      <td>...</td>\n",
              "      <td>0</td>\n",
              "      <td>0</td>\n",
              "      <td>0</td>\n",
              "      <td>0</td>\n",
              "      <td>0</td>\n",
              "      <td>0</td>\n",
              "      <td>0</td>\n",
              "      <td>0</td>\n",
              "      <td>0</td>\n",
              "      <td>0</td>\n",
              "    </tr>\n",
              "    <tr>\n",
              "      <th>2</th>\n",
              "      <td>100013</td>\n",
              "      <td>0</td>\n",
              "      <td>1</td>\n",
              "      <td>1</td>\n",
              "      <td>0</td>\n",
              "      <td>202500.0</td>\n",
              "      <td>663264.0</td>\n",
              "      <td>69777.0</td>\n",
              "      <td>630000.0</td>\n",
              "      <td>0.019101</td>\n",
              "      <td>...</td>\n",
              "      <td>0</td>\n",
              "      <td>0</td>\n",
              "      <td>0</td>\n",
              "      <td>0</td>\n",
              "      <td>0</td>\n",
              "      <td>0</td>\n",
              "      <td>0</td>\n",
              "      <td>0</td>\n",
              "      <td>0</td>\n",
              "      <td>0</td>\n",
              "    </tr>\n",
              "    <tr>\n",
              "      <th>3</th>\n",
              "      <td>100028</td>\n",
              "      <td>0</td>\n",
              "      <td>0</td>\n",
              "      <td>1</td>\n",
              "      <td>2</td>\n",
              "      <td>315000.0</td>\n",
              "      <td>1575000.0</td>\n",
              "      <td>49018.5</td>\n",
              "      <td>1575000.0</td>\n",
              "      <td>0.026392</td>\n",
              "      <td>...</td>\n",
              "      <td>0</td>\n",
              "      <td>0</td>\n",
              "      <td>0</td>\n",
              "      <td>0</td>\n",
              "      <td>0</td>\n",
              "      <td>1</td>\n",
              "      <td>0</td>\n",
              "      <td>0</td>\n",
              "      <td>1</td>\n",
              "      <td>0</td>\n",
              "    </tr>\n",
              "    <tr>\n",
              "      <th>4</th>\n",
              "      <td>100038</td>\n",
              "      <td>0</td>\n",
              "      <td>1</td>\n",
              "      <td>0</td>\n",
              "      <td>1</td>\n",
              "      <td>180000.0</td>\n",
              "      <td>625500.0</td>\n",
              "      <td>32067.0</td>\n",
              "      <td>625500.0</td>\n",
              "      <td>0.010032</td>\n",
              "      <td>...</td>\n",
              "      <td>0</td>\n",
              "      <td>0</td>\n",
              "      <td>0</td>\n",
              "      <td>0</td>\n",
              "      <td>0</td>\n",
              "      <td>0</td>\n",
              "      <td>0</td>\n",
              "      <td>0</td>\n",
              "      <td>0</td>\n",
              "      <td>0</td>\n",
              "    </tr>\n",
              "  </tbody>\n",
              "</table>\n",
              "<p>5 rows × 239 columns</p>\n",
              "</div>\n",
              "      <button class=\"colab-df-convert\" onclick=\"convertToInteractive('df-e474987d-9562-4c75-9cbd-828b6ad9da71')\"\n",
              "              title=\"Convert this dataframe to an interactive table.\"\n",
              "              style=\"display:none;\">\n",
              "        \n",
              "  <svg xmlns=\"http://www.w3.org/2000/svg\" height=\"24px\"viewBox=\"0 0 24 24\"\n",
              "       width=\"24px\">\n",
              "    <path d=\"M0 0h24v24H0V0z\" fill=\"none\"/>\n",
              "    <path d=\"M18.56 5.44l.94 2.06.94-2.06 2.06-.94-2.06-.94-.94-2.06-.94 2.06-2.06.94zm-11 1L8.5 8.5l.94-2.06 2.06-.94-2.06-.94L8.5 2.5l-.94 2.06-2.06.94zm10 10l.94 2.06.94-2.06 2.06-.94-2.06-.94-.94-2.06-.94 2.06-2.06.94z\"/><path d=\"M17.41 7.96l-1.37-1.37c-.4-.4-.92-.59-1.43-.59-.52 0-1.04.2-1.43.59L10.3 9.45l-7.72 7.72c-.78.78-.78 2.05 0 2.83L4 21.41c.39.39.9.59 1.41.59.51 0 1.02-.2 1.41-.59l7.78-7.78 2.81-2.81c.8-.78.8-2.07 0-2.86zM5.41 20L4 18.59l7.72-7.72 1.47 1.35L5.41 20z\"/>\n",
              "  </svg>\n",
              "      </button>\n",
              "      \n",
              "  <style>\n",
              "    .colab-df-container {\n",
              "      display:flex;\n",
              "      flex-wrap:wrap;\n",
              "      gap: 12px;\n",
              "    }\n",
              "\n",
              "    .colab-df-convert {\n",
              "      background-color: #E8F0FE;\n",
              "      border: none;\n",
              "      border-radius: 50%;\n",
              "      cursor: pointer;\n",
              "      display: none;\n",
              "      fill: #1967D2;\n",
              "      height: 32px;\n",
              "      padding: 0 0 0 0;\n",
              "      width: 32px;\n",
              "    }\n",
              "\n",
              "    .colab-df-convert:hover {\n",
              "      background-color: #E2EBFA;\n",
              "      box-shadow: 0px 1px 2px rgba(60, 64, 67, 0.3), 0px 1px 3px 1px rgba(60, 64, 67, 0.15);\n",
              "      fill: #174EA6;\n",
              "    }\n",
              "\n",
              "    [theme=dark] .colab-df-convert {\n",
              "      background-color: #3B4455;\n",
              "      fill: #D2E3FC;\n",
              "    }\n",
              "\n",
              "    [theme=dark] .colab-df-convert:hover {\n",
              "      background-color: #434B5C;\n",
              "      box-shadow: 0px 1px 3px 1px rgba(0, 0, 0, 0.15);\n",
              "      filter: drop-shadow(0px 1px 2px rgba(0, 0, 0, 0.3));\n",
              "      fill: #FFFFFF;\n",
              "    }\n",
              "  </style>\n",
              "\n",
              "      <script>\n",
              "        const buttonEl =\n",
              "          document.querySelector('#df-e474987d-9562-4c75-9cbd-828b6ad9da71 button.colab-df-convert');\n",
              "        buttonEl.style.display =\n",
              "          google.colab.kernel.accessAllowed ? 'block' : 'none';\n",
              "\n",
              "        async function convertToInteractive(key) {\n",
              "          const element = document.querySelector('#df-e474987d-9562-4c75-9cbd-828b6ad9da71');\n",
              "          const dataTable =\n",
              "            await google.colab.kernel.invokeFunction('convertToInteractive',\n",
              "                                                     [key], {});\n",
              "          if (!dataTable) return;\n",
              "\n",
              "          const docLinkHtml = 'Like what you see? Visit the ' +\n",
              "            '<a target=\"_blank\" href=https://colab.research.google.com/notebooks/data_table.ipynb>data table notebook</a>'\n",
              "            + ' to learn more about interactive tables.';\n",
              "          element.innerHTML = '';\n",
              "          dataTable['output_type'] = 'display_data';\n",
              "          await google.colab.output.renderOutput(dataTable, element);\n",
              "          const docLink = document.createElement('div');\n",
              "          docLink.innerHTML = docLinkHtml;\n",
              "          element.appendChild(docLink);\n",
              "        }\n",
              "      </script>\n",
              "    </div>\n",
              "  </div>\n",
              "  "
            ]
          },
          "metadata": {},
          "execution_count": 68
        }
      ],
      "source": [
        "application_test_median = application_test.fillna(application_test.median())\n",
        "application_test_median.head()"
      ]
    },
    {
      "cell_type": "code",
      "execution_count": null,
      "metadata": {
        "id": "255d81b0",
        "outputId": "c2497af0-6451-416c-89ea-836eace2478e",
        "colab": {
          "base_uri": "https://localhost:8080/"
        }
      },
      "outputs": [
        {
          "output_type": "execute_result",
          "data": {
            "text/plain": [
              "(48744, 239)"
            ]
          },
          "metadata": {},
          "execution_count": 69
        }
      ],
      "source": [
        "application_test_median.shape"
      ]
    },
    {
      "cell_type": "code",
      "execution_count": null,
      "metadata": {
        "scrolled": true,
        "id": "2589a30f",
        "outputId": "75efb864-b92e-487a-b639-c9430c6a69e8",
        "colab": {
          "base_uri": "https://localhost:8080/"
        }
      },
      "outputs": [
        {
          "output_type": "execute_result",
          "data": {
            "text/plain": [
              "array(['SK_ID_CURR', 'NAME_CONTRACT_TYPE', 'FLAG_OWN_CAR',\n",
              "       'FLAG_OWN_REALTY', 'CNT_CHILDREN', 'AMT_INCOME_TOTAL',\n",
              "       'AMT_CREDIT', 'AMT_ANNUITY', 'AMT_GOODS_PRICE',\n",
              "       'REGION_POPULATION_RELATIVE', 'DAYS_BIRTH', 'DAYS_EMPLOYED',\n",
              "       'DAYS_REGISTRATION', 'DAYS_ID_PUBLISH', 'OWN_CAR_AGE',\n",
              "       'FLAG_MOBIL', 'FLAG_EMP_PHONE', 'FLAG_WORK_PHONE',\n",
              "       'FLAG_CONT_MOBILE', 'FLAG_PHONE', 'FLAG_EMAIL', 'CNT_FAM_MEMBERS',\n",
              "       'REGION_RATING_CLIENT', 'REGION_RATING_CLIENT_W_CITY',\n",
              "       'HOUR_APPR_PROCESS_START', 'REG_REGION_NOT_LIVE_REGION',\n",
              "       'REG_REGION_NOT_WORK_REGION', 'LIVE_REGION_NOT_WORK_REGION',\n",
              "       'REG_CITY_NOT_LIVE_CITY', 'REG_CITY_NOT_WORK_CITY',\n",
              "       'LIVE_CITY_NOT_WORK_CITY', 'EXT_SOURCE_1', 'EXT_SOURCE_2',\n",
              "       'EXT_SOURCE_3', 'APARTMENTS_AVG', 'BASEMENTAREA_AVG',\n",
              "       'YEARS_BEGINEXPLUATATION_AVG', 'YEARS_BUILD_AVG', 'COMMONAREA_AVG',\n",
              "       'ELEVATORS_AVG', 'ENTRANCES_AVG', 'FLOORSMAX_AVG', 'FLOORSMIN_AVG',\n",
              "       'LANDAREA_AVG', 'LIVINGAPARTMENTS_AVG', 'LIVINGAREA_AVG',\n",
              "       'NONLIVINGAPARTMENTS_AVG', 'NONLIVINGAREA_AVG', 'APARTMENTS_MODE',\n",
              "       'BASEMENTAREA_MODE', 'YEARS_BEGINEXPLUATATION_MODE',\n",
              "       'YEARS_BUILD_MODE', 'COMMONAREA_MODE', 'ELEVATORS_MODE',\n",
              "       'ENTRANCES_MODE', 'FLOORSMAX_MODE', 'FLOORSMIN_MODE',\n",
              "       'LANDAREA_MODE', 'LIVINGAPARTMENTS_MODE', 'LIVINGAREA_MODE',\n",
              "       'NONLIVINGAPARTMENTS_MODE', 'NONLIVINGAREA_MODE',\n",
              "       'APARTMENTS_MEDI', 'BASEMENTAREA_MEDI',\n",
              "       'YEARS_BEGINEXPLUATATION_MEDI', 'YEARS_BUILD_MEDI',\n",
              "       'COMMONAREA_MEDI', 'ELEVATORS_MEDI', 'ENTRANCES_MEDI',\n",
              "       'FLOORSMAX_MEDI', 'FLOORSMIN_MEDI', 'LANDAREA_MEDI',\n",
              "       'LIVINGAPARTMENTS_MEDI', 'LIVINGAREA_MEDI',\n",
              "       'NONLIVINGAPARTMENTS_MEDI', 'NONLIVINGAREA_MEDI', 'TOTALAREA_MODE',\n",
              "       'OBS_30_CNT_SOCIAL_CIRCLE', 'DEF_30_CNT_SOCIAL_CIRCLE',\n",
              "       'OBS_60_CNT_SOCIAL_CIRCLE', 'DEF_60_CNT_SOCIAL_CIRCLE',\n",
              "       'DAYS_LAST_PHONE_CHANGE', 'FLAG_DOCUMENT_2', 'FLAG_DOCUMENT_3',\n",
              "       'FLAG_DOCUMENT_4', 'FLAG_DOCUMENT_5', 'FLAG_DOCUMENT_6',\n",
              "       'FLAG_DOCUMENT_7', 'FLAG_DOCUMENT_8', 'FLAG_DOCUMENT_9',\n",
              "       'FLAG_DOCUMENT_10', 'FLAG_DOCUMENT_11', 'FLAG_DOCUMENT_12',\n",
              "       'FLAG_DOCUMENT_13', 'FLAG_DOCUMENT_14', 'FLAG_DOCUMENT_15',\n",
              "       'FLAG_DOCUMENT_16', 'FLAG_DOCUMENT_17', 'FLAG_DOCUMENT_18',\n",
              "       'FLAG_DOCUMENT_19', 'FLAG_DOCUMENT_20', 'FLAG_DOCUMENT_21',\n",
              "       'AMT_REQ_CREDIT_BUREAU_HOUR', 'AMT_REQ_CREDIT_BUREAU_DAY',\n",
              "       'AMT_REQ_CREDIT_BUREAU_WEEK', 'AMT_REQ_CREDIT_BUREAU_MON',\n",
              "       'AMT_REQ_CREDIT_BUREAU_QRT', 'AMT_REQ_CREDIT_BUREAU_YEAR',\n",
              "       'CODE_GENDER_F', 'CODE_GENDER_M', 'NAME_TYPE_SUITE_Children',\n",
              "       'NAME_TYPE_SUITE_Family', 'NAME_TYPE_SUITE_Group of people',\n",
              "       'NAME_TYPE_SUITE_Other_A', 'NAME_TYPE_SUITE_Other_B',\n",
              "       'NAME_TYPE_SUITE_Spouse, partner', 'NAME_TYPE_SUITE_Unaccompanied',\n",
              "       'NAME_INCOME_TYPE_Businessman',\n",
              "       'NAME_INCOME_TYPE_Commercial associate',\n",
              "       'NAME_INCOME_TYPE_Pensioner', 'NAME_INCOME_TYPE_State servant',\n",
              "       'NAME_INCOME_TYPE_Student', 'NAME_INCOME_TYPE_Unemployed',\n",
              "       'NAME_INCOME_TYPE_Working', 'NAME_EDUCATION_TYPE_Academic degree',\n",
              "       'NAME_EDUCATION_TYPE_Higher education',\n",
              "       'NAME_EDUCATION_TYPE_Incomplete higher',\n",
              "       'NAME_EDUCATION_TYPE_Lower secondary',\n",
              "       'NAME_EDUCATION_TYPE_Secondary / secondary special',\n",
              "       'NAME_FAMILY_STATUS_Civil marriage', 'NAME_FAMILY_STATUS_Married',\n",
              "       'NAME_FAMILY_STATUS_Separated',\n",
              "       'NAME_FAMILY_STATUS_Single / not married',\n",
              "       'NAME_FAMILY_STATUS_Widow', 'NAME_HOUSING_TYPE_Co-op apartment',\n",
              "       'NAME_HOUSING_TYPE_House / apartment',\n",
              "       'NAME_HOUSING_TYPE_Municipal apartment',\n",
              "       'NAME_HOUSING_TYPE_Office apartment',\n",
              "       'NAME_HOUSING_TYPE_Rented apartment',\n",
              "       'NAME_HOUSING_TYPE_With parents', 'OCCUPATION_TYPE_Accountants',\n",
              "       'OCCUPATION_TYPE_Cleaning staff', 'OCCUPATION_TYPE_Cooking staff',\n",
              "       'OCCUPATION_TYPE_Core staff', 'OCCUPATION_TYPE_Drivers',\n",
              "       'OCCUPATION_TYPE_HR staff',\n",
              "       'OCCUPATION_TYPE_High skill tech staff',\n",
              "       'OCCUPATION_TYPE_IT staff', 'OCCUPATION_TYPE_Laborers',\n",
              "       'OCCUPATION_TYPE_Low-skill Laborers', 'OCCUPATION_TYPE_Managers',\n",
              "       'OCCUPATION_TYPE_Medicine staff',\n",
              "       'OCCUPATION_TYPE_Private service staff',\n",
              "       'OCCUPATION_TYPE_Realty agents', 'OCCUPATION_TYPE_Sales staff',\n",
              "       'OCCUPATION_TYPE_Secretaries', 'OCCUPATION_TYPE_Security staff',\n",
              "       'OCCUPATION_TYPE_Waiters/barmen staff',\n",
              "       'WEEKDAY_APPR_PROCESS_START_FRIDAY',\n",
              "       'WEEKDAY_APPR_PROCESS_START_MONDAY',\n",
              "       'WEEKDAY_APPR_PROCESS_START_SATURDAY',\n",
              "       'WEEKDAY_APPR_PROCESS_START_SUNDAY',\n",
              "       'WEEKDAY_APPR_PROCESS_START_THURSDAY',\n",
              "       'WEEKDAY_APPR_PROCESS_START_TUESDAY',\n",
              "       'WEEKDAY_APPR_PROCESS_START_WEDNESDAY',\n",
              "       'ORGANIZATION_TYPE_Advertising', 'ORGANIZATION_TYPE_Agriculture',\n",
              "       'ORGANIZATION_TYPE_Bank',\n",
              "       'ORGANIZATION_TYPE_Business Entity Type 1',\n",
              "       'ORGANIZATION_TYPE_Business Entity Type 2',\n",
              "       'ORGANIZATION_TYPE_Business Entity Type 3',\n",
              "       'ORGANIZATION_TYPE_Cleaning', 'ORGANIZATION_TYPE_Construction',\n",
              "       'ORGANIZATION_TYPE_Culture', 'ORGANIZATION_TYPE_Electricity',\n",
              "       'ORGANIZATION_TYPE_Emergency', 'ORGANIZATION_TYPE_Government',\n",
              "       'ORGANIZATION_TYPE_Hotel', 'ORGANIZATION_TYPE_Housing',\n",
              "       'ORGANIZATION_TYPE_Industry: type 1',\n",
              "       'ORGANIZATION_TYPE_Industry: type 10',\n",
              "       'ORGANIZATION_TYPE_Industry: type 11',\n",
              "       'ORGANIZATION_TYPE_Industry: type 12',\n",
              "       'ORGANIZATION_TYPE_Industry: type 13',\n",
              "       'ORGANIZATION_TYPE_Industry: type 2',\n",
              "       'ORGANIZATION_TYPE_Industry: type 3',\n",
              "       'ORGANIZATION_TYPE_Industry: type 4',\n",
              "       'ORGANIZATION_TYPE_Industry: type 5',\n",
              "       'ORGANIZATION_TYPE_Industry: type 6',\n",
              "       'ORGANIZATION_TYPE_Industry: type 7',\n",
              "       'ORGANIZATION_TYPE_Industry: type 8',\n",
              "       'ORGANIZATION_TYPE_Industry: type 9',\n",
              "       'ORGANIZATION_TYPE_Insurance', 'ORGANIZATION_TYPE_Kindergarten',\n",
              "       'ORGANIZATION_TYPE_Legal Services', 'ORGANIZATION_TYPE_Medicine',\n",
              "       'ORGANIZATION_TYPE_Military', 'ORGANIZATION_TYPE_Mobile',\n",
              "       'ORGANIZATION_TYPE_Other', 'ORGANIZATION_TYPE_Police',\n",
              "       'ORGANIZATION_TYPE_Postal', 'ORGANIZATION_TYPE_Realtor',\n",
              "       'ORGANIZATION_TYPE_Religion', 'ORGANIZATION_TYPE_Restaurant',\n",
              "       'ORGANIZATION_TYPE_School', 'ORGANIZATION_TYPE_Security',\n",
              "       'ORGANIZATION_TYPE_Security Ministries',\n",
              "       'ORGANIZATION_TYPE_Self-employed', 'ORGANIZATION_TYPE_Services',\n",
              "       'ORGANIZATION_TYPE_Telecom', 'ORGANIZATION_TYPE_Trade: type 1',\n",
              "       'ORGANIZATION_TYPE_Trade: type 2',\n",
              "       'ORGANIZATION_TYPE_Trade: type 3',\n",
              "       'ORGANIZATION_TYPE_Trade: type 4',\n",
              "       'ORGANIZATION_TYPE_Trade: type 5',\n",
              "       'ORGANIZATION_TYPE_Trade: type 6',\n",
              "       'ORGANIZATION_TYPE_Trade: type 7',\n",
              "       'ORGANIZATION_TYPE_Transport: type 1',\n",
              "       'ORGANIZATION_TYPE_Transport: type 2',\n",
              "       'ORGANIZATION_TYPE_Transport: type 3',\n",
              "       'ORGANIZATION_TYPE_Transport: type 4',\n",
              "       'ORGANIZATION_TYPE_University', 'ORGANIZATION_TYPE_XNA',\n",
              "       'FONDKAPREMONT_MODE_not specified',\n",
              "       'FONDKAPREMONT_MODE_org spec account',\n",
              "       'FONDKAPREMONT_MODE_reg oper account',\n",
              "       'FONDKAPREMONT_MODE_reg oper spec account',\n",
              "       'HOUSETYPE_MODE_block of flats', 'HOUSETYPE_MODE_specific housing',\n",
              "       'HOUSETYPE_MODE_terraced house', 'WALLSMATERIAL_MODE_Block',\n",
              "       'WALLSMATERIAL_MODE_Mixed', 'WALLSMATERIAL_MODE_Monolithic',\n",
              "       'WALLSMATERIAL_MODE_Others', 'WALLSMATERIAL_MODE_Panel',\n",
              "       'WALLSMATERIAL_MODE_Stone, brick', 'WALLSMATERIAL_MODE_Wooden',\n",
              "       'EMERGENCYSTATE_MODE_No', 'EMERGENCYSTATE_MODE_Yes'], dtype=object)"
            ]
          },
          "metadata": {},
          "execution_count": 70
        }
      ],
      "source": [
        "application_test_median.columns.values"
      ]
    },
    {
      "cell_type": "markdown",
      "metadata": {
        "id": "d68be146"
      },
      "source": [
        "# Model 1: Logistics Regression"
      ]
    },
    {
      "cell_type": "code",
      "execution_count": null,
      "metadata": {
        "id": "098a095b",
        "outputId": "8f149435-8a6b-4450-8c5f-16d1ba693786",
        "colab": {
          "base_uri": "https://localhost:8080/"
        }
      },
      "outputs": [
        {
          "output_type": "stream",
          "name": "stdout",
          "text": [
            "Training data shape:  (307511, 239)\n",
            "Testing data shape:  (48744, 239)\n"
          ]
        }
      ],
      "source": [
        "from sklearn.preprocessing import MinMaxScaler\n",
        "\n",
        "# Save the labels for training\n",
        "train_labels = application_train['TARGET']\n",
        "\n",
        "# Drop the target from the training data & create a copy of the data\n",
        "if 'TARGET' in application_train_median:\n",
        "    train = application_train_median.drop(columns = ['TARGET'])\n",
        "else:\n",
        "    train = application_train_median.copy()\n",
        "\n",
        "# Feature names\n",
        "features = list(train.columns)\n",
        "\n",
        "# Copy of the testing data\n",
        "test = application_test_median.copy()\n",
        "\n",
        "# Scale each feature to 0-1\n",
        "scaler = MinMaxScaler(feature_range = (0, 1))\n",
        "\n",
        "# Scaling\n",
        "scaler.fit(train)\n",
        "train = scaler.transform(train)\n",
        "test = scaler.transform(test)\n",
        "\n",
        "print('Training data shape: ', train.shape)\n",
        "print('Testing data shape: ', test.shape)"
      ]
    },
    {
      "cell_type": "code",
      "execution_count": null,
      "metadata": {
        "id": "b729072a",
        "outputId": "2f9e44af-0c2f-494e-92d7-a4ae94ea0b08",
        "colab": {
          "base_uri": "https://localhost:8080/",
          "height": 75
        }
      },
      "outputs": [
        {
          "output_type": "execute_result",
          "data": {
            "text/plain": [
              "LogisticRegression(C=0.0001)"
            ],
            "text/html": [
              "<style>#sk-container-id-2 {color: black;background-color: white;}#sk-container-id-2 pre{padding: 0;}#sk-container-id-2 div.sk-toggleable {background-color: white;}#sk-container-id-2 label.sk-toggleable__label {cursor: pointer;display: block;width: 100%;margin-bottom: 0;padding: 0.3em;box-sizing: border-box;text-align: center;}#sk-container-id-2 label.sk-toggleable__label-arrow:before {content: \"▸\";float: left;margin-right: 0.25em;color: #696969;}#sk-container-id-2 label.sk-toggleable__label-arrow:hover:before {color: black;}#sk-container-id-2 div.sk-estimator:hover label.sk-toggleable__label-arrow:before {color: black;}#sk-container-id-2 div.sk-toggleable__content {max-height: 0;max-width: 0;overflow: hidden;text-align: left;background-color: #f0f8ff;}#sk-container-id-2 div.sk-toggleable__content pre {margin: 0.2em;color: black;border-radius: 0.25em;background-color: #f0f8ff;}#sk-container-id-2 input.sk-toggleable__control:checked~div.sk-toggleable__content {max-height: 200px;max-width: 100%;overflow: auto;}#sk-container-id-2 input.sk-toggleable__control:checked~label.sk-toggleable__label-arrow:before {content: \"▾\";}#sk-container-id-2 div.sk-estimator input.sk-toggleable__control:checked~label.sk-toggleable__label {background-color: #d4ebff;}#sk-container-id-2 div.sk-label input.sk-toggleable__control:checked~label.sk-toggleable__label {background-color: #d4ebff;}#sk-container-id-2 input.sk-hidden--visually {border: 0;clip: rect(1px 1px 1px 1px);clip: rect(1px, 1px, 1px, 1px);height: 1px;margin: -1px;overflow: hidden;padding: 0;position: absolute;width: 1px;}#sk-container-id-2 div.sk-estimator {font-family: monospace;background-color: #f0f8ff;border: 1px dotted black;border-radius: 0.25em;box-sizing: border-box;margin-bottom: 0.5em;}#sk-container-id-2 div.sk-estimator:hover {background-color: #d4ebff;}#sk-container-id-2 div.sk-parallel-item::after {content: \"\";width: 100%;border-bottom: 1px solid gray;flex-grow: 1;}#sk-container-id-2 div.sk-label:hover label.sk-toggleable__label {background-color: #d4ebff;}#sk-container-id-2 div.sk-serial::before {content: \"\";position: absolute;border-left: 1px solid gray;box-sizing: border-box;top: 0;bottom: 0;left: 50%;z-index: 0;}#sk-container-id-2 div.sk-serial {display: flex;flex-direction: column;align-items: center;background-color: white;padding-right: 0.2em;padding-left: 0.2em;position: relative;}#sk-container-id-2 div.sk-item {position: relative;z-index: 1;}#sk-container-id-2 div.sk-parallel {display: flex;align-items: stretch;justify-content: center;background-color: white;position: relative;}#sk-container-id-2 div.sk-item::before, #sk-container-id-2 div.sk-parallel-item::before {content: \"\";position: absolute;border-left: 1px solid gray;box-sizing: border-box;top: 0;bottom: 0;left: 50%;z-index: -1;}#sk-container-id-2 div.sk-parallel-item {display: flex;flex-direction: column;z-index: 1;position: relative;background-color: white;}#sk-container-id-2 div.sk-parallel-item:first-child::after {align-self: flex-end;width: 50%;}#sk-container-id-2 div.sk-parallel-item:last-child::after {align-self: flex-start;width: 50%;}#sk-container-id-2 div.sk-parallel-item:only-child::after {width: 0;}#sk-container-id-2 div.sk-dashed-wrapped {border: 1px dashed gray;margin: 0 0.4em 0.5em 0.4em;box-sizing: border-box;padding-bottom: 0.4em;background-color: white;}#sk-container-id-2 div.sk-label label {font-family: monospace;font-weight: bold;display: inline-block;line-height: 1.2em;}#sk-container-id-2 div.sk-label-container {text-align: center;}#sk-container-id-2 div.sk-container {/* jupyter's `normalize.less` sets `[hidden] { display: none; }` but bootstrap.min.css set `[hidden] { display: none !important; }` so we also need the `!important` here to be able to override the default hidden behavior on the sphinx rendered scikit-learn.org. See: https://github.com/scikit-learn/scikit-learn/issues/21755 */display: inline-block !important;position: relative;}#sk-container-id-2 div.sk-text-repr-fallback {display: none;}</style><div id=\"sk-container-id-2\" class=\"sk-top-container\"><div class=\"sk-text-repr-fallback\"><pre>LogisticRegression(C=0.0001)</pre><b>In a Jupyter environment, please rerun this cell to show the HTML representation or trust the notebook. <br />On GitHub, the HTML representation is unable to render, please try loading this page with nbviewer.org.</b></div><div class=\"sk-container\" hidden><div class=\"sk-item\"><div class=\"sk-estimator sk-toggleable\"><input class=\"sk-toggleable__control sk-hidden--visually\" id=\"sk-estimator-id-2\" type=\"checkbox\" checked><label for=\"sk-estimator-id-2\" class=\"sk-toggleable__label sk-toggleable__label-arrow\">LogisticRegression</label><div class=\"sk-toggleable__content\"><pre>LogisticRegression(C=0.0001)</pre></div></div></div></div></div>"
            ]
          },
          "metadata": {},
          "execution_count": 81
        }
      ],
      "source": [
        "from sklearn.linear_model import LogisticRegression\n",
        "\n",
        "# Make the model with the specified regularization parameter\n",
        "log_reg = LogisticRegression(C = 0.0001)\n",
        "\n",
        "# Train on the training data\n",
        "log_reg.fit(train, train_labels)"
      ]
    },
    {
      "cell_type": "code",
      "execution_count": null,
      "metadata": {
        "id": "4db43e5f"
      },
      "outputs": [],
      "source": [
        "# Make predictions\n",
        "# Make sure to select the second column only\n",
        "log_reg_pred = log_reg.predict_proba(test)[:, 1]"
      ]
    },
    {
      "cell_type": "code",
      "source": [
        "roc_auc_score(train_labels, log_reg.predict_proba(train)[:, 1])"
      ],
      "metadata": {
        "colab": {
          "base_uri": "https://localhost:8080/"
        },
        "id": "Oxp_2qvQIFEz",
        "outputId": "cb3069f6-58f3-4fc3-c951-6e2afb45f51a"
      },
      "execution_count": null,
      "outputs": [
        {
          "output_type": "execute_result",
          "data": {
            "text/plain": [
              "0.6906934825376299"
            ]
          },
          "metadata": {},
          "execution_count": 83
        }
      ]
    },
    {
      "cell_type": "code",
      "execution_count": null,
      "metadata": {
        "id": "32f842fe",
        "outputId": "34ac971c-7a5a-4781-e92c-c7dc1b0decb0",
        "colab": {
          "base_uri": "https://localhost:8080/",
          "height": 310
        }
      },
      "outputs": [
        {
          "output_type": "stream",
          "name": "stderr",
          "text": [
            "<ipython-input-84-ac6b0adb25b5>:3: SettingWithCopyWarning: \n",
            "A value is trying to be set on a copy of a slice from a DataFrame.\n",
            "Try using .loc[row_indexer,col_indexer] = value instead\n",
            "\n",
            "See the caveats in the documentation: https://pandas.pydata.org/pandas-docs/stable/user_guide/indexing.html#returning-a-view-versus-a-copy\n",
            "  submit['TARGET'] = log_reg_pred\n"
          ]
        },
        {
          "output_type": "execute_result",
          "data": {
            "text/plain": [
              "   SK_ID_CURR    TARGET\n",
              "0      100001  0.065186\n",
              "1      100005  0.117012\n",
              "2      100013  0.067750\n",
              "3      100028  0.070727\n",
              "4      100038  0.118464"
            ],
            "text/html": [
              "\n",
              "  <div id=\"df-9e4ff3d4-e151-4536-a1b1-36e2e2d22fd4\">\n",
              "    <div class=\"colab-df-container\">\n",
              "      <div>\n",
              "<style scoped>\n",
              "    .dataframe tbody tr th:only-of-type {\n",
              "        vertical-align: middle;\n",
              "    }\n",
              "\n",
              "    .dataframe tbody tr th {\n",
              "        vertical-align: top;\n",
              "    }\n",
              "\n",
              "    .dataframe thead th {\n",
              "        text-align: right;\n",
              "    }\n",
              "</style>\n",
              "<table border=\"1\" class=\"dataframe\">\n",
              "  <thead>\n",
              "    <tr style=\"text-align: right;\">\n",
              "      <th></th>\n",
              "      <th>SK_ID_CURR</th>\n",
              "      <th>TARGET</th>\n",
              "    </tr>\n",
              "  </thead>\n",
              "  <tbody>\n",
              "    <tr>\n",
              "      <th>0</th>\n",
              "      <td>100001</td>\n",
              "      <td>0.065186</td>\n",
              "    </tr>\n",
              "    <tr>\n",
              "      <th>1</th>\n",
              "      <td>100005</td>\n",
              "      <td>0.117012</td>\n",
              "    </tr>\n",
              "    <tr>\n",
              "      <th>2</th>\n",
              "      <td>100013</td>\n",
              "      <td>0.067750</td>\n",
              "    </tr>\n",
              "    <tr>\n",
              "      <th>3</th>\n",
              "      <td>100028</td>\n",
              "      <td>0.070727</td>\n",
              "    </tr>\n",
              "    <tr>\n",
              "      <th>4</th>\n",
              "      <td>100038</td>\n",
              "      <td>0.118464</td>\n",
              "    </tr>\n",
              "  </tbody>\n",
              "</table>\n",
              "</div>\n",
              "      <button class=\"colab-df-convert\" onclick=\"convertToInteractive('df-9e4ff3d4-e151-4536-a1b1-36e2e2d22fd4')\"\n",
              "              title=\"Convert this dataframe to an interactive table.\"\n",
              "              style=\"display:none;\">\n",
              "        \n",
              "  <svg xmlns=\"http://www.w3.org/2000/svg\" height=\"24px\"viewBox=\"0 0 24 24\"\n",
              "       width=\"24px\">\n",
              "    <path d=\"M0 0h24v24H0V0z\" fill=\"none\"/>\n",
              "    <path d=\"M18.56 5.44l.94 2.06.94-2.06 2.06-.94-2.06-.94-.94-2.06-.94 2.06-2.06.94zm-11 1L8.5 8.5l.94-2.06 2.06-.94-2.06-.94L8.5 2.5l-.94 2.06-2.06.94zm10 10l.94 2.06.94-2.06 2.06-.94-2.06-.94-.94-2.06-.94 2.06-2.06.94z\"/><path d=\"M17.41 7.96l-1.37-1.37c-.4-.4-.92-.59-1.43-.59-.52 0-1.04.2-1.43.59L10.3 9.45l-7.72 7.72c-.78.78-.78 2.05 0 2.83L4 21.41c.39.39.9.59 1.41.59.51 0 1.02-.2 1.41-.59l7.78-7.78 2.81-2.81c.8-.78.8-2.07 0-2.86zM5.41 20L4 18.59l7.72-7.72 1.47 1.35L5.41 20z\"/>\n",
              "  </svg>\n",
              "      </button>\n",
              "      \n",
              "  <style>\n",
              "    .colab-df-container {\n",
              "      display:flex;\n",
              "      flex-wrap:wrap;\n",
              "      gap: 12px;\n",
              "    }\n",
              "\n",
              "    .colab-df-convert {\n",
              "      background-color: #E8F0FE;\n",
              "      border: none;\n",
              "      border-radius: 50%;\n",
              "      cursor: pointer;\n",
              "      display: none;\n",
              "      fill: #1967D2;\n",
              "      height: 32px;\n",
              "      padding: 0 0 0 0;\n",
              "      width: 32px;\n",
              "    }\n",
              "\n",
              "    .colab-df-convert:hover {\n",
              "      background-color: #E2EBFA;\n",
              "      box-shadow: 0px 1px 2px rgba(60, 64, 67, 0.3), 0px 1px 3px 1px rgba(60, 64, 67, 0.15);\n",
              "      fill: #174EA6;\n",
              "    }\n",
              "\n",
              "    [theme=dark] .colab-df-convert {\n",
              "      background-color: #3B4455;\n",
              "      fill: #D2E3FC;\n",
              "    }\n",
              "\n",
              "    [theme=dark] .colab-df-convert:hover {\n",
              "      background-color: #434B5C;\n",
              "      box-shadow: 0px 1px 3px 1px rgba(0, 0, 0, 0.15);\n",
              "      filter: drop-shadow(0px 1px 2px rgba(0, 0, 0, 0.3));\n",
              "      fill: #FFFFFF;\n",
              "    }\n",
              "  </style>\n",
              "\n",
              "      <script>\n",
              "        const buttonEl =\n",
              "          document.querySelector('#df-9e4ff3d4-e151-4536-a1b1-36e2e2d22fd4 button.colab-df-convert');\n",
              "        buttonEl.style.display =\n",
              "          google.colab.kernel.accessAllowed ? 'block' : 'none';\n",
              "\n",
              "        async function convertToInteractive(key) {\n",
              "          const element = document.querySelector('#df-9e4ff3d4-e151-4536-a1b1-36e2e2d22fd4');\n",
              "          const dataTable =\n",
              "            await google.colab.kernel.invokeFunction('convertToInteractive',\n",
              "                                                     [key], {});\n",
              "          if (!dataTable) return;\n",
              "\n",
              "          const docLinkHtml = 'Like what you see? Visit the ' +\n",
              "            '<a target=\"_blank\" href=https://colab.research.google.com/notebooks/data_table.ipynb>data table notebook</a>'\n",
              "            + ' to learn more about interactive tables.';\n",
              "          element.innerHTML = '';\n",
              "          dataTable['output_type'] = 'display_data';\n",
              "          await google.colab.output.renderOutput(dataTable, element);\n",
              "          const docLink = document.createElement('div');\n",
              "          docLink.innerHTML = docLinkHtml;\n",
              "          element.appendChild(docLink);\n",
              "        }\n",
              "      </script>\n",
              "    </div>\n",
              "  </div>\n",
              "  "
            ]
          },
          "metadata": {},
          "execution_count": 84
        }
      ],
      "source": [
        "# Submission dataframe\n",
        "submit = application_test_median[['SK_ID_CURR']]\n",
        "submit['TARGET'] = log_reg_pred\n",
        "\n",
        "submit.head()"
      ]
    },
    {
      "cell_type": "code",
      "execution_count": null,
      "metadata": {
        "id": "b0af76b9"
      },
      "outputs": [],
      "source": [
        "# Save the submission to a csv file\n",
        "submit.to_csv('log_reg_baseline.csv', index = False)"
      ]
    },
    {
      "cell_type": "markdown",
      "metadata": {
        "id": "b9cccdf0"
      },
      "source": [
        "# Model 2: Random Forest"
      ]
    },
    {
      "cell_type": "code",
      "source": [
        "from sklearn.metrics import roc_auc_score"
      ],
      "metadata": {
        "id": "TPCTdskqGfBi"
      },
      "execution_count": null,
      "outputs": []
    },
    {
      "cell_type": "code",
      "execution_count": null,
      "metadata": {
        "id": "ddc603a1"
      },
      "outputs": [],
      "source": [
        "from sklearn.ensemble import RandomForestClassifier\n",
        "\n",
        "# Make the random forest classifier\n",
        "random_forest = RandomForestClassifier(n_estimators = 100, random_state = 50, verbose = 1, n_jobs = -1)"
      ]
    },
    {
      "cell_type": "code",
      "execution_count": null,
      "metadata": {
        "id": "86411db5",
        "outputId": "5fda48c1-8d59-40d8-ff26-d1626b979abc",
        "colab": {
          "base_uri": "https://localhost:8080/"
        }
      },
      "outputs": [
        {
          "output_type": "stream",
          "name": "stderr",
          "text": [
            "[Parallel(n_jobs=-1)]: Using backend ThreadingBackend with 2 concurrent workers.\n",
            "[Parallel(n_jobs=-1)]: Done  46 tasks      | elapsed:  1.1min\n",
            "[Parallel(n_jobs=-1)]: Done 100 out of 100 | elapsed:  2.3min finished\n",
            "[Parallel(n_jobs=2)]: Using backend ThreadingBackend with 2 concurrent workers.\n",
            "[Parallel(n_jobs=2)]: Done  46 tasks      | elapsed:    0.6s\n",
            "[Parallel(n_jobs=2)]: Done 100 out of 100 | elapsed:    1.9s finished\n"
          ]
        }
      ],
      "source": [
        "# Train on the training data\n",
        "random_forest.fit(train, train_labels)\n",
        "\n",
        "# Extract feature importances\n",
        "feature_importance_values = random_forest.feature_importances_\n",
        "feature_importances = pd.DataFrame({'feature': features, 'importance': feature_importance_values})\n",
        "\n",
        "# Make predictions on the test data\n",
        "predictions = random_forest.predict_proba(test)[:, 1]"
      ]
    },
    {
      "cell_type": "code",
      "execution_count": null,
      "metadata": {
        "id": "9342cb16",
        "outputId": "361925da-0361-4fd0-d931-a79fc79cc6a8",
        "colab": {
          "base_uri": "https://localhost:8080/"
        }
      },
      "outputs": [
        {
          "output_type": "stream",
          "name": "stderr",
          "text": [
            "<ipython-input-71-0e2f507e5170>:3: SettingWithCopyWarning: \n",
            "A value is trying to be set on a copy of a slice from a DataFrame.\n",
            "Try using .loc[row_indexer,col_indexer] = value instead\n",
            "\n",
            "See the caveats in the documentation: https://pandas.pydata.org/pandas-docs/stable/user_guide/indexing.html#returning-a-view-versus-a-copy\n",
            "  submit['TARGET'] = predictions\n"
          ]
        }
      ],
      "source": [
        "# Make a submission dataframe\n",
        "submit = application_test_median[['SK_ID_CURR']]\n",
        "submit['TARGET'] = predictions\n",
        "\n",
        "# Save the submission dataframe\n",
        "submit.to_csv('random_forest_baseline.csv', index = False)"
      ]
    },
    {
      "cell_type": "markdown",
      "metadata": {
        "id": "1cc87964"
      },
      "source": [
        "#### Plotting feature_importance"
      ]
    },
    {
      "cell_type": "code",
      "execution_count": null,
      "metadata": {
        "id": "0bf45af5"
      },
      "outputs": [],
      "source": [
        "def plot_feature_importances(df):\n",
        "    \"\"\"\n",
        "    Plot importances returned by a model. This can work with any measure of\n",
        "    feature importance provided that higher importance is better.\n",
        "\n",
        "    Args:\n",
        "        df (dataframe): feature importances. Must have the features in a column\n",
        "        called `features` and the importances in a column called `importance\n",
        "\n",
        "    Returns:\n",
        "        shows a plot of the 15 most importance features\n",
        "\n",
        "        df (dataframe): feature importances sorted by importance (highest to lowest)\n",
        "        with a column for normalized importance\n",
        "        \"\"\"\n",
        "\n",
        "    # Sort features according to importance\n",
        "    df = df.sort_values('importance', ascending = False).reset_index()\n",
        "\n",
        "    # Normalize the feature importances to add up to one\n",
        "    df['importance_normalized'] = df['importance'] / df['importance'].sum()\n",
        "\n",
        "    # Make a horizontal bar chart of feature importances\n",
        "    plt.figure(figsize = (10, 6))\n",
        "    ax = plt.subplot()\n",
        "\n",
        "    # Need to reverse the index to plot most important on top\n",
        "    ax.barh(list(reversed(list(df.index[:15]))),\n",
        "            df['importance_normalized'].head(15),\n",
        "            align = 'center', edgecolor = 'k')\n",
        "\n",
        "    # Set the yticks and labels\n",
        "    ax.set_yticks(list(reversed(list(df.index[:15]))))\n",
        "    ax.set_yticklabels(df['feature'].head(15))\n",
        "\n",
        "    # Plot labeling\n",
        "    plt.xlabel('Normalized Importance'); plt.title('Feature Importances')\n",
        "    plt.show()\n",
        "\n",
        "    return df"
      ]
    },
    {
      "cell_type": "code",
      "execution_count": null,
      "metadata": {
        "id": "035c91df",
        "outputId": "a72b87e7-affd-482b-c12a-909e97d8be46",
        "colab": {
          "base_uri": "https://localhost:8080/",
          "height": 573
        }
      },
      "outputs": [
        {
          "output_type": "display_data",
          "data": {
            "text/plain": [
              "<Figure size 1000x600 with 1 Axes>"
            ],
            "image/png": "[encoded data removed]"
          },
          "metadata": {}
        }
      ],
      "source": [
        "feature_importances_sorted = plot_feature_importances(feature_importances)"
      ]
    },
    {
      "cell_type": "markdown",
      "metadata": {
        "id": "3d8fe022"
      },
      "source": [
        "# Model 3: Light Gradient Boosted Machine (LGBM)"
      ]
    },
    {
      "cell_type": "code",
      "execution_count": null,
      "metadata": {
        "id": "c594baf5"
      },
      "outputs": [],
      "source": [
        "from sklearn.model_selection import KFold\n",
        "from sklearn.metrics import roc_auc_score\n",
        "import lightgbm as lgb\n",
        "import gc\n",
        "\n",
        "def model(features, test_features, encoding = 'ohe', n_folds = 5):\n",
        "    # Extract the ids\n",
        "    train_ids = features['SK_ID_CURR']\n",
        "    test_ids = test_features['SK_ID_CURR']\n",
        "\n",
        "    # Extract the labels for training\n",
        "    labels = features['TARGET']\n",
        "\n",
        "    # Remove the ids and target\n",
        "    features = features.drop(columns = ['SK_ID_CURR', 'TARGET'])\n",
        "    test_features = test_features.drop(columns = ['SK_ID_CURR'])\n",
        "\n",
        "    print('Training Data Shape: ', features.shape)\n",
        "    print('Testing Data Shape: ', test_features.shape)\n",
        "\n",
        "    # Extract feature names\n",
        "    feature_names = list(features.columns)\n",
        "\n",
        "    # Convert to np arrays\n",
        "    features = np.array(features)\n",
        "    test_features = np.array(test_features)\n",
        "\n",
        "    # Create the kfold object\n",
        "    k_fold = KFold(n_splits = n_folds, shuffle = True, random_state = 50)\n",
        "\n",
        "    # Empty array for feature importances\n",
        "    feature_importance_values = np.zeros(len(feature_names))\n",
        "\n",
        "    # Empty array for test predictions\n",
        "    test_predictions = np.zeros(test_features.shape[0])\n",
        "\n",
        "    # Empty array for out of fold validation predictions\n",
        "    out_of_fold = np.zeros(features.shape[0])\n",
        "\n",
        "    # Lists for recording validation and training scores\n",
        "    valid_scores = []\n",
        "    train_scores = []\n",
        "\n",
        "    # Iterate through each fold\n",
        "    for train_indices, valid_indices in k_fold.split(features):\n",
        "\n",
        "        # Training data for the fold\n",
        "        train_features, train_labels = features[train_indices], labels[train_indices]\n",
        "        # Validation data for the fold\n",
        "        valid_features, valid_labels = features[valid_indices], labels[valid_indices]\n",
        "\n",
        "        # Create the model\n",
        "        model = lgb.LGBMClassifier(n_estimators=10000, objective = 'binary',\n",
        "                                   class_weight = 'balanced', learning_rate = 0.05,\n",
        "                                   reg_alpha = 0.1, reg_lambda = 0.1,\n",
        "                                   subsample = 0.8, n_jobs = -1, random_state = 50)\n",
        "\n",
        "        # Train the model\n",
        "        model.fit(train_features, train_labels, eval_metric = 'auc',\n",
        "                  eval_set = [(valid_features, valid_labels), (train_features, train_labels)],\n",
        "                  eval_names = ['valid', 'train'],\n",
        "                  early_stopping_rounds = 100, verbose = 200)\n",
        "\n",
        "        # Record the best iteration\n",
        "        best_iteration = model.best_iteration_\n",
        "\n",
        "        # Record the feature importances\n",
        "        feature_importance_values += model.feature_importances_ / k_fold.n_splits\n",
        "\n",
        "        # Make predictions\n",
        "        test_predictions += model.predict_proba(test_features, num_iteration = best_iteration)[:, 1] / k_fold.n_splits\n",
        "\n",
        "        # Record the out of fold predictions\n",
        "        out_of_fold[valid_indices] = model.predict_proba(valid_features, num_iteration = best_iteration)[:, 1]\n",
        "\n",
        "        # Record the best score\n",
        "        valid_score = model.best_score_['valid']['auc']\n",
        "        train_score = model.best_score_['train']['auc']\n",
        "\n",
        "        valid_scores.append(valid_score)\n",
        "        train_scores.append(train_score)\n",
        "\n",
        "        # Clean up memory\n",
        "        gc.enable()\n",
        "        del model, train_features, valid_features\n",
        "        gc.collect()\n",
        "\n",
        "    # Make the submission dataframe\n",
        "    submission = pd.DataFrame({'SK_ID_CURR': test_ids, 'TARGET': test_predictions})\n",
        "\n",
        "    # Make the feature importance dataframe\n",
        "    feature_importances = pd.DataFrame({'feature': feature_names, 'importance': feature_importance_values})\n",
        "\n",
        "    # Overall validation score\n",
        "    valid_auc = roc_auc_score(labels, out_of_fold)\n",
        "\n",
        "    # Add the overall scores to the metrics\n",
        "    valid_scores.append(valid_auc)\n",
        "    train_scores.append(np.mean(train_scores))\n",
        "\n",
        "    # Needed for creating dataframe of validation scores\n",
        "    fold_names = list(range(n_folds))\n",
        "    fold_names.append('overall')\n",
        "\n",
        "    # Dataframe of validation scores\n",
        "    metrics = pd.DataFrame({'fold': fold_names,\n",
        "                            'train': train_scores,\n",
        "                            'valid': valid_scores})\n",
        "\n",
        "    return submission, feature_importances, metrics"
      ]
    },
    {
      "cell_type": "code",
      "execution_count": null,
      "metadata": {
        "scrolled": true,
        "id": "d0182218",
        "outputId": "10b2b97d-73b2-4815-b763-b0c6d8c3d11e",
        "colab": {
          "base_uri": "https://localhost:8080/"
        }
      },
      "outputs": [
        {
          "output_type": "stream",
          "name": "stdout",
          "text": [
            "Training Data Shape:  (307511, 238)\n",
            "Testing Data Shape:  (48744, 238)\n"
          ]
        },
        {
          "output_type": "stream",
          "name": "stderr",
          "text": [
            "/usr/local/lib/python3.10/dist-packages/lightgbm/sklearn.py:726: UserWarning: 'early_stopping_rounds' argument is deprecated and will be removed in a future release of LightGBM. Pass 'early_stopping()' callback via 'callbacks' argument instead.\n",
            "  _log_warning(\"'early_stopping_rounds' argument is deprecated and will be removed in a future release of LightGBM. \"\n",
            "/usr/local/lib/python3.10/dist-packages/lightgbm/sklearn.py:736: UserWarning: 'verbose' argument is deprecated and will be removed in a future release of LightGBM. Pass 'log_evaluation()' callback via 'callbacks' argument instead.\n",
            "  _log_warning(\"'verbose' argument is deprecated and will be removed in a future release of LightGBM. \"\n"
          ]
        },
        {
          "output_type": "stream",
          "name": "stdout",
          "text": [
            "[200]\ttrain's auc: 0.797112\ttrain's binary_logloss: 0.549299\tvalid's auc: 0.754423\tvalid's binary_logloss: 0.56441\n",
            "[400]\ttrain's auc: 0.825901\ttrain's binary_logloss: 0.520906\tvalid's auc: 0.754125\tvalid's binary_logloss: 0.547009\n"
          ]
        },
        {
          "output_type": "stream",
          "name": "stderr",
          "text": [
            "/usr/local/lib/python3.10/dist-packages/lightgbm/sklearn.py:726: UserWarning: 'early_stopping_rounds' argument is deprecated and will be removed in a future release of LightGBM. Pass 'early_stopping()' callback via 'callbacks' argument instead.\n",
            "  _log_warning(\"'early_stopping_rounds' argument is deprecated and will be removed in a future release of LightGBM. \"\n",
            "/usr/local/lib/python3.10/dist-packages/lightgbm/sklearn.py:736: UserWarning: 'verbose' argument is deprecated and will be removed in a future release of LightGBM. Pass 'log_evaluation()' callback via 'callbacks' argument instead.\n",
            "  _log_warning(\"'verbose' argument is deprecated and will be removed in a future release of LightGBM. \"\n"
          ]
        },
        {
          "output_type": "stream",
          "name": "stdout",
          "text": [
            "[200]\ttrain's auc: 0.796539\ttrain's binary_logloss: 0.549872\tvalid's auc: 0.756622\tvalid's binary_logloss: 0.565284\n"
          ]
        },
        {
          "output_type": "stream",
          "name": "stderr",
          "text": [
            "/usr/local/lib/python3.10/dist-packages/lightgbm/sklearn.py:726: UserWarning: 'early_stopping_rounds' argument is deprecated and will be removed in a future release of LightGBM. Pass 'early_stopping()' callback via 'callbacks' argument instead.\n",
            "  _log_warning(\"'early_stopping_rounds' argument is deprecated and will be removed in a future release of LightGBM. \"\n",
            "/usr/local/lib/python3.10/dist-packages/lightgbm/sklearn.py:736: UserWarning: 'verbose' argument is deprecated and will be removed in a future release of LightGBM. Pass 'log_evaluation()' callback via 'callbacks' argument instead.\n",
            "  _log_warning(\"'verbose' argument is deprecated and will be removed in a future release of LightGBM. \"\n"
          ]
        },
        {
          "output_type": "stream",
          "name": "stdout",
          "text": [
            "[200]\ttrain's auc: 0.795395\ttrain's binary_logloss: 0.551413\tvalid's auc: 0.761951\tvalid's binary_logloss: 0.565871\n",
            "[400]\ttrain's auc: 0.825268\ttrain's binary_logloss: 0.522134\tvalid's auc: 0.761126\tvalid's binary_logloss: 0.54806\n"
          ]
        },
        {
          "output_type": "stream",
          "name": "stderr",
          "text": [
            "/usr/local/lib/python3.10/dist-packages/lightgbm/sklearn.py:726: UserWarning: 'early_stopping_rounds' argument is deprecated and will be removed in a future release of LightGBM. Pass 'early_stopping()' callback via 'callbacks' argument instead.\n",
            "  _log_warning(\"'early_stopping_rounds' argument is deprecated and will be removed in a future release of LightGBM. \"\n",
            "/usr/local/lib/python3.10/dist-packages/lightgbm/sklearn.py:736: UserWarning: 'verbose' argument is deprecated and will be removed in a future release of LightGBM. Pass 'log_evaluation()' callback via 'callbacks' argument instead.\n",
            "  _log_warning(\"'verbose' argument is deprecated and will be removed in a future release of LightGBM. \"\n"
          ]
        },
        {
          "output_type": "stream",
          "name": "stdout",
          "text": [
            "[200]\ttrain's auc: 0.796778\ttrain's binary_logloss: 0.550044\tvalid's auc: 0.757081\tvalid's binary_logloss: 0.563614\n"
          ]
        },
        {
          "output_type": "stream",
          "name": "stderr",
          "text": [
            "/usr/local/lib/python3.10/dist-packages/lightgbm/sklearn.py:726: UserWarning: 'early_stopping_rounds' argument is deprecated and will be removed in a future release of LightGBM. Pass 'early_stopping()' callback via 'callbacks' argument instead.\n",
            "  _log_warning(\"'early_stopping_rounds' argument is deprecated and will be removed in a future release of LightGBM. \"\n",
            "/usr/local/lib/python3.10/dist-packages/lightgbm/sklearn.py:736: UserWarning: 'verbose' argument is deprecated and will be removed in a future release of LightGBM. Pass 'log_evaluation()' callback via 'callbacks' argument instead.\n",
            "  _log_warning(\"'verbose' argument is deprecated and will be removed in a future release of LightGBM. \"\n"
          ]
        },
        {
          "output_type": "stream",
          "name": "stdout",
          "text": [
            "[200]\ttrain's auc: 0.796033\ttrain's binary_logloss: 0.550409\tvalid's auc: 0.757841\tvalid's binary_logloss: 0.566377\n",
            "Baseline metrics\n",
            "      fold     train     valid\n",
            "0        0  0.814288  0.754704\n",
            "1        1  0.795745  0.756735\n",
            "2        2  0.811995  0.762360\n",
            "3        3  0.800828  0.757211\n",
            "4        4  0.803323  0.758537\n",
            "5  overall  0.805236  0.757894\n"
          ]
        }
      ],
      "source": [
        "submission, fi, metrics = model(application_train_median, application_test_median)\n",
        "print('Baseline metrics')\n",
        "print(metrics)"
      ]
    },
    {
      "cell_type": "code",
      "execution_count": null,
      "metadata": {
        "id": "2a33c23f",
        "outputId": "b347686c-11c0-440d-a041-a3efcffef8ce",
        "colab": {
          "base_uri": "https://localhost:8080/",
          "height": 573
        }
      },
      "outputs": [
        {
          "output_type": "display_data",
          "data": {
            "text/plain": [
              "<Figure size 1000x600 with 1 Axes>"
            ],
            "image/png": "[encoded data removed]"
          },
          "metadata": {}
        }
      ],
      "source": [
        "feature_importances_sorted_2 = plot_feature_importances(fi)"
      ]
    },
    {
      "cell_type": "code",
      "execution_count": null,
      "metadata": {
        "id": "3cc31522"
      },
      "outputs": [],
      "source": [
        "submission.to_csv('baseline_lgb.csv', index = False)"
      ]
    },
    {
      "cell_type": "markdown",
      "metadata": {
        "id": "08b91441"
      },
      "source": [
        "# Model 3B: Light Gradient Boosted Machine (LGBM) + Engineered Features"
      ]
    },
    {
      "cell_type": "code",
      "execution_count": null,
      "metadata": {
        "id": "8264890d"
      },
      "outputs": [],
      "source": [
        "######## Add engineered features to app_train\n",
        "train_fe_median = application_train_median.copy()"
      ]
    },
    {
      "cell_type": "code",
      "execution_count": null,
      "metadata": {
        "id": "fe4eac74"
      },
      "outputs": [],
      "source": [
        "train_fe_median['CREDIT_TERM'] = app_train_2['CREDIT_TERM']"
      ]
    },
    {
      "cell_type": "code",
      "execution_count": null,
      "metadata": {
        "id": "28974bdb"
      },
      "outputs": [],
      "source": [
        "train_fe_median['ANNUITY_INCOME_TIMES'] = app_train_2['ANNUITY_INCOME_TIMES']"
      ]
    },
    {
      "cell_type": "code",
      "execution_count": null,
      "metadata": {
        "id": "974d989c"
      },
      "outputs": [],
      "source": [
        "######## Add engineered features to app_train\n",
        "test_fe_median = application_test_median.copy()\n",
        "test_fe_median['CREDIT_TERM'] = app_test_2['CREDIT_TERM']\n",
        "test_fe_median['ANNUITY_INCOME_TIMES'] = app_test_2['ANNUITY_INCOME_TIMES']"
      ]
    },
    {
      "cell_type": "code",
      "execution_count": null,
      "metadata": {
        "id": "3b52049f"
      },
      "outputs": [],
      "source": [
        "from sklearn.model_selection import KFold\n",
        "from sklearn.metrics import roc_auc_score\n",
        "import lightgbm as lgb\n",
        "import gc\n",
        "\n",
        "def model(features, test_features, encoding = 'ohe', n_folds = 5):\n",
        "    # Extract the ids\n",
        "    train_ids = features['SK_ID_CURR']\n",
        "    test_ids = test_features['SK_ID_CURR']\n",
        "\n",
        "    # Extract the labels for training\n",
        "    labels = features['TARGET']\n",
        "\n",
        "    # Remove the ids and target\n",
        "    features = features.drop(columns = ['SK_ID_CURR', 'TARGET'])\n",
        "    test_features = test_features.drop(columns = ['SK_ID_CURR'])\n",
        "\n",
        "    print('Training Data Shape: ', features.shape)\n",
        "    print('Testing Data Shape: ', test_features.shape)\n",
        "\n",
        "    # Extract feature names\n",
        "    feature_names = list(features.columns)\n",
        "\n",
        "    # Convert to np arrays\n",
        "    features = np.array(features)\n",
        "    test_features = np.array(test_features)\n",
        "\n",
        "    # Create the kfold object\n",
        "    k_fold = KFold(n_splits = n_folds, shuffle = True, random_state = 50)\n",
        "\n",
        "    # Empty array for feature importances\n",
        "    feature_importance_values = np.zeros(len(feature_names))\n",
        "\n",
        "    # Empty array for test predictions\n",
        "    test_predictions = np.zeros(test_features.shape[0])\n",
        "\n",
        "    # Empty array for out of fold validation predictions\n",
        "    out_of_fold = np.zeros(features.shape[0])\n",
        "\n",
        "    # Lists for recording validation and training scores\n",
        "    valid_scores = []\n",
        "    train_scores = []\n",
        "\n",
        "    # Iterate through each fold\n",
        "    for train_indices, valid_indices in k_fold.split(features):\n",
        "\n",
        "        # Training data for the fold\n",
        "        train_features, train_labels = features[train_indices], labels[train_indices]\n",
        "        # Validation data for the fold\n",
        "        valid_features, valid_labels = features[valid_indices], labels[valid_indices]\n",
        "\n",
        "        # Create the model\n",
        "        model = lgb.LGBMClassifier(n_estimators=10000, objective = 'binary',\n",
        "                                   class_weight = 'balanced', learning_rate = 0.05,\n",
        "                                   reg_alpha = 0.1, reg_lambda = 0.1,\n",
        "                                   subsample = 0.8, n_jobs = -1, random_state = 50)\n",
        "\n",
        "        # Train the model\n",
        "        model.fit(train_features, train_labels, eval_metric = 'auc',\n",
        "                  eval_set = [(valid_features, valid_labels), (train_features, train_labels)],\n",
        "                  eval_names = ['valid', 'train'],\n",
        "                  early_stopping_rounds = 100, verbose = 200)\n",
        "\n",
        "        # Record the best iteration\n",
        "        best_iteration = model.best_iteration_\n",
        "\n",
        "        # Record the feature importances\n",
        "        feature_importance_values += model.feature_importances_ / k_fold.n_splits\n",
        "\n",
        "        # Make predictions\n",
        "        test_predictions += model.predict_proba(test_features, num_iteration = best_iteration)[:, 1] / k_fold.n_splits\n",
        "\n",
        "        # Record the out of fold predictions\n",
        "        out_of_fold[valid_indices] = model.predict_proba(valid_features, num_iteration = best_iteration)[:, 1]\n",
        "\n",
        "        # Record the best score\n",
        "        valid_score = model.best_score_['valid']['auc']\n",
        "        train_score = model.best_score_['train']['auc']\n",
        "\n",
        "        valid_scores.append(valid_score)\n",
        "        train_scores.append(train_score)\n",
        "\n",
        "        # Clean up memory\n",
        "        gc.enable()\n",
        "        del model, train_features, valid_features\n",
        "        gc.collect()\n",
        "\n",
        "    # Make the submission dataframe\n",
        "    submission = pd.DataFrame({'SK_ID_CURR': test_ids, 'TARGET': test_predictions})\n",
        "\n",
        "    # Make the feature importance dataframe\n",
        "    feature_importances = pd.DataFrame({'feature': feature_names, 'importance': feature_importance_values})\n",
        "\n",
        "    # Overall validation score\n",
        "    valid_auc = roc_auc_score(labels, out_of_fold)\n",
        "\n",
        "    # Add the overall scores to the metrics\n",
        "    valid_scores.append(valid_auc)\n",
        "    train_scores.append(np.mean(train_scores))\n",
        "\n",
        "    # Needed for creating dataframe of validation scores\n",
        "    fold_names = list(range(n_folds))\n",
        "    fold_names.append('overall')\n",
        "\n",
        "    # Dataframe of validation scores\n",
        "    metrics = pd.DataFrame({'fold': fold_names,\n",
        "                            'train': train_scores,\n",
        "                            'valid': valid_scores})\n",
        "\n",
        "    return submission, feature_importances, metrics"
      ]
    },
    {
      "cell_type": "code",
      "execution_count": null,
      "metadata": {
        "scrolled": true,
        "id": "7e3e5624",
        "colab": {
          "base_uri": "https://localhost:8080/"
        },
        "outputId": "cbb133bb-87ba-42cd-939a-488ddc6e078c"
      },
      "outputs": [
        {
          "output_type": "stream",
          "name": "stdout",
          "text": [
            "Training Data Shape:  (307511, 240)\n",
            "Testing Data Shape:  (48744, 240)\n"
          ]
        },
        {
          "output_type": "stream",
          "name": "stderr",
          "text": [
            "/usr/local/lib/python3.10/dist-packages/lightgbm/sklearn.py:726: UserWarning: 'early_stopping_rounds' argument is deprecated and will be removed in a future release of LightGBM. Pass 'early_stopping()' callback via 'callbacks' argument instead.\n",
            "  _log_warning(\"'early_stopping_rounds' argument is deprecated and will be removed in a future release of LightGBM. \"\n",
            "/usr/local/lib/python3.10/dist-packages/lightgbm/sklearn.py:736: UserWarning: 'verbose' argument is deprecated and will be removed in a future release of LightGBM. Pass 'log_evaluation()' callback via 'callbacks' argument instead.\n",
            "  _log_warning(\"'verbose' argument is deprecated and will be removed in a future release of LightGBM. \"\n"
          ]
        },
        {
          "output_type": "stream",
          "name": "stdout",
          "text": [
            "[200]\ttrain's auc: 0.802646\ttrain's binary_logloss: 0.543476\tvalid's auc: 0.762173\tvalid's binary_logloss: 0.558369\n"
          ]
        },
        {
          "output_type": "stream",
          "name": "stderr",
          "text": [
            "/usr/local/lib/python3.10/dist-packages/lightgbm/sklearn.py:726: UserWarning: 'early_stopping_rounds' argument is deprecated and will be removed in a future release of LightGBM. Pass 'early_stopping()' callback via 'callbacks' argument instead.\n",
            "  _log_warning(\"'early_stopping_rounds' argument is deprecated and will be removed in a future release of LightGBM. \"\n",
            "/usr/local/lib/python3.10/dist-packages/lightgbm/sklearn.py:736: UserWarning: 'verbose' argument is deprecated and will be removed in a future release of LightGBM. Pass 'log_evaluation()' callback via 'callbacks' argument instead.\n",
            "  _log_warning(\"'verbose' argument is deprecated and will be removed in a future release of LightGBM. \"\n"
          ]
        },
        {
          "output_type": "stream",
          "name": "stdout",
          "text": [
            "[200]\ttrain's auc: 0.802057\ttrain's binary_logloss: 0.544203\tvalid's auc: 0.764004\tvalid's binary_logloss: 0.560028\n",
            "[400]\ttrain's auc: 0.831191\ttrain's binary_logloss: 0.514265\tvalid's auc: 0.764338\tvalid's binary_logloss: 0.542024\n"
          ]
        },
        {
          "output_type": "stream",
          "name": "stderr",
          "text": [
            "/usr/local/lib/python3.10/dist-packages/lightgbm/sklearn.py:726: UserWarning: 'early_stopping_rounds' argument is deprecated and will be removed in a future release of LightGBM. Pass 'early_stopping()' callback via 'callbacks' argument instead.\n",
            "  _log_warning(\"'early_stopping_rounds' argument is deprecated and will be removed in a future release of LightGBM. \"\n",
            "/usr/local/lib/python3.10/dist-packages/lightgbm/sklearn.py:736: UserWarning: 'verbose' argument is deprecated and will be removed in a future release of LightGBM. Pass 'log_evaluation()' callback via 'callbacks' argument instead.\n",
            "  _log_warning(\"'verbose' argument is deprecated and will be removed in a future release of LightGBM. \"\n"
          ]
        },
        {
          "output_type": "stream",
          "name": "stdout",
          "text": [
            "[200]\ttrain's auc: 0.801696\ttrain's binary_logloss: 0.544827\tvalid's auc: 0.769409\tvalid's binary_logloss: 0.559021\n"
          ]
        },
        {
          "output_type": "stream",
          "name": "stderr",
          "text": [
            "/usr/local/lib/python3.10/dist-packages/lightgbm/sklearn.py:726: UserWarning: 'early_stopping_rounds' argument is deprecated and will be removed in a future release of LightGBM. Pass 'early_stopping()' callback via 'callbacks' argument instead.\n",
            "  _log_warning(\"'early_stopping_rounds' argument is deprecated and will be removed in a future release of LightGBM. \"\n",
            "/usr/local/lib/python3.10/dist-packages/lightgbm/sklearn.py:736: UserWarning: 'verbose' argument is deprecated and will be removed in a future release of LightGBM. Pass 'log_evaluation()' callback via 'callbacks' argument instead.\n",
            "  _log_warning(\"'verbose' argument is deprecated and will be removed in a future release of LightGBM. \"\n"
          ]
        },
        {
          "output_type": "stream",
          "name": "stdout",
          "text": [
            "[200]\ttrain's auc: 0.802844\ttrain's binary_logloss: 0.543758\tvalid's auc: 0.764828\tvalid's binary_logloss: 0.557799\n"
          ]
        },
        {
          "output_type": "stream",
          "name": "stderr",
          "text": [
            "/usr/local/lib/python3.10/dist-packages/lightgbm/sklearn.py:726: UserWarning: 'early_stopping_rounds' argument is deprecated and will be removed in a future release of LightGBM. Pass 'early_stopping()' callback via 'callbacks' argument instead.\n",
            "  _log_warning(\"'early_stopping_rounds' argument is deprecated and will be removed in a future release of LightGBM. \"\n",
            "/usr/local/lib/python3.10/dist-packages/lightgbm/sklearn.py:736: UserWarning: 'verbose' argument is deprecated and will be removed in a future release of LightGBM. Pass 'log_evaluation()' callback via 'callbacks' argument instead.\n",
            "  _log_warning(\"'verbose' argument is deprecated and will be removed in a future release of LightGBM. \"\n"
          ]
        },
        {
          "output_type": "stream",
          "name": "stdout",
          "text": [
            "[200]\ttrain's auc: 0.802509\ttrain's binary_logloss: 0.543751\tvalid's auc: 0.76478\tvalid's binary_logloss: 0.560716\n",
            "Baseline metrics\n",
            "      fold     train     valid\n",
            "0        0  0.817120  0.762731\n",
            "1        1  0.826744  0.764709\n",
            "2        2  0.809801  0.769889\n",
            "3        3  0.811744  0.765291\n",
            "4        4  0.814375  0.765349\n",
            "5  overall  0.815957  0.765568\n"
          ]
        }
      ],
      "source": [
        "submission, fi, metrics = model(train_fe_median, test_fe_median)\n",
        "print('Baseline metrics')\n",
        "print(metrics)"
      ]
    },
    {
      "cell_type": "code",
      "execution_count": null,
      "metadata": {
        "scrolled": true,
        "id": "788a9a87",
        "colab": {
          "base_uri": "https://localhost:8080/",
          "height": 573
        },
        "outputId": "6eb9bb48-cabf-4a1f-d8cd-f07d52d4401f"
      },
      "outputs": [
        {
          "output_type": "display_data",
          "data": {
            "text/plain": [
              "<Figure size 1000x600 with 1 Axes>"
            ],
            "image/png": "[encoded data removed]"
          },
          "metadata": {}
        }
      ],
      "source": [
        "feature_importances_sorted_2 = plot_feature_importances(fi)"
      ]
    },
    {
      "cell_type": "code",
      "execution_count": null,
      "metadata": {
        "id": "6d12b9df"
      },
      "outputs": [],
      "source": [
        "submission.to_csv('baseline_lgb_features_engineered.csv', index = False)"
      ]
    }
  ]
}